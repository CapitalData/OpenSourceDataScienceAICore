{
  "nbformat": 4,
  "nbformat_minor": 0,
  "metadata": {
    "colab": {
      "provenance": [],
      "authorship_tag": "ABX9TyOopZnfTZQ9IPj93aMIwunz",
      "include_colab_link": true
    },
    "kernelspec": {
      "name": "python3",
      "display_name": "Python 3"
    },
    "language_info": {
      "name": "python"
    }
  },
  "cells": [
    {
      "cell_type": "markdown",
      "metadata": {
        "id": "view-in-github",
        "colab_type": "text"
      },
      "source": [
        "<a href=\"https://colab.research.google.com/github/CapitalData/OpenSourceDataScienceAICore/blob/main/Session_5_SQL_Security_And_Best_Practices.ipynb\" target=\"_parent\"><img src=\"https://colab.research.google.com/assets/colab-badge.svg\" alt=\"Open In Colab\"/></a>"
      ]
    },
    {
      "cell_type": "markdown",
      "source": [
        "###**Section 5: SQL Security and Best Practices**\n",
        "\n"
      ],
      "metadata": {
        "id": "CoE73aUJYeZa"
      }
    },
    {
      "cell_type": "markdown",
      "source": [
        "----\n",
        "#### **Introduction**"
      ],
      "metadata": {
        "id": "kyA3suQFGuXO"
      }
    },
    {
      "cell_type": "markdown",
      "source": [
        "- **Till our last session, we focused on how to write powerful and optimized SQL ,covering everything from basic queries, advanced joins, window functions, CTEs, optimization techniques, and even stored procedures.**\n",
        "- **We learned how to manipulate and retrieve data efficiently, design scalable queries.**\n",
        "- **Now that we know how to access and work with data, it’s time to take it a step further and learn how to protect it.**.\n",
        "-  **That's why now we will learn about  how to build databases and queries that are not only powerful but also safe, secure, and future-proof**.\n"
      ],
      "metadata": {
        "id": "MxPdXC91Hh-f"
      }
    },
    {
      "cell_type": "markdown",
      "source": [
        "---\n",
        "#### **Learning Objective**"
      ],
      "metadata": {
        "id": "twvMHRC-HG4L"
      }
    },
    {
      "cell_type": "markdown",
      "source": [
        "- Understand why SQL security is critical\n",
        "- SQL Injection and How to Prevent It\n",
        "- User Roles and Permissions Management\n",
        "- Encryption and Data Masking\n",
        "- Backup and Recovery Strategies"
      ],
      "metadata": {
        "id": "8eqIHTvBGuVi"
      }
    },
    {
      "cell_type": "markdown",
      "source": [
        "#### **Why SQL Security is Critical?**"
      ],
      "metadata": {
        "id": "lr7MOIXbKj8N"
      }
    },
    {
      "cell_type": "markdown",
      "source": [
        "1. Data is Extremely Valuable\n",
        "  - Customer information, payment details, medical records — all live inside databases.\n",
        "  - If a database is hacked, sensitive data can be exposed, stolen, or sold.\n",
        "2. SQL Databases Are a Top Target\n",
        "  - Attackers often target SQL databases using techniques like SQL Injection because databases usually contain the core business data.\n",
        "  - A single vulnerable query can expose thousands or millions of records.\n",
        "3. Legal and Compliance Risks\n",
        "  - Laws like GDPR, HIPAA, and CCPA require businesses to protect customer data.\n",
        "  - Data breaches can lead to massive fines, lawsuits, and shutdowns.\n",
        "4. Business Reputation Loss\n",
        "  - Companies that leak customer data lose public trust.\n",
        "  - A damaged reputation can be much harder (and more expensive) to rebuild than paying the fine.\n",
        "5. Preventive Security is Easier and Cheaper\n",
        "  - Building secure databases and writing secure queries is far easier and cheaper than handling a data breach aftermath.\n",
        "  - Proactive security measures protect not only the system but also the company's future.\n",
        "\n"
      ],
      "metadata": {
        "id": "nstn-ArHK-vs"
      }
    },
    {
      "cell_type": "markdown",
      "source": [
        "#### **Common Threats to SQL Security**"
      ],
      "metadata": {
        "id": "kNTZA8HYk44H"
      }
    },
    {
      "cell_type": "markdown",
      "source": [
        "- **SQL Injection**\n",
        "  - Malicious input used to manipulate SQL queries\n",
        "- **Overprivileged Users**\n",
        "  - Users with more access than needed\n",
        "- **Unencrypted Data**\n",
        "  - Plain-text storage or insecure transmission\n",
        "- **Weak Authentication**\n",
        "  - Easy-to-guess or reused credentials\n",
        "- **Lack of Auditing**\n",
        "  - No trace of who accessed or changed data\n",
        "Unsecured Backups\tBackup files stored without protection"
      ],
      "metadata": {
        "id": "szVlfgsl-gm2"
      }
    },
    {
      "cell_type": "markdown",
      "source": [
        "####**Best Practices for SQL Security**"
      ],
      "metadata": {
        "id": "0ajGIobH-_uk"
      }
    },
    {
      "cell_type": "markdown",
      "source": [
        "- **Query Writing**\n",
        "  - Use parameterized queries or prepared statements\n",
        "- **User Access**\n",
        "  - Apply least privilege principle (only needed permissions)\n",
        "- **Passwords**\n",
        "  - Enforce strong, unique passwords\n",
        "- **Encryption**\n",
        "  - Use AES encryption or TLS for sensitive data\n",
        "- **Auditing**\n",
        "  - Enable logs and audit trails\n",
        "- **Backups**\n",
        "  - Store encrypted, tested backups securely\n",
        "- **Roles**\n",
        "  - Create role-based access controls (RBAC)\n",
        "- **Environments**\n",
        "  - Don’t use real data in test/dev environments"
      ],
      "metadata": {
        "id": "AscSJtwf_Dcx"
      }
    },
    {
      "cell_type": "markdown",
      "source": [
        "#### **1. Parameterized Query Writing**"
      ],
      "metadata": {
        "id": "3PBsTdSDSuV3"
      }
    },
    {
      "cell_type": "markdown",
      "source": [
        "**Install MySQL-Python Connector Package**"
      ],
      "metadata": {
        "id": "KC4OOAH2S2w9"
      }
    },
    {
      "cell_type": "code",
      "execution_count": null,
      "metadata": {
        "id": "jlCgOmz4Ydoc",
        "colab": {
          "base_uri": "https://localhost:8080/"
        },
        "outputId": "0f9a0288-4797-4517-cc11-0a95ec0eaa2a"
      },
      "outputs": [
        {
          "output_type": "stream",
          "name": "stdout",
          "text": [
            "Collecting mysql-connector-python\n",
            "  Downloading mysql_connector_python-9.3.0-cp311-cp311-manylinux_2_28_x86_64.whl.metadata (7.2 kB)\n",
            "Downloading mysql_connector_python-9.3.0-cp311-cp311-manylinux_2_28_x86_64.whl (33.9 MB)\n",
            "\u001b[2K   \u001b[90m━━━━━━━━━━━━━━━━━━━━━━━━━━━━━━━━━━━━━━━━\u001b[0m \u001b[32m33.9/33.9 MB\u001b[0m \u001b[31m19.9 MB/s\u001b[0m eta \u001b[36m0:00:00\u001b[0m\n",
            "\u001b[?25hInstalling collected packages: mysql-connector-python\n",
            "Successfully installed mysql-connector-python-9.3.0\n"
          ]
        }
      ],
      "source": [
        "#Installing mysql python connector package\n",
        "!pip install mysql-connector-python"
      ]
    },
    {
      "cell_type": "code",
      "source": [
        "!sudo apt-get clean\n",
        "!sudo apt-get purge mysql*\n",
        "!sudo apt-get update\n",
        "!sudo apt-get install -f\n",
        "!sudo apt-get install mysql-server\n",
        "!sudo apt-get dist-upgrade"
      ],
      "metadata": {
        "colab": {
          "base_uri": "https://localhost:8080/"
        },
        "id": "Ztt1LCJZUu37",
        "outputId": "fd266f1c-752d-4b2d-b6b8-7b4694afbf40"
      },
      "execution_count": null,
      "outputs": [
        {
          "output_type": "stream",
          "name": "stdout",
          "text": [
            "Reading package lists... Done\n",
            "Building dependency tree... Done\n",
            "Reading state information... Done\n",
            "Note, selecting 'mysql-testsuite' for glob 'mysql*'\n",
            "Note, selecting 'mysql-server-5.5' for glob 'mysql*'\n",
            "Note, selecting 'mysql-server-5.6' for glob 'mysql*'\n",
            "Note, selecting 'mysql-server-5.7' for glob 'mysql*'\n",
            "Note, selecting 'mysql-server-8.0' for glob 'mysql*'\n",
            "Note, selecting 'mysql-client-5.5' for glob 'mysql*'\n",
            "Note, selecting 'mysql-client-5.6' for glob 'mysql*'\n",
            "Note, selecting 'mysql-client-5.7' for glob 'mysql*'\n",
            "Note, selecting 'mysql-client-8.0' for glob 'mysql*'\n",
            "Note, selecting 'mysql-common' for glob 'mysql*'\n",
            "Note, selecting 'mysqltcl' for glob 'mysql*'\n",
            "Note, selecting 'mysql-testsuite-5.5' for glob 'mysql*'\n",
            "Note, selecting 'mysql-testsuite-5.6' for glob 'mysql*'\n",
            "Note, selecting 'mysql-testsuite-5.7' for glob 'mysql*'\n",
            "Note, selecting 'mysql-testsuite-8.0' for glob 'mysql*'\n",
            "Note, selecting 'mysql-client' for glob 'mysql*'\n",
            "Note, selecting 'mysql-router' for glob 'mysql*'\n",
            "Note, selecting 'mysql-sandbox' for glob 'mysql*'\n",
            "Note, selecting 'mysqltuner' for glob 'mysql*'\n",
            "Note, selecting 'mysql-common-5.6' for glob 'mysql*'\n",
            "Note, selecting 'mysql-server' for glob 'mysql*'\n",
            "Note, selecting 'mysql-server-core-5.5' for glob 'mysql*'\n",
            "Note, selecting 'mysql-server-core-5.6' for glob 'mysql*'\n",
            "Note, selecting 'mysql-server-core-5.7' for glob 'mysql*'\n",
            "Note, selecting 'mysql-server-core-8.0' for glob 'mysql*'\n",
            "Note, selecting 'mysql-client-core-5.5' for glob 'mysql*'\n",
            "Note, selecting 'mysql-client-core-5.6' for glob 'mysql*'\n",
            "Note, selecting 'mysql-client-core-5.7' for glob 'mysql*'\n",
            "Note, selecting 'mysql-client-core-8.0' for glob 'mysql*'\n",
            "Note, selecting 'mysql-source-8.0' for glob 'mysql*'\n",
            "Package 'mysql-client-5.7' is not installed, so not removed\n",
            "Package 'mysql-client-core-5.7' is not installed, so not removed\n",
            "Note, selecting 'mysql-common' instead of 'mysql-common-5.6'\n",
            "Package 'mysql-server-5.5' is not installed, so not removed\n",
            "Package 'mysql-server-5.7' is not installed, so not removed\n",
            "Package 'mysql-server-core-5.7' is not installed, so not removed\n",
            "Package 'mysql-client-core-5.5' is not installed, so not removed\n",
            "Package 'mysql-client-core-5.6' is not installed, so not removed\n",
            "Package 'mysql-client-5.5' is not installed, so not removed\n",
            "Package 'mysql-client-5.6' is not installed, so not removed\n",
            "Package 'mysql-server-core-5.5' is not installed, so not removed\n",
            "Package 'mysql-server-core-5.6' is not installed, so not removed\n",
            "Package 'mysql-server-5.6' is not installed, so not removed\n",
            "Package 'mysql-testsuite-5.5' is not installed, so not removed\n",
            "Package 'mysql-testsuite-5.6' is not installed, so not removed\n",
            "Package 'mysql-testsuite-5.7' is not installed, so not removed\n",
            "Package 'mysql-sandbox' is not installed, so not removed\n",
            "Package 'mysqltcl' is not installed, so not removed\n",
            "Package 'mysqltuner' is not installed, so not removed\n",
            "Package 'mysql-client' is not installed, so not removed\n",
            "Package 'mysql-client-8.0' is not installed, so not removed\n",
            "Package 'mysql-client-core-8.0' is not installed, so not removed\n",
            "Package 'mysql-server' is not installed, so not removed\n",
            "Package 'mysql-server-8.0' is not installed, so not removed\n",
            "Package 'mysql-server-core-8.0' is not installed, so not removed\n",
            "Package 'mysql-router' is not installed, so not removed\n",
            "Package 'mysql-source-8.0' is not installed, so not removed\n",
            "Package 'mysql-testsuite' is not installed, so not removed\n",
            "Package 'mysql-testsuite-8.0' is not installed, so not removed\n",
            "The following packages were automatically installed and are no longer required:\n",
            "  gdal-data gdal-plugins libaom-dev libarmadillo-dev libarmadillo10 libarpack2\n",
            "  libarpack2-dev libatk-bridge2.0-0 libatk1.0-0 libatk1.0-data libatspi2.0-0\n",
            "  libavcodec-dev libavformat-dev libavutil-dev libblosc-dev libblosc1\n",
            "  libcfitsio-dev libcfitsio9 libcharls2 libdav1d-dev libdc1394-dev libde265-0\n",
            "  libde265-dev libdouble-conversion3 libexif-dev libexif12 libfreexl-dev\n",
            "  libfreexl1 libfyba-dev libfyba0 libgdcm-dev libgdcm3.0 libgeos-c1v5\n",
            "  libgeos-dev libgeos3.11.1 libgeotiff-dev libgeotiff5 libgif-dev libgl2ps1.4\n",
            "  libglew2.2 libgphoto2-6 libgphoto2-dev libgphoto2-port12\n",
            "  libgstreamer-plugins-base1.0-0 libgtk-3-0 libgtk-3-common libhdf4-0-alt\n",
            "  libhdf4-alt-dev libheif-dev libheif1 libilmbase-dev libilmbase25 libjbig-dev\n",
            "  libjson-c-dev libkml-dev libkmlbase1 libkmlconvenience1 libkmldom1\n",
            "  libkmlengine1 libkmlregionator1 libkmlxsd1 liblz4-dev libminizip-dev\n",
            "  libminizip1 libnetcdf-dev libnetcdf19 libodbc2 libodbccr2 libodbcinst2\n",
            "  libogdi-dev libogdi4.1 libopencv-calib3d4.5d libopencv-core-dev\n",
            "  libopencv-core4.5d libopencv-dnn-dev libopencv-dnn4.5d\n",
            "  libopencv-features2d4.5d libopencv-flann-dev libopencv-flann4.5d\n",
            "  libopencv-imgproc-dev libopencv-imgproc4.5d libopencv-ml-dev\n",
            "  libopencv-ml4.5d libopencv-objdetect4.5d libopencv-photo-dev\n",
            "  libopencv-photo4.5d libopencv-shape-dev libopencv-shape4.5d\n",
            "  libopencv-stitching4.5d libopencv-video-dev libopencv-video4.5d\n",
            "  libopencv-viz-dev libopencv-viz4.5d libopenexr-dev libopenexr25\n",
            "  libopenjp2-7-dev liborc-0.4-0 libpoppler-dev libpoppler-private-dev\n",
            "  libpoppler118 libpq-dev libpq5 libproj-dev libproj25 libqhull-dev\n",
            "  libqhull-r8.0 libqhull8.0 libqhullcpp8.0 libraw1394-dev librttopo-dev\n",
            "  librttopo1 libsocket++1 libspatialite-dev libspatialite7 libsqlite3-dev\n",
            "  libsuperlu-dev libsuperlu5 libswresample-dev libswscale-dev libtbb-dev\n",
            "  libtbb12 libtbbmalloc2 libtiff-dev libtiffxx5 liburiparser-dev liburiparser1\n",
            "  libvtk9.1 libwebp-dev libx265-dev libxcomposite1 libxerces-c-dev\n",
            "  libxerces-c3.2 proj-data unixodbc-common unixodbc-dev\n",
            "Use 'sudo apt autoremove' to remove them.\n",
            "The following packages will be REMOVED:\n",
            "  default-libmysqlclient-dev* libgdal-dev* libgdal32* libmysqlclient-dev*\n",
            "  libmysqlclient21* libopencv-calib3d-dev* libopencv-contrib-dev*\n",
            "  libopencv-contrib4.5d* libopencv-dev* libopencv-features2d-dev*\n",
            "  libopencv-highgui-dev* libopencv-highgui4.5d* libopencv-imgcodecs-dev*\n",
            "  libopencv-imgcodecs4.5d* libopencv-objdetect-dev* libopencv-stitching-dev*\n",
            "  libopencv-superres-dev* libopencv-superres4.5d* libopencv-videoio-dev*\n",
            "  libopencv-videoio4.5d* libopencv-videostab-dev* libopencv-videostab4.5d*\n",
            "  mysql-common*\n",
            "0 upgraded, 0 newly installed, 23 to remove and 34 not upgraded.\n",
            "After this operation, 95.4 MB disk space will be freed.\n",
            "(Reading database ... 126101 files and directories currently installed.)\n",
            "Removing libgdal-dev (3.6.4+dfsg-1~jammy0) ...\n",
            "Removing default-libmysqlclient-dev:amd64 (1.0.8) ...\n",
            "Removing libopencv-dev (4.5.4+dfsg-9ubuntu4+jammy0) ...\n",
            "Removing libopencv-contrib-dev:amd64 (4.5.4+dfsg-9ubuntu4+jammy0) ...\n",
            "Removing libopencv-superres-dev:amd64 (4.5.4+dfsg-9ubuntu4+jammy0) ...\n",
            "Removing libopencv-videostab-dev:amd64 (4.5.4+dfsg-9ubuntu4+jammy0) ...\n",
            "Removing libopencv-videostab4.5d:amd64 (4.5.4+dfsg-9ubuntu4+jammy0) ...\n",
            "Removing libmysqlclient-dev (8.0.41-0ubuntu0.22.04.1) ...\n",
            "Removing libopencv-stitching-dev:amd64 (4.5.4+dfsg-9ubuntu4+jammy0) ...\n",
            "Removing libopencv-calib3d-dev:amd64 (4.5.4+dfsg-9ubuntu4+jammy0) ...\n",
            "Removing libopencv-superres4.5d:amd64 (4.5.4+dfsg-9ubuntu4+jammy0) ...\n",
            "Removing libopencv-contrib4.5d:amd64 (4.5.4+dfsg-9ubuntu4+jammy0) ...\n",
            "Removing libopencv-features2d-dev:amd64 (4.5.4+dfsg-9ubuntu4+jammy0) ...\n",
            "Removing libopencv-objdetect-dev:amd64 (4.5.4+dfsg-9ubuntu4+jammy0) ...\n",
            "Removing libopencv-highgui-dev:amd64 (4.5.4+dfsg-9ubuntu4+jammy0) ...\n",
            "Removing libopencv-highgui4.5d:amd64 (4.5.4+dfsg-9ubuntu4+jammy0) ...\n",
            "Removing libopencv-videoio-dev:amd64 (4.5.4+dfsg-9ubuntu4+jammy0) ...\n",
            "Removing libopencv-imgcodecs-dev:amd64 (4.5.4+dfsg-9ubuntu4+jammy0) ...\n",
            "Removing libopencv-videoio4.5d:amd64 (4.5.4+dfsg-9ubuntu4+jammy0) ...\n",
            "Removing libopencv-imgcodecs4.5d:amd64 (4.5.4+dfsg-9ubuntu4+jammy0) ...\n",
            "Removing libgdal32 (3.6.4+dfsg-1~jammy0) ...\n",
            "Removing libmysqlclient21:amd64 (8.0.41-0ubuntu0.22.04.1) ...\n",
            "Removing mysql-common (5.8+1.0.8) ...\n",
            "Processing triggers for man-db (2.10.2-1) ...\n",
            "Processing triggers for libc-bin (2.35-0ubuntu3.8) ...\n",
            "/sbin/ldconfig.real: /usr/local/lib/libtbbbind_2_0.so.3 is not a symbolic link\n",
            "\n",
            "/sbin/ldconfig.real: /usr/local/lib/libtcm_debug.so.1 is not a symbolic link\n",
            "\n",
            "/sbin/ldconfig.real: /usr/local/lib/libur_adapter_level_zero.so.0 is not a symbolic link\n",
            "\n",
            "/sbin/ldconfig.real: /usr/local/lib/libtbbmalloc.so.2 is not a symbolic link\n",
            "\n",
            "/sbin/ldconfig.real: /usr/local/lib/libumf.so.0 is not a symbolic link\n",
            "\n",
            "/sbin/ldconfig.real: /usr/local/lib/libtbbmalloc_proxy.so.2 is not a symbolic link\n",
            "\n",
            "/sbin/ldconfig.real: /usr/local/lib/libhwloc.so.15 is not a symbolic link\n",
            "\n",
            "/sbin/ldconfig.real: /usr/local/lib/libtbb.so.12 is not a symbolic link\n",
            "\n",
            "/sbin/ldconfig.real: /usr/local/lib/libtcm.so.1 is not a symbolic link\n",
            "\n",
            "/sbin/ldconfig.real: /usr/local/lib/libur_loader.so.0 is not a symbolic link\n",
            "\n",
            "/sbin/ldconfig.real: /usr/local/lib/libtbbbind.so.3 is not a symbolic link\n",
            "\n",
            "/sbin/ldconfig.real: /usr/local/lib/libur_adapter_opencl.so.0 is not a symbolic link\n",
            "\n",
            "/sbin/ldconfig.real: /usr/local/lib/libtbbbind_2_5.so.3 is not a symbolic link\n",
            "\n",
            "(Reading database ... 125432 files and directories currently installed.)\n",
            "Purging configuration files for mysql-common (5.8+1.0.8) ...\n",
            "Get:1 https://cloud.r-project.org/bin/linux/ubuntu jammy-cran40/ InRelease [3,632 B]\n",
            "Get:2 https://developer.download.nvidia.com/compute/cuda/repos/ubuntu2204/x86_64  InRelease [1,581 B]\n",
            "Get:3 https://r2u.stat.illinois.edu/ubuntu jammy InRelease [6,555 B]\n",
            "Get:4 https://cloud.r-project.org/bin/linux/ubuntu jammy-cran40/ Packages [77.5 kB]\n",
            "Get:5 https://developer.download.nvidia.com/compute/cuda/repos/ubuntu2204/x86_64  Packages [1,659 kB]\n",
            "Hit:6 https://ppa.launchpadcontent.net/deadsnakes/ppa/ubuntu jammy InRelease\n",
            "Get:7 http://security.ubuntu.com/ubuntu jammy-security InRelease [129 kB]\n",
            "Hit:8 http://archive.ubuntu.com/ubuntu jammy InRelease\n",
            "Hit:9 https://ppa.launchpadcontent.net/graphics-drivers/ppa/ubuntu jammy InRelease\n",
            "Hit:10 https://ppa.launchpadcontent.net/ubuntugis/ppa/ubuntu jammy InRelease\n",
            "Get:11 https://r2u.stat.illinois.edu/ubuntu jammy/main amd64 Packages [2,719 kB]\n",
            "Get:12 http://archive.ubuntu.com/ubuntu jammy-updates InRelease [128 kB]\n",
            "Get:13 https://r2u.stat.illinois.edu/ubuntu jammy/main all Packages [8,911 kB]\n",
            "Get:14 http://archive.ubuntu.com/ubuntu jammy-backports InRelease [127 kB]\n",
            "Get:15 http://security.ubuntu.com/ubuntu jammy-security/restricted amd64 Packages [4,266 kB]\n",
            "Get:16 http://archive.ubuntu.com/ubuntu jammy-updates/main amd64 Packages [3,200 kB]\n",
            "Get:17 http://archive.ubuntu.com/ubuntu jammy-updates/universe amd64 Packages [1,544 kB]\n",
            "Get:18 http://security.ubuntu.com/ubuntu jammy-security/multiverse amd64 Packages [47.7 kB]\n",
            "Get:19 http://security.ubuntu.com/ubuntu jammy-security/universe amd64 Packages [1,245 kB]\n",
            "Get:20 http://security.ubuntu.com/ubuntu jammy-security/main amd64 Packages [2,893 kB]\n",
            "Fetched 27.0 MB in 5s (5,306 kB/s)\n",
            "Reading package lists... Done\n",
            "W: Skipping acquire of configured file 'main/source/Sources' as repository 'https://r2u.stat.illinois.edu/ubuntu jammy InRelease' does not seem to provide it (sources.list entry misspelt?)\n",
            "Reading package lists... Done\n",
            "Building dependency tree... Done\n",
            "Reading state information... Done\n",
            "The following packages were automatically installed and are no longer required:\n",
            "  gdal-data gdal-plugins libaom-dev libarmadillo-dev libarmadillo10 libarpack2\n",
            "  libarpack2-dev libatk-bridge2.0-0 libatk1.0-0 libatk1.0-data libatspi2.0-0\n",
            "  libavcodec-dev libavformat-dev libavutil-dev libblosc-dev libblosc1\n",
            "  libcfitsio-dev libcfitsio9 libcharls2 libdav1d-dev libdc1394-dev libde265-0\n",
            "  libde265-dev libdouble-conversion3 libexif-dev libexif12 libfreexl-dev\n",
            "  libfreexl1 libfyba-dev libfyba0 libgdcm-dev libgdcm3.0 libgeos-c1v5\n",
            "  libgeos-dev libgeos3.11.1 libgeotiff-dev libgeotiff5 libgif-dev libgl2ps1.4\n",
            "  libglew2.2 libgphoto2-6 libgphoto2-dev libgphoto2-port12\n",
            "  libgstreamer-plugins-base1.0-0 libgtk-3-0 libgtk-3-common libhdf4-0-alt\n",
            "  libhdf4-alt-dev libheif-dev libheif1 libilmbase-dev libilmbase25 libjbig-dev\n",
            "  libjson-c-dev libkml-dev libkmlbase1 libkmlconvenience1 libkmldom1\n",
            "  libkmlengine1 libkmlregionator1 libkmlxsd1 liblz4-dev libminizip-dev\n",
            "  libminizip1 libnetcdf-dev libnetcdf19 libodbc2 libodbccr2 libodbcinst2\n",
            "  libogdi-dev libogdi4.1 libopencv-calib3d4.5d libopencv-core-dev\n",
            "  libopencv-core4.5d libopencv-dnn-dev libopencv-dnn4.5d\n",
            "  libopencv-features2d4.5d libopencv-flann-dev libopencv-flann4.5d\n",
            "  libopencv-imgproc-dev libopencv-imgproc4.5d libopencv-ml-dev\n",
            "  libopencv-ml4.5d libopencv-objdetect4.5d libopencv-photo-dev\n",
            "  libopencv-photo4.5d libopencv-shape-dev libopencv-shape4.5d\n",
            "  libopencv-stitching4.5d libopencv-video-dev libopencv-video4.5d\n",
            "  libopencv-viz-dev libopencv-viz4.5d libopenexr-dev libopenexr25\n",
            "  libopenjp2-7-dev liborc-0.4-0 libpoppler-dev libpoppler-private-dev\n",
            "  libpoppler118 libpq-dev libpq5 libproj-dev libproj25 libqhull-dev\n",
            "  libqhull-r8.0 libqhull8.0 libqhullcpp8.0 libraw1394-dev librttopo-dev\n",
            "  librttopo1 libsocket++1 libspatialite-dev libspatialite7 libsqlite3-dev\n",
            "  libsuperlu-dev libsuperlu5 libswresample-dev libswscale-dev libtbb-dev\n",
            "  libtbb12 libtbbmalloc2 libtiff-dev libtiffxx5 liburiparser-dev liburiparser1\n",
            "  libvtk9.1 libwebp-dev libx265-dev libxcomposite1 libxerces-c-dev\n",
            "  libxerces-c3.2 proj-data unixodbc-common unixodbc-dev\n",
            "Use 'sudo apt autoremove' to remove them.\n",
            "0 upgraded, 0 newly installed, 0 to remove and 40 not upgraded.\n",
            "Reading package lists... Done\n",
            "Building dependency tree... Done\n",
            "Reading state information... Done\n",
            "The following packages were automatically installed and are no longer required:\n",
            "  gdal-data gdal-plugins libaom-dev libarmadillo-dev libarmadillo10 libarpack2\n",
            "  libarpack2-dev libatk-bridge2.0-0 libatk1.0-0 libatk1.0-data libatspi2.0-0\n",
            "  libavcodec-dev libavformat-dev libavutil-dev libblosc-dev libblosc1\n",
            "  libcfitsio-dev libcfitsio9 libcharls2 libdav1d-dev libdc1394-dev libde265-0\n",
            "  libde265-dev libdouble-conversion3 libexif-dev libexif12 libfreexl-dev\n",
            "  libfreexl1 libfyba-dev libfyba0 libgdcm-dev libgdcm3.0 libgeos-c1v5\n",
            "  libgeos-dev libgeos3.11.1 libgeotiff-dev libgeotiff5 libgif-dev libgl2ps1.4\n",
            "  libglew2.2 libgphoto2-6 libgphoto2-dev libgphoto2-port12\n",
            "  libgstreamer-plugins-base1.0-0 libgtk-3-0 libgtk-3-common libhdf4-0-alt\n",
            "  libhdf4-alt-dev libheif-dev libheif1 libilmbase-dev libilmbase25 libjbig-dev\n",
            "  libjson-c-dev libkml-dev libkmlbase1 libkmlconvenience1 libkmldom1\n",
            "  libkmlengine1 libkmlregionator1 libkmlxsd1 liblz4-dev libminizip-dev\n",
            "  libminizip1 libnetcdf-dev libnetcdf19 libodbc2 libodbccr2 libodbcinst2\n",
            "  libogdi-dev libogdi4.1 libopencv-calib3d4.5d libopencv-core-dev\n",
            "  libopencv-core4.5d libopencv-dnn-dev libopencv-dnn4.5d\n",
            "  libopencv-features2d4.5d libopencv-flann-dev libopencv-flann4.5d\n",
            "  libopencv-imgproc-dev libopencv-imgproc4.5d libopencv-ml-dev\n",
            "  libopencv-ml4.5d libopencv-objdetect4.5d libopencv-photo-dev\n",
            "  libopencv-photo4.5d libopencv-shape-dev libopencv-shape4.5d\n",
            "  libopencv-stitching4.5d libopencv-video-dev libopencv-video4.5d\n",
            "  libopencv-viz-dev libopencv-viz4.5d libopenexr-dev libopenexr25\n",
            "  libopenjp2-7-dev liborc-0.4-0 libpoppler-dev libpoppler-private-dev\n",
            "  libpoppler118 libpq-dev libpq5 libproj-dev libproj25 libqhull-dev\n",
            "  libqhull-r8.0 libqhull8.0 libqhullcpp8.0 libraw1394-dev librttopo-dev\n",
            "  librttopo1 libsocket++1 libspatialite-dev libspatialite7 libsqlite3-dev\n",
            "  libsuperlu-dev libsuperlu5 libswresample-dev libswscale-dev libtbb-dev\n",
            "  libtbb12 libtbbmalloc2 libtiff-dev libtiffxx5 liburiparser-dev liburiparser1\n",
            "  libvtk9.1 libwebp-dev libx265-dev libxcomposite1 libxerces-c-dev\n",
            "  libxerces-c3.2 proj-data unixodbc-common unixodbc-dev\n",
            "Use 'sudo apt autoremove' to remove them.\n",
            "The following additional packages will be installed:\n",
            "  libcgi-fast-perl libcgi-pm-perl libclone-perl libencode-locale-perl\n",
            "  libfcgi-bin libfcgi-perl libfcgi0ldbl libhtml-parser-perl\n",
            "  libhtml-tagset-perl libhtml-template-perl libhttp-date-perl\n",
            "  libhttp-message-perl libio-html-perl liblwp-mediatypes-perl libmecab2\n",
            "  libprotobuf-lite23 liburi-perl mecab-ipadic mecab-ipadic-utf8 mecab-utils\n",
            "  mysql-client-8.0 mysql-client-core-8.0 mysql-common mysql-server-8.0\n",
            "  mysql-server-core-8.0\n",
            "Suggested packages:\n",
            "  libdata-dump-perl libipc-sharedcache-perl libbusiness-isbn-perl libwww-perl\n",
            "  mailx tinyca\n",
            "The following NEW packages will be installed:\n",
            "  libcgi-fast-perl libcgi-pm-perl libclone-perl libencode-locale-perl\n",
            "  libfcgi-bin libfcgi-perl libfcgi0ldbl libhtml-parser-perl\n",
            "  libhtml-tagset-perl libhtml-template-perl libhttp-date-perl\n",
            "  libhttp-message-perl libio-html-perl liblwp-mediatypes-perl libmecab2\n",
            "  libprotobuf-lite23 liburi-perl mecab-ipadic mecab-ipadic-utf8 mecab-utils\n",
            "  mysql-client-8.0 mysql-client-core-8.0 mysql-common mysql-server\n",
            "  mysql-server-8.0 mysql-server-core-8.0\n",
            "0 upgraded, 26 newly installed, 0 to remove and 40 not upgraded.\n",
            "Need to get 29.6 MB of archives.\n",
            "After this operation, 243 MB of additional disk space will be used.\n",
            "Get:1 http://archive.ubuntu.com/ubuntu jammy/main amd64 mysql-common all 5.8+1.0.8 [7,212 B]\n",
            "Get:2 http://archive.ubuntu.com/ubuntu jammy-updates/main amd64 mysql-client-core-8.0 amd64 8.0.41-0ubuntu0.22.04.1 [2,716 kB]\n",
            "Get:3 http://archive.ubuntu.com/ubuntu jammy-updates/main amd64 mysql-client-8.0 amd64 8.0.41-0ubuntu0.22.04.1 [22.7 kB]\n",
            "Get:4 http://archive.ubuntu.com/ubuntu jammy/main amd64 libmecab2 amd64 0.996-14build9 [199 kB]\n",
            "Get:5 http://archive.ubuntu.com/ubuntu jammy-updates/main amd64 libprotobuf-lite23 amd64 3.12.4-1ubuntu7.22.04.2 [209 kB]\n",
            "Get:6 http://archive.ubuntu.com/ubuntu jammy-updates/main amd64 mysql-server-core-8.0 amd64 8.0.41-0ubuntu0.22.04.1 [17.6 MB]\n",
            "Get:7 http://archive.ubuntu.com/ubuntu jammy-updates/main amd64 mysql-server-8.0 amd64 8.0.41-0ubuntu0.22.04.1 [1,443 kB]\n",
            "Get:8 http://archive.ubuntu.com/ubuntu jammy/main amd64 libhtml-tagset-perl all 3.20-4 [12.5 kB]\n",
            "Get:9 http://archive.ubuntu.com/ubuntu jammy/main amd64 liburi-perl all 5.10-1 [78.8 kB]\n",
            "Get:10 http://archive.ubuntu.com/ubuntu jammy/main amd64 libhtml-parser-perl amd64 3.76-1build2 [88.4 kB]\n",
            "Get:11 http://archive.ubuntu.com/ubuntu jammy/main amd64 libcgi-pm-perl all 4.54-1 [188 kB]\n",
            "Get:12 http://archive.ubuntu.com/ubuntu jammy/main amd64 libfcgi0ldbl amd64 2.4.2-2build2 [28.0 kB]\n",
            "Get:13 http://archive.ubuntu.com/ubuntu jammy/main amd64 libfcgi-perl amd64 0.82+ds-1build1 [22.8 kB]\n",
            "Get:14 http://archive.ubuntu.com/ubuntu jammy/main amd64 libcgi-fast-perl all 1:2.15-1 [10.5 kB]\n",
            "Get:15 http://archive.ubuntu.com/ubuntu jammy/main amd64 libclone-perl amd64 0.45-1build3 [11.0 kB]\n",
            "Get:16 http://archive.ubuntu.com/ubuntu jammy/main amd64 libencode-locale-perl all 1.05-1.1 [11.8 kB]\n",
            "Get:17 http://archive.ubuntu.com/ubuntu jammy/main amd64 libfcgi-bin amd64 2.4.2-2build2 [11.2 kB]\n",
            "Get:18 http://archive.ubuntu.com/ubuntu jammy/main amd64 libhtml-template-perl all 2.97-1.1 [59.1 kB]\n",
            "Get:19 http://archive.ubuntu.com/ubuntu jammy/main amd64 libhttp-date-perl all 6.05-1 [9,920 B]\n",
            "Get:20 http://archive.ubuntu.com/ubuntu jammy/main amd64 libio-html-perl all 1.004-2 [15.4 kB]\n",
            "Get:21 http://archive.ubuntu.com/ubuntu jammy/main amd64 liblwp-mediatypes-perl all 6.04-1 [19.5 kB]\n",
            "Get:22 http://archive.ubuntu.com/ubuntu jammy/main amd64 libhttp-message-perl all 6.36-1 [76.8 kB]\n",
            "Get:23 http://archive.ubuntu.com/ubuntu jammy/main amd64 mecab-utils amd64 0.996-14build9 [4,850 B]\n",
            "Get:24 http://archive.ubuntu.com/ubuntu jammy/main amd64 mecab-ipadic all 2.7.0-20070801+main-3 [6,718 kB]\n",
            "Get:25 http://archive.ubuntu.com/ubuntu jammy/main amd64 mecab-ipadic-utf8 all 2.7.0-20070801+main-3 [4,384 B]\n",
            "Get:26 http://archive.ubuntu.com/ubuntu jammy-updates/main amd64 mysql-server all 8.0.41-0ubuntu0.22.04.1 [9,460 B]\n",
            "Fetched 29.6 MB in 5s (5,914 kB/s)\n",
            "debconf: unable to initialize frontend: Dialog\n",
            "debconf: (No usable dialog-like program is installed, so the dialog based frontend cannot be used. at /usr/share/perl5/Debconf/FrontEnd/Dialog.pm line 78, <> line 26.)\n",
            "debconf: falling back to frontend: Readline\n",
            "debconf: unable to initialize frontend: Readline\n",
            "debconf: (This frontend requires a controlling tty.)\n",
            "debconf: falling back to frontend: Teletype\n",
            "dpkg-preconfigure: unable to re-open stdin: \n",
            "Selecting previously unselected package mysql-common.\n",
            "(Reading database ... 125427 files and directories currently installed.)\n",
            "Preparing to unpack .../0-mysql-common_5.8+1.0.8_all.deb ...\n",
            "Unpacking mysql-common (5.8+1.0.8) ...\n",
            "Selecting previously unselected package mysql-client-core-8.0.\n",
            "Preparing to unpack .../1-mysql-client-core-8.0_8.0.41-0ubuntu0.22.04.1_amd64.deb ...\n",
            "Unpacking mysql-client-core-8.0 (8.0.41-0ubuntu0.22.04.1) ...\n",
            "Selecting previously unselected package mysql-client-8.0.\n",
            "Preparing to unpack .../2-mysql-client-8.0_8.0.41-0ubuntu0.22.04.1_amd64.deb ...\n",
            "Unpacking mysql-client-8.0 (8.0.41-0ubuntu0.22.04.1) ...\n",
            "Selecting previously unselected package libmecab2:amd64.\n",
            "Preparing to unpack .../3-libmecab2_0.996-14build9_amd64.deb ...\n",
            "Unpacking libmecab2:amd64 (0.996-14build9) ...\n",
            "Selecting previously unselected package libprotobuf-lite23:amd64.\n",
            "Preparing to unpack .../4-libprotobuf-lite23_3.12.4-1ubuntu7.22.04.2_amd64.deb ...\n",
            "Unpacking libprotobuf-lite23:amd64 (3.12.4-1ubuntu7.22.04.2) ...\n",
            "Selecting previously unselected package mysql-server-core-8.0.\n",
            "Preparing to unpack .../5-mysql-server-core-8.0_8.0.41-0ubuntu0.22.04.1_amd64.deb ...\n",
            "Unpacking mysql-server-core-8.0 (8.0.41-0ubuntu0.22.04.1) ...\n",
            "Setting up mysql-common (5.8+1.0.8) ...\n",
            "update-alternatives: using /etc/mysql/my.cnf.fallback to provide /etc/mysql/my.cnf (my.cnf) in auto mode\n",
            "Selecting previously unselected package mysql-server-8.0.\n",
            "(Reading database ... 125636 files and directories currently installed.)\n",
            "Preparing to unpack .../00-mysql-server-8.0_8.0.41-0ubuntu0.22.04.1_amd64.deb ...\n",
            "debconf: unable to initialize frontend: Dialog\n",
            "debconf: (No usable dialog-like program is installed, so the dialog based frontend cannot be used. at /usr/share/perl5/Debconf/FrontEnd/Dialog.pm line 78.)\n",
            "debconf: falling back to frontend: Readline\n",
            "Unpacking mysql-server-8.0 (8.0.41-0ubuntu0.22.04.1) ...\n",
            "Selecting previously unselected package libhtml-tagset-perl.\n",
            "Preparing to unpack .../01-libhtml-tagset-perl_3.20-4_all.deb ...\n",
            "Unpacking libhtml-tagset-perl (3.20-4) ...\n",
            "Selecting previously unselected package liburi-perl.\n",
            "Preparing to unpack .../02-liburi-perl_5.10-1_all.deb ...\n",
            "Unpacking liburi-perl (5.10-1) ...\n",
            "Selecting previously unselected package libhtml-parser-perl:amd64.\n",
            "Preparing to unpack .../03-libhtml-parser-perl_3.76-1build2_amd64.deb ...\n",
            "Unpacking libhtml-parser-perl:amd64 (3.76-1build2) ...\n",
            "Selecting previously unselected package libcgi-pm-perl.\n",
            "Preparing to unpack .../04-libcgi-pm-perl_4.54-1_all.deb ...\n",
            "Unpacking libcgi-pm-perl (4.54-1) ...\n",
            "Selecting previously unselected package libfcgi0ldbl:amd64.\n",
            "Preparing to unpack .../05-libfcgi0ldbl_2.4.2-2build2_amd64.deb ...\n",
            "Unpacking libfcgi0ldbl:amd64 (2.4.2-2build2) ...\n",
            "Selecting previously unselected package libfcgi-perl:amd64.\n",
            "Preparing to unpack .../06-libfcgi-perl_0.82+ds-1build1_amd64.deb ...\n",
            "Unpacking libfcgi-perl:amd64 (0.82+ds-1build1) ...\n",
            "Selecting previously unselected package libcgi-fast-perl.\n",
            "Preparing to unpack .../07-libcgi-fast-perl_1%3a2.15-1_all.deb ...\n",
            "Unpacking libcgi-fast-perl (1:2.15-1) ...\n",
            "Selecting previously unselected package libclone-perl.\n",
            "Preparing to unpack .../08-libclone-perl_0.45-1build3_amd64.deb ...\n",
            "Unpacking libclone-perl (0.45-1build3) ...\n",
            "Selecting previously unselected package libencode-locale-perl.\n",
            "Preparing to unpack .../09-libencode-locale-perl_1.05-1.1_all.deb ...\n",
            "Unpacking libencode-locale-perl (1.05-1.1) ...\n",
            "Selecting previously unselected package libfcgi-bin.\n",
            "Preparing to unpack .../10-libfcgi-bin_2.4.2-2build2_amd64.deb ...\n",
            "Unpacking libfcgi-bin (2.4.2-2build2) ...\n",
            "Selecting previously unselected package libhtml-template-perl.\n",
            "Preparing to unpack .../11-libhtml-template-perl_2.97-1.1_all.deb ...\n",
            "Unpacking libhtml-template-perl (2.97-1.1) ...\n",
            "Selecting previously unselected package libhttp-date-perl.\n",
            "Preparing to unpack .../12-libhttp-date-perl_6.05-1_all.deb ...\n",
            "Unpacking libhttp-date-perl (6.05-1) ...\n",
            "Selecting previously unselected package libio-html-perl.\n",
            "Preparing to unpack .../13-libio-html-perl_1.004-2_all.deb ...\n",
            "Unpacking libio-html-perl (1.004-2) ...\n",
            "Selecting previously unselected package liblwp-mediatypes-perl.\n",
            "Preparing to unpack .../14-liblwp-mediatypes-perl_6.04-1_all.deb ...\n",
            "Unpacking liblwp-mediatypes-perl (6.04-1) ...\n",
            "Selecting previously unselected package libhttp-message-perl.\n",
            "Preparing to unpack .../15-libhttp-message-perl_6.36-1_all.deb ...\n",
            "Unpacking libhttp-message-perl (6.36-1) ...\n",
            "Selecting previously unselected package mecab-utils.\n",
            "Preparing to unpack .../16-mecab-utils_0.996-14build9_amd64.deb ...\n",
            "Unpacking mecab-utils (0.996-14build9) ...\n",
            "Selecting previously unselected package mecab-ipadic.\n",
            "Preparing to unpack .../17-mecab-ipadic_2.7.0-20070801+main-3_all.deb ...\n",
            "Unpacking mecab-ipadic (2.7.0-20070801+main-3) ...\n",
            "Selecting previously unselected package mecab-ipadic-utf8.\n",
            "Preparing to unpack .../18-mecab-ipadic-utf8_2.7.0-20070801+main-3_all.deb ...\n",
            "Unpacking mecab-ipadic-utf8 (2.7.0-20070801+main-3) ...\n",
            "Selecting previously unselected package mysql-server.\n",
            "Preparing to unpack .../19-mysql-server_8.0.41-0ubuntu0.22.04.1_all.deb ...\n",
            "Unpacking mysql-server (8.0.41-0ubuntu0.22.04.1) ...\n",
            "Setting up libhttp-date-perl (6.05-1) ...\n",
            "Setting up libmecab2:amd64 (0.996-14build9) ...\n",
            "Setting up mysql-client-core-8.0 (8.0.41-0ubuntu0.22.04.1) ...\n",
            "Setting up libfcgi0ldbl:amd64 (2.4.2-2build2) ...\n",
            "Setting up libclone-perl (0.45-1build3) ...\n",
            "Setting up libhtml-tagset-perl (3.20-4) ...\n",
            "Setting up liblwp-mediatypes-perl (6.04-1) ...\n",
            "Setting up libfcgi-bin (2.4.2-2build2) ...\n",
            "Setting up libencode-locale-perl (1.05-1.1) ...\n",
            "Setting up libprotobuf-lite23:amd64 (3.12.4-1ubuntu7.22.04.2) ...\n",
            "Setting up mecab-utils (0.996-14build9) ...\n",
            "Setting up libio-html-perl (1.004-2) ...\n",
            "Setting up mysql-server-core-8.0 (8.0.41-0ubuntu0.22.04.1) ...\n",
            "Setting up mysql-client-8.0 (8.0.41-0ubuntu0.22.04.1) ...\n",
            "Setting up libfcgi-perl:amd64 (0.82+ds-1build1) ...\n",
            "Setting up liburi-perl (5.10-1) ...\n",
            "Setting up libhttp-message-perl (6.36-1) ...\n",
            "Setting up mysql-server-8.0 (8.0.41-0ubuntu0.22.04.1) ...\n",
            "debconf: unable to initialize frontend: Dialog\n",
            "debconf: (No usable dialog-like program is installed, so the dialog based frontend cannot be used. at /usr/share/perl5/Debconf/FrontEnd/Dialog.pm line 78.)\n",
            "debconf: falling back to frontend: Readline\n",
            "invoke-rc.d: could not determine current runlevel\n",
            "invoke-rc.d: policy-rc.d denied execution of stop.\n",
            "update-alternatives: using /etc/mysql/mysql.cnf to provide /etc/mysql/my.cnf (my.cnf) in auto mode\n",
            "Renaming removed key_buffer and myisam-recover options (if present)\n",
            "mysqld will log errors to /var/log/mysql/error.log\n",
            "mysqld is running as pid 2559\n",
            "Created symlink /etc/systemd/system/multi-user.target.wants/mysql.service → /lib/systemd/system/mysql.service.\n",
            "invoke-rc.d: could not determine current runlevel\n",
            "invoke-rc.d: policy-rc.d denied execution of start.\n",
            "Setting up mecab-ipadic (2.7.0-20070801+main-3) ...\n",
            "Compiling IPA dictionary for Mecab.  This takes long time...\n",
            "reading /usr/share/mecab/dic/ipadic/unk.def ... 40\n",
            "emitting double-array: 100% |###########################################| \n",
            "/usr/share/mecab/dic/ipadic/model.def is not found. skipped.\n",
            "reading /usr/share/mecab/dic/ipadic/Others.csv ... 2\n",
            "reading /usr/share/mecab/dic/ipadic/Noun.demonst.csv ... 120\n",
            "reading /usr/share/mecab/dic/ipadic/Adj.csv ... 27210\n",
            "reading /usr/share/mecab/dic/ipadic/Noun.nai.csv ... 42\n",
            "reading /usr/share/mecab/dic/ipadic/Noun.adverbal.csv ... 795\n",
            "reading /usr/share/mecab/dic/ipadic/Noun.name.csv ... 34202\n",
            "reading /usr/share/mecab/dic/ipadic/Noun.number.csv ... 42\n",
            "reading /usr/share/mecab/dic/ipadic/Interjection.csv ... 252\n",
            "reading /usr/share/mecab/dic/ipadic/Noun.csv ... 60477\n",
            "reading /usr/share/mecab/dic/ipadic/Noun.org.csv ... 16668\n",
            "reading /usr/share/mecab/dic/ipadic/Conjunction.csv ... 171\n",
            "reading /usr/share/mecab/dic/ipadic/Filler.csv ... 19\n",
            "reading /usr/share/mecab/dic/ipadic/Noun.verbal.csv ... 12146\n",
            "reading /usr/share/mecab/dic/ipadic/Postp.csv ... 146\n",
            "reading /usr/share/mecab/dic/ipadic/Auxil.csv ... 199\n",
            "reading /usr/share/mecab/dic/ipadic/Suffix.csv ... 1393\n",
            "reading /usr/share/mecab/dic/ipadic/Symbol.csv ... 208\n",
            "reading /usr/share/mecab/dic/ipadic/Adnominal.csv ... 135\n",
            "reading /usr/share/mecab/dic/ipadic/Noun.proper.csv ... 27328\n",
            "reading /usr/share/mecab/dic/ipadic/Prefix.csv ... 221\n",
            "reading /usr/share/mecab/dic/ipadic/Noun.adjv.csv ... 3328\n",
            "reading /usr/share/mecab/dic/ipadic/Noun.place.csv ... 72999\n",
            "reading /usr/share/mecab/dic/ipadic/Postp-col.csv ... 91\n",
            "reading /usr/share/mecab/dic/ipadic/Verb.csv ... 130750\n",
            "reading /usr/share/mecab/dic/ipadic/Adverb.csv ... 3032\n",
            "reading /usr/share/mecab/dic/ipadic/Noun.others.csv ... 151\n",
            "emitting double-array: 100% |###########################################| \n",
            "reading /usr/share/mecab/dic/ipadic/matrix.def ... 1316x1316\n",
            "emitting matrix      : 100% |###########################################| \n",
            "\n",
            "done!\n",
            "update-alternatives: using /var/lib/mecab/dic/ipadic to provide /var/lib/mecab/dic/debian (mecab-dictionary) in auto mode\n",
            "Setting up mecab-ipadic-utf8 (2.7.0-20070801+main-3) ...\n",
            "Compiling IPA dictionary for Mecab.  This takes long time...\n",
            "reading /usr/share/mecab/dic/ipadic/unk.def ... 40\n",
            "emitting double-array: 100% |###########################################| \n",
            "/usr/share/mecab/dic/ipadic/model.def is not found. skipped.\n",
            "reading /usr/share/mecab/dic/ipadic/Others.csv ... 2\n",
            "reading /usr/share/mecab/dic/ipadic/Noun.demonst.csv ... 120\n",
            "reading /usr/share/mecab/dic/ipadic/Adj.csv ... 27210\n",
            "reading /usr/share/mecab/dic/ipadic/Noun.nai.csv ... 42\n",
            "reading /usr/share/mecab/dic/ipadic/Noun.adverbal.csv ... 795\n",
            "reading /usr/share/mecab/dic/ipadic/Noun.name.csv ... 34202\n",
            "reading /usr/share/mecab/dic/ipadic/Noun.number.csv ... 42\n",
            "reading /usr/share/mecab/dic/ipadic/Interjection.csv ... 252\n",
            "reading /usr/share/mecab/dic/ipadic/Noun.csv ... 60477\n",
            "reading /usr/share/mecab/dic/ipadic/Noun.org.csv ... 16668\n",
            "reading /usr/share/mecab/dic/ipadic/Conjunction.csv ... 171\n",
            "reading /usr/share/mecab/dic/ipadic/Filler.csv ... 19\n",
            "reading /usr/share/mecab/dic/ipadic/Noun.verbal.csv ... 12146\n",
            "reading /usr/share/mecab/dic/ipadic/Postp.csv ... 146\n",
            "reading /usr/share/mecab/dic/ipadic/Auxil.csv ... 199\n",
            "reading /usr/share/mecab/dic/ipadic/Suffix.csv ... 1393\n",
            "reading /usr/share/mecab/dic/ipadic/Symbol.csv ... 208\n",
            "reading /usr/share/mecab/dic/ipadic/Adnominal.csv ... 135\n",
            "reading /usr/share/mecab/dic/ipadic/Noun.proper.csv ... 27328\n",
            "reading /usr/share/mecab/dic/ipadic/Prefix.csv ... 221\n",
            "reading /usr/share/mecab/dic/ipadic/Noun.adjv.csv ... 3328\n",
            "reading /usr/share/mecab/dic/ipadic/Noun.place.csv ... 72999\n",
            "reading /usr/share/mecab/dic/ipadic/Postp-col.csv ... 91\n",
            "reading /usr/share/mecab/dic/ipadic/Verb.csv ... 130750\n",
            "reading /usr/share/mecab/dic/ipadic/Adverb.csv ... 3032\n",
            "reading /usr/share/mecab/dic/ipadic/Noun.others.csv ... 151\n",
            "emitting double-array: 100% |###########################################| \n",
            "reading /usr/share/mecab/dic/ipadic/matrix.def ... 1316x1316\n",
            "emitting matrix      : 100% |###########################################| \n",
            "\n",
            "done!\n",
            "update-alternatives: using /var/lib/mecab/dic/ipadic-utf8 to provide /var/lib/mecab/dic/debian (mecab-dictionary) in auto mode\n",
            "Setting up libhtml-parser-perl:amd64 (3.76-1build2) ...\n",
            "Setting up mysql-server (8.0.41-0ubuntu0.22.04.1) ...\n",
            "Setting up libcgi-pm-perl (4.54-1) ...\n",
            "Setting up libhtml-template-perl (2.97-1.1) ...\n",
            "Setting up libcgi-fast-perl (1:2.15-1) ...\n",
            "Processing triggers for man-db (2.10.2-1) ...\n",
            "Processing triggers for libc-bin (2.35-0ubuntu3.8) ...\n",
            "/sbin/ldconfig.real: /usr/local/lib/libtbbbind_2_0.so.3 is not a symbolic link\n",
            "\n",
            "/sbin/ldconfig.real: /usr/local/lib/libtcm_debug.so.1 is not a symbolic link\n",
            "\n",
            "/sbin/ldconfig.real: /usr/local/lib/libur_adapter_level_zero.so.0 is not a symbolic link\n",
            "\n",
            "/sbin/ldconfig.real: /usr/local/lib/libtbbmalloc.so.2 is not a symbolic link\n",
            "\n",
            "/sbin/ldconfig.real: /usr/local/lib/libumf.so.0 is not a symbolic link\n",
            "\n",
            "/sbin/ldconfig.real: /usr/local/lib/libtbbmalloc_proxy.so.2 is not a symbolic link\n",
            "\n",
            "/sbin/ldconfig.real: /usr/local/lib/libhwloc.so.15 is not a symbolic link\n",
            "\n",
            "/sbin/ldconfig.real: /usr/local/lib/libtbb.so.12 is not a symbolic link\n",
            "\n",
            "/sbin/ldconfig.real: /usr/local/lib/libtcm.so.1 is not a symbolic link\n",
            "\n",
            "/sbin/ldconfig.real: /usr/local/lib/libur_loader.so.0 is not a symbolic link\n",
            "\n",
            "/sbin/ldconfig.real: /usr/local/lib/libtbbbind.so.3 is not a symbolic link\n",
            "\n",
            "/sbin/ldconfig.real: /usr/local/lib/libur_adapter_opencl.so.0 is not a symbolic link\n",
            "\n",
            "/sbin/ldconfig.real: /usr/local/lib/libtbbbind_2_5.so.3 is not a symbolic link\n",
            "\n",
            "Reading package lists... Done\n",
            "Building dependency tree... Done\n",
            "Reading state information... Done\n",
            "Calculating upgrade... Done\n",
            "The following packages were automatically installed and are no longer required:\n",
            "  gdal-data gdal-plugins libaom-dev libarmadillo-dev libarmadillo10 libarpack2\n",
            "  libarpack2-dev libatk-bridge2.0-0 libatk1.0-0 libatk1.0-data libatspi2.0-0\n",
            "  libavcodec-dev libavformat-dev libavutil-dev libblosc-dev libblosc1\n",
            "  libcfitsio-dev libcfitsio9 libcharls2 libdav1d-dev libdc1394-dev libde265-0\n",
            "  libde265-dev libdouble-conversion3 libexif-dev libexif12 libfreexl-dev\n",
            "  libfreexl1 libfyba-dev libfyba0 libgdcm-dev libgdcm3.0 libgeos-c1v5\n",
            "  libgeos-dev libgeos3.11.1 libgeotiff-dev libgeotiff5 libgif-dev libgl2ps1.4\n",
            "  libglew2.2 libgphoto2-6 libgphoto2-dev libgphoto2-port12\n",
            "  libgstreamer-plugins-base1.0-0 libgtk-3-0 libgtk-3-common libhdf4-0-alt\n",
            "  libhdf4-alt-dev libheif-dev libheif1 libilmbase-dev libilmbase25 libjbig-dev\n",
            "  libjson-c-dev libkml-dev libkmlbase1 libkmlconvenience1 libkmldom1\n",
            "  libkmlengine1 libkmlregionator1 libkmlxsd1 liblz4-dev libminizip-dev\n",
            "  libminizip1 libnetcdf-dev libnetcdf19 libodbc2 libodbccr2 libodbcinst2\n",
            "  libogdi-dev libogdi4.1 libopencv-calib3d4.5d libopencv-core-dev\n",
            "  libopencv-core4.5d libopencv-dnn-dev libopencv-dnn4.5d\n",
            "  libopencv-features2d4.5d libopencv-flann-dev libopencv-flann4.5d\n",
            "  libopencv-imgproc-dev libopencv-imgproc4.5d libopencv-ml-dev\n",
            "  libopencv-ml4.5d libopencv-objdetect4.5d libopencv-photo-dev\n",
            "  libopencv-photo4.5d libopencv-shape-dev libopencv-shape4.5d\n",
            "  libopencv-stitching4.5d libopencv-video-dev libopencv-video4.5d\n",
            "  libopencv-viz-dev libopencv-viz4.5d libopenexr-dev libopenexr25\n",
            "  libopenjp2-7-dev liborc-0.4-0 libpoppler-dev libpoppler-private-dev\n",
            "  libpoppler118 libpq-dev libpq5 libproj-dev libproj25 libqhull-dev\n",
            "  libqhull-r8.0 libqhull8.0 libqhullcpp8.0 libraw1394-dev librttopo-dev\n",
            "  librttopo1 libsocket++1 libspatialite-dev libspatialite7 libsqlite3-dev\n",
            "  libsuperlu-dev libsuperlu5 libswresample-dev libswscale-dev libtbb-dev\n",
            "  libtbb12 libtbbmalloc2 libtiff-dev libtiffxx5 liburiparser-dev liburiparser1\n",
            "  libvtk9.1 libwebp-dev libx265-dev libxcomposite1 libxerces-c-dev\n",
            "  libxerces-c3.2 proj-data unixodbc-common unixodbc-dev\n",
            "Use 'sudo apt autoremove' to remove them.\n",
            "The following packages have been kept back:\n",
            "  libcudnn9-cuda-12 libcudnn9-dev-cuda-12 libnccl-dev libnccl2\n",
            "The following packages will be upgraded:\n",
            "  base-files binutils binutils-common binutils-x86-64-linux-gnu\n",
            "  cuda-toolkit-12-config-common cuda-toolkit-config-common e2fsprogs\n",
            "  libbinutils libc-bin libcap2 libctf-nobfd0 libctf0 libext2fs2 libgnutls30\n",
            "  libldap-2.5-0 libpam-modules libpam-modules-bin libpam-runtime libpam0g\n",
            "  libperl5.34 libseccomp2 libss2 libtasn1-6 libudev1 linux-libc-dev logsave\n",
            "  openssl perl perl-base perl-modules-5.34 r-base r-base-core r-base-dev\n",
            "  r-cran-textshaping r-cran-utf8 r-recommended\n",
            "36 upgraded, 0 newly installed, 0 to remove and 4 not upgraded.\n",
            "Need to get 48.5 MB of archives.\n",
            "After this operation, 139 kB of additional disk space will be used.\n",
            "Get:1 https://cloud.r-project.org/bin/linux/ubuntu jammy-cran40/ r-base-core 4.5.0-3.2204.0 [29.1 MB]\n",
            "Get:2 https://developer.download.nvidia.com/compute/cuda/repos/ubuntu2204/x86_64  cuda-toolkit-12-config-common 12.9.37-1 [16.5 kB]\n",
            "Get:3 http://archive.ubuntu.com/ubuntu jammy-updates/main amd64 base-files amd64 12ubuntu4.7 [61.9 kB]\n",
            "Get:4 https://developer.download.nvidia.com/compute/cuda/repos/ubuntu2204/x86_64  cuda-toolkit-config-common 12.9.37-1 [16.5 kB]\n",
            "Get:5 https://r2u.stat.illinois.edu/ubuntu jammy/main amd64 r-cran-textshaping amd64 1.0.1-1.ca2204.1 [168 kB]\n",
            "Get:6 https://r2u.stat.illinois.edu/ubuntu jammy/main amd64 r-cran-utf8 amd64 1.2.5-1.ca2204.1 [140 kB]\n",
            "Get:7 http://archive.ubuntu.com/ubuntu jammy-updates/main amd64 libperl5.34 amd64 5.34.0-3ubuntu1.4 [4,820 kB]\n",
            "Get:8 https://cloud.r-project.org/bin/linux/ubuntu jammy-cran40/ r-base 4.5.0-3.2204.0 [47.3 kB]\n",
            "Get:9 https://cloud.r-project.org/bin/linux/ubuntu jammy-cran40/ r-recommended 4.5.0-3.2204.0 [2,594 B]\n",
            "Get:10 https://cloud.r-project.org/bin/linux/ubuntu jammy-cran40/ r-base-dev 4.5.0-3.2204.0 [4,140 B]\n",
            "Get:11 http://archive.ubuntu.com/ubuntu jammy-updates/main amd64 perl amd64 5.34.0-3ubuntu1.4 [232 kB]\n",
            "Get:12 http://archive.ubuntu.com/ubuntu jammy-updates/main amd64 perl-base amd64 5.34.0-3ubuntu1.4 [1,759 kB]\n",
            "Get:13 http://archive.ubuntu.com/ubuntu jammy-updates/main amd64 perl-modules-5.34 all 5.34.0-3ubuntu1.4 [2,977 kB]\n",
            "Get:14 http://archive.ubuntu.com/ubuntu jammy-updates/main amd64 libc-bin amd64 2.35-0ubuntu3.9 [706 kB]\n",
            "Get:15 http://archive.ubuntu.com/ubuntu jammy-updates/main amd64 libpam0g amd64 1.4.0-11ubuntu2.5 [59.8 kB]\n",
            "Get:16 http://archive.ubuntu.com/ubuntu jammy-updates/main amd64 libpam-modules-bin amd64 1.4.0-11ubuntu2.5 [37.4 kB]\n",
            "Get:17 http://archive.ubuntu.com/ubuntu jammy-updates/main amd64 libpam-modules amd64 1.4.0-11ubuntu2.5 [280 kB]\n",
            "Get:18 http://archive.ubuntu.com/ubuntu jammy-updates/main amd64 logsave amd64 1.46.5-2ubuntu1.2 [10.1 kB]\n",
            "Get:19 http://archive.ubuntu.com/ubuntu jammy-updates/main amd64 libext2fs2 amd64 1.46.5-2ubuntu1.2 [208 kB]\n",
            "Get:20 http://archive.ubuntu.com/ubuntu jammy-updates/main amd64 e2fsprogs amd64 1.46.5-2ubuntu1.2 [590 kB]\n",
            "Get:21 http://archive.ubuntu.com/ubuntu jammy-updates/main amd64 libcap2 amd64 1:2.44-1ubuntu0.22.04.2 [18.3 kB]\n",
            "Get:22 http://archive.ubuntu.com/ubuntu jammy-updates/main amd64 libpam-runtime all 1.4.0-11ubuntu2.5 [40.2 kB]\n",
            "Get:23 http://archive.ubuntu.com/ubuntu jammy-updates/main amd64 libudev1 amd64 249.11-0ubuntu3.15 [76.6 kB]\n",
            "Get:24 http://archive.ubuntu.com/ubuntu jammy-updates/main amd64 libtasn1-6 amd64 4.18.0-4ubuntu0.1 [43.5 kB]\n",
            "Get:25 http://archive.ubuntu.com/ubuntu jammy-updates/main amd64 libgnutls30 amd64 3.7.3-4ubuntu1.6 [969 kB]\n",
            "Get:26 http://archive.ubuntu.com/ubuntu jammy-updates/main amd64 libseccomp2 amd64 2.5.3-2ubuntu3~22.04.1 [47.4 kB]\n",
            "Get:27 http://archive.ubuntu.com/ubuntu jammy-updates/main amd64 libss2 amd64 1.46.5-2ubuntu1.2 [12.3 kB]\n",
            "Get:28 http://archive.ubuntu.com/ubuntu jammy-updates/main amd64 openssl amd64 3.0.2-0ubuntu1.19 [1,186 kB]\n",
            "Get:29 http://archive.ubuntu.com/ubuntu jammy-updates/main amd64 libctf0 amd64 2.38-4ubuntu2.8 [103 kB]\n",
            "Get:30 http://archive.ubuntu.com/ubuntu jammy-updates/main amd64 libctf-nobfd0 amd64 2.38-4ubuntu2.8 [108 kB]\n",
            "Get:31 http://archive.ubuntu.com/ubuntu jammy-updates/main amd64 binutils-x86-64-linux-gnu amd64 2.38-4ubuntu2.8 [2,324 kB]\n",
            "Get:32 http://archive.ubuntu.com/ubuntu jammy-updates/main amd64 libbinutils amd64 2.38-4ubuntu2.8 [661 kB]\n",
            "Get:33 http://archive.ubuntu.com/ubuntu jammy-updates/main amd64 binutils amd64 2.38-4ubuntu2.8 [3,196 B]\n",
            "Get:34 http://archive.ubuntu.com/ubuntu jammy-updates/main amd64 binutils-common amd64 2.38-4ubuntu2.8 [223 kB]\n",
            "Get:35 http://archive.ubuntu.com/ubuntu jammy-updates/main amd64 libldap-2.5-0 amd64 2.5.18+dfsg-0ubuntu0.22.04.3 [183 kB]\n",
            "Get:36 http://archive.ubuntu.com/ubuntu jammy-updates/main amd64 linux-libc-dev amd64 5.15.0-139.149 [1,298 kB]\n",
            "Fetched 48.5 MB in 1s (34.7 MB/s)\n",
            "debconf: unable to initialize frontend: Dialog\n",
            "debconf: (No usable dialog-like program is installed, so the dialog based frontend cannot be used. at /usr/share/perl5/Debconf/FrontEnd/Dialog.pm line 78, <> line 36.)\n",
            "debconf: falling back to frontend: Readline\n",
            "debconf: unable to initialize frontend: Readline\n",
            "debconf: (This frontend requires a controlling tty.)\n",
            "debconf: falling back to frontend: Teletype\n",
            "dpkg-preconfigure: unable to re-open stdin: \n",
            "(Reading database ... 125973 files and directories currently installed.)\n",
            "Preparing to unpack .../base-files_12ubuntu4.7_amd64.deb ...\n",
            "Unpacking base-files (12ubuntu4.7) over (12ubuntu4.6) ...\n",
            "Setting up base-files (12ubuntu4.7) ...\n",
            "Installing new version of config file /etc/issue ...\n",
            "Installing new version of config file /etc/issue.net ...\n",
            "Installing new version of config file /etc/lsb-release ...\n",
            "(Reading database ... 125973 files and directories currently installed.)\n",
            "Preparing to unpack .../libperl5.34_5.34.0-3ubuntu1.4_amd64.deb ...\n",
            "Unpacking libperl5.34:amd64 (5.34.0-3ubuntu1.4) over (5.34.0-3ubuntu1.3) ...\n",
            "Preparing to unpack .../perl_5.34.0-3ubuntu1.4_amd64.deb ...\n",
            "Unpacking perl (5.34.0-3ubuntu1.4) over (5.34.0-3ubuntu1.3) ...\n",
            "Preparing to unpack .../perl-base_5.34.0-3ubuntu1.4_amd64.deb ...\n",
            "Unpacking perl-base (5.34.0-3ubuntu1.4) over (5.34.0-3ubuntu1.3) ...\n",
            "Setting up perl-base (5.34.0-3ubuntu1.4) ...\n",
            "(Reading database ... 125973 files and directories currently installed.)\n",
            "Preparing to unpack .../perl-modules-5.34_5.34.0-3ubuntu1.4_all.deb ...\n",
            "Unpacking perl-modules-5.34 (5.34.0-3ubuntu1.4) over (5.34.0-3ubuntu1.3) ...\n",
            "Preparing to unpack .../libc-bin_2.35-0ubuntu3.9_amd64.deb ...\n",
            "Unpacking libc-bin (2.35-0ubuntu3.9) over (2.35-0ubuntu3.8) ...\n",
            "Setting up libc-bin (2.35-0ubuntu3.9) ...\n",
            "/sbin/ldconfig.real: /usr/local/lib/libtbbbind_2_0.so.3 is not a symbolic link\n",
            "\n",
            "/sbin/ldconfig.real: /usr/local/lib/libtcm_debug.so.1 is not a symbolic link\n",
            "\n",
            "/sbin/ldconfig.real: /usr/local/lib/libur_adapter_level_zero.so.0 is not a symbolic link\n",
            "\n",
            "/sbin/ldconfig.real: /usr/local/lib/libtbbmalloc.so.2 is not a symbolic link\n",
            "\n",
            "/sbin/ldconfig.real: /usr/local/lib/libumf.so.0 is not a symbolic link\n",
            "\n",
            "/sbin/ldconfig.real: /usr/local/lib/libtbbmalloc_proxy.so.2 is not a symbolic link\n",
            "\n",
            "/sbin/ldconfig.real: /usr/local/lib/libhwloc.so.15 is not a symbolic link\n",
            "\n",
            "/sbin/ldconfig.real: /usr/local/lib/libtbb.so.12 is not a symbolic link\n",
            "\n",
            "/sbin/ldconfig.real: /usr/local/lib/libtcm.so.1 is not a symbolic link\n",
            "\n",
            "/sbin/ldconfig.real: /usr/local/lib/libur_loader.so.0 is not a symbolic link\n",
            "\n",
            "/sbin/ldconfig.real: /usr/local/lib/libtbbbind.so.3 is not a symbolic link\n",
            "\n",
            "/sbin/ldconfig.real: /usr/local/lib/libur_adapter_opencl.so.0 is not a symbolic link\n",
            "\n",
            "/sbin/ldconfig.real: /usr/local/lib/libtbbbind_2_5.so.3 is not a symbolic link\n",
            "\n",
            "(Reading database ... 125973 files and directories currently installed.)\n",
            "Preparing to unpack .../libpam0g_1.4.0-11ubuntu2.5_amd64.deb ...\n",
            "Unpacking libpam0g:amd64 (1.4.0-11ubuntu2.5) over (1.4.0-11ubuntu2.4) ...\n",
            "Setting up libpam0g:amd64 (1.4.0-11ubuntu2.5) ...\n",
            "debconf: unable to initialize frontend: Dialog\n",
            "debconf: (No usable dialog-like program is installed, so the dialog based frontend cannot be used. at /usr/share/perl5/Debconf/FrontEnd/Dialog.pm line 78.)\n",
            "debconf: falling back to frontend: Readline\n",
            "(Reading database ... 125973 files and directories currently installed.)\n",
            "Preparing to unpack .../libpam-modules-bin_1.4.0-11ubuntu2.5_amd64.deb ...\n",
            "Unpacking libpam-modules-bin (1.4.0-11ubuntu2.5) over (1.4.0-11ubuntu2.4) ...\n",
            "Setting up libpam-modules-bin (1.4.0-11ubuntu2.5) ...\n",
            "(Reading database ... 125973 files and directories currently installed.)\n",
            "Preparing to unpack .../libpam-modules_1.4.0-11ubuntu2.5_amd64.deb ...\n",
            "debconf: unable to initialize frontend: Dialog\n",
            "debconf: (No usable dialog-like program is installed, so the dialog based frontend cannot be used. at /usr/share/perl5/Debconf/FrontEnd/Dialog.pm line 78.)\n",
            "debconf: falling back to frontend: Readline\n",
            "Unpacking libpam-modules:amd64 (1.4.0-11ubuntu2.5) over (1.4.0-11ubuntu2.4) ...\n",
            "Setting up libpam-modules:amd64 (1.4.0-11ubuntu2.5) ...\n",
            "(Reading database ... 125973 files and directories currently installed.)\n",
            "Preparing to unpack .../logsave_1.46.5-2ubuntu1.2_amd64.deb ...\n",
            "Unpacking logsave (1.46.5-2ubuntu1.2) over (1.46.5-2ubuntu1.1) ...\n",
            "Preparing to unpack .../libext2fs2_1.46.5-2ubuntu1.2_amd64.deb ...\n",
            "Unpacking libext2fs2:amd64 (1.46.5-2ubuntu1.2) over (1.46.5-2ubuntu1.1) ...\n",
            "Setting up libext2fs2:amd64 (1.46.5-2ubuntu1.2) ...\n",
            "(Reading database ... 125973 files and directories currently installed.)\n",
            "Preparing to unpack .../e2fsprogs_1.46.5-2ubuntu1.2_amd64.deb ...\n",
            "Unpacking e2fsprogs (1.46.5-2ubuntu1.2) over (1.46.5-2ubuntu1.1) ...\n",
            "Preparing to unpack .../libcap2_1%3a2.44-1ubuntu0.22.04.2_amd64.deb ...\n",
            "Unpacking libcap2:amd64 (1:2.44-1ubuntu0.22.04.2) over (1:2.44-1ubuntu0.22.04.1) ...\n",
            "Setting up libcap2:amd64 (1:2.44-1ubuntu0.22.04.2) ...\n",
            "(Reading database ... 125973 files and directories currently installed.)\n",
            "Preparing to unpack .../libpam-runtime_1.4.0-11ubuntu2.5_all.deb ...\n",
            "Unpacking libpam-runtime (1.4.0-11ubuntu2.5) over (1.4.0-11ubuntu2.4) ...\n",
            "Setting up libpam-runtime (1.4.0-11ubuntu2.5) ...\n",
            "debconf: unable to initialize frontend: Dialog\n",
            "debconf: (No usable dialog-like program is installed, so the dialog based frontend cannot be used. at /usr/share/perl5/Debconf/FrontEnd/Dialog.pm line 78.)\n",
            "debconf: falling back to frontend: Readline\n",
            "(Reading database ... 125973 files and directories currently installed.)\n",
            "Preparing to unpack .../libudev1_249.11-0ubuntu3.15_amd64.deb ...\n",
            "Unpacking libudev1:amd64 (249.11-0ubuntu3.15) over (249.11-0ubuntu3.12) ...\n",
            "Setting up libudev1:amd64 (249.11-0ubuntu3.15) ...\n",
            "(Reading database ... 125973 files and directories currently installed.)\n",
            "Preparing to unpack .../libtasn1-6_4.18.0-4ubuntu0.1_amd64.deb ...\n",
            "Unpacking libtasn1-6:amd64 (4.18.0-4ubuntu0.1) over (4.18.0-4build1) ...\n",
            "Setting up libtasn1-6:amd64 (4.18.0-4ubuntu0.1) ...\n",
            "(Reading database ... 125973 files and directories currently installed.)\n",
            "Preparing to unpack .../libgnutls30_3.7.3-4ubuntu1.6_amd64.deb ...\n",
            "Unpacking libgnutls30:amd64 (3.7.3-4ubuntu1.6) over (3.7.3-4ubuntu1.5) ...\n",
            "Setting up libgnutls30:amd64 (3.7.3-4ubuntu1.6) ...\n",
            "(Reading database ... 125973 files and directories currently installed.)\n",
            "Preparing to unpack .../libseccomp2_2.5.3-2ubuntu3~22.04.1_amd64.deb ...\n",
            "Unpacking libseccomp2:amd64 (2.5.3-2ubuntu3~22.04.1) over (2.5.3-2ubuntu2) ...\n",
            "Setting up libseccomp2:amd64 (2.5.3-2ubuntu3~22.04.1) ...\n",
            "(Reading database ... 125973 files and directories currently installed.)\n",
            "Preparing to unpack .../00-libss2_1.46.5-2ubuntu1.2_amd64.deb ...\n",
            "Unpacking libss2:amd64 (1.46.5-2ubuntu1.2) over (1.46.5-2ubuntu1.1) ...\n",
            "Preparing to unpack .../01-openssl_3.0.2-0ubuntu1.19_amd64.deb ...\n",
            "Unpacking openssl (3.0.2-0ubuntu1.19) over (3.0.2-0ubuntu1.16) ...\n",
            "Preparing to unpack .../02-libctf0_2.38-4ubuntu2.8_amd64.deb ...\n",
            "Unpacking libctf0:amd64 (2.38-4ubuntu2.8) over (2.38-4ubuntu2.6) ...\n",
            "Preparing to unpack .../03-libctf-nobfd0_2.38-4ubuntu2.8_amd64.deb ...\n",
            "Unpacking libctf-nobfd0:amd64 (2.38-4ubuntu2.8) over (2.38-4ubuntu2.6) ...\n",
            "Preparing to unpack .../04-binutils-x86-64-linux-gnu_2.38-4ubuntu2.8_amd64.deb ...\n",
            "Unpacking binutils-x86-64-linux-gnu (2.38-4ubuntu2.8) over (2.38-4ubuntu2.6) ...\n",
            "Preparing to unpack .../05-libbinutils_2.38-4ubuntu2.8_amd64.deb ...\n",
            "Unpacking libbinutils:amd64 (2.38-4ubuntu2.8) over (2.38-4ubuntu2.6) ...\n",
            "Preparing to unpack .../06-binutils_2.38-4ubuntu2.8_amd64.deb ...\n",
            "Unpacking binutils (2.38-4ubuntu2.8) over (2.38-4ubuntu2.6) ...\n",
            "Preparing to unpack .../07-binutils-common_2.38-4ubuntu2.8_amd64.deb ...\n",
            "Unpacking binutils-common:amd64 (2.38-4ubuntu2.8) over (2.38-4ubuntu2.6) ...\n",
            "Preparing to unpack .../08-cuda-toolkit-12-config-common_12.9.37-1_all.deb ...\n",
            "Unpacking cuda-toolkit-12-config-common (12.9.37-1) over (12.5.82-1) ...\n",
            "Preparing to unpack .../09-cuda-toolkit-config-common_12.9.37-1_all.deb ...\n",
            "Unpacking cuda-toolkit-config-common (12.9.37-1) over (12.5.82-1) ...\n",
            "Preparing to unpack .../10-libldap-2.5-0_2.5.18+dfsg-0ubuntu0.22.04.3_amd64.deb ...\n",
            "Unpacking libldap-2.5-0:amd64 (2.5.18+dfsg-0ubuntu0.22.04.3) over (2.5.17+dfsg-0ubuntu0.22.04.1) ...\n",
            "Preparing to unpack .../11-linux-libc-dev_5.15.0-139.149_amd64.deb ...\n",
            "Unpacking linux-libc-dev:amd64 (5.15.0-139.149) over (5.15.0-113.123) ...\n",
            "Preparing to unpack .../12-r-base-core_4.5.0-3.2204.0_amd64.deb ...\n",
            "Unpacking r-base-core (4.5.0-3.2204.0) over (4.5.0-2.2204.0) ...\n",
            "Preparing to unpack .../13-r-base_4.5.0-3.2204.0_all.deb ...\n",
            "Unpacking r-base (4.5.0-3.2204.0) over (4.5.0-2.2204.0) ...\n",
            "Preparing to unpack .../14-r-recommended_4.5.0-3.2204.0_all.deb ...\n",
            "Unpacking r-recommended (4.5.0-3.2204.0) over (4.5.0-2.2204.0) ...\n",
            "Preparing to unpack .../15-r-base-dev_4.5.0-3.2204.0_all.deb ...\n",
            "Unpacking r-base-dev (4.5.0-3.2204.0) over (4.5.0-2.2204.0) ...\n",
            "Preparing to unpack .../16-r-cran-textshaping_1.0.1-1.ca2204.1_amd64.deb ...\n",
            "Unpacking r-cran-textshaping (1.0.1-1.ca2204.1) over (1.0.0-1.ca2204.1) ...\n",
            "Preparing to unpack .../17-r-cran-utf8_1.2.5-1.ca2204.1_amd64.deb ...\n",
            "Unpacking r-cran-utf8 (1.2.5-1.ca2204.1) over (1.2.4-1.ca2204.1) ...\n",
            "Setting up cuda-toolkit-config-common (12.9.37-1) ...\n",
            "Setting up binutils-common:amd64 (2.38-4ubuntu2.8) ...\n",
            "Setting up linux-libc-dev:amd64 (5.15.0-139.149) ...\n",
            "Setting up libctf-nobfd0:amd64 (2.38-4ubuntu2.8) ...\n",
            "Setting up perl-modules-5.34 (5.34.0-3ubuntu1.4) ...\n",
            "Setting up libldap-2.5-0:amd64 (2.5.18+dfsg-0ubuntu0.22.04.3) ...\n",
            "Setting up r-base-core (4.5.0-3.2204.0) ...\n",
            "Installing new version of config file /etc/R/Makeconf ...\n",
            "debconf: unable to initialize frontend: Dialog\n",
            "debconf: (No usable dialog-like program is installed, so the dialog based frontend cannot be used. at /usr/share/perl5/Debconf/FrontEnd/Dialog.pm line 78.)\n",
            "debconf: falling back to frontend: Readline\n",
            "Setting up libss2:amd64 (1.46.5-2ubuntu1.2) ...\n",
            "Setting up logsave (1.46.5-2ubuntu1.2) ...\n",
            "Setting up libbinutils:amd64 (2.38-4ubuntu2.8) ...\n",
            "Setting up openssl (3.0.2-0ubuntu1.19) ...\n",
            "Setting up cuda-toolkit-12-config-common (12.9.37-1) ...\n",
            "Setting up r-recommended (4.5.0-3.2204.0) ...\n",
            "Setting up libctf0:amd64 (2.38-4ubuntu2.8) ...\n",
            "Setting up libperl5.34:amd64 (5.34.0-3ubuntu1.4) ...\n",
            "Setting up r-base-dev (4.5.0-3.2204.0) ...\n",
            "Setting up e2fsprogs (1.46.5-2ubuntu1.2) ...\n",
            "Setting up r-cran-textshaping (1.0.1-1.ca2204.1) ...\n",
            "Setting up perl (5.34.0-3ubuntu1.4) ...\n",
            "Setting up r-cran-utf8 (1.2.5-1.ca2204.1) ...\n",
            "Setting up r-base (4.5.0-3.2204.0) ...\n",
            "Setting up binutils-x86-64-linux-gnu (2.38-4ubuntu2.8) ...\n",
            "Setting up binutils (2.38-4ubuntu2.8) ...\n",
            "Processing triggers for mailcap (3.70+nmu1ubuntu1) ...\n",
            "Processing triggers for hicolor-icon-theme (0.17-2) ...\n",
            "Processing triggers for libc-bin (2.35-0ubuntu3.9) ...\n",
            "/sbin/ldconfig.real: /usr/local/lib/libtbbbind_2_0.so.3 is not a symbolic link\n",
            "\n",
            "/sbin/ldconfig.real: /usr/local/lib/libtcm_debug.so.1 is not a symbolic link\n",
            "\n",
            "/sbin/ldconfig.real: /usr/local/lib/libur_adapter_level_zero.so.0 is not a symbolic link\n",
            "\n",
            "/sbin/ldconfig.real: /usr/local/lib/libtbbmalloc.so.2 is not a symbolic link\n",
            "\n",
            "/sbin/ldconfig.real: /usr/local/lib/libumf.so.0 is not a symbolic link\n",
            "\n",
            "/sbin/ldconfig.real: /usr/local/lib/libtbbmalloc_proxy.so.2 is not a symbolic link\n",
            "\n",
            "/sbin/ldconfig.real: /usr/local/lib/libhwloc.so.15 is not a symbolic link\n",
            "\n",
            "/sbin/ldconfig.real: /usr/local/lib/libtbb.so.12 is not a symbolic link\n",
            "\n",
            "/sbin/ldconfig.real: /usr/local/lib/libtcm.so.1 is not a symbolic link\n",
            "\n",
            "/sbin/ldconfig.real: /usr/local/lib/libur_loader.so.0 is not a symbolic link\n",
            "\n",
            "/sbin/ldconfig.real: /usr/local/lib/libtbbbind.so.3 is not a symbolic link\n",
            "\n",
            "/sbin/ldconfig.real: /usr/local/lib/libur_adapter_opencl.so.0 is not a symbolic link\n",
            "\n",
            "/sbin/ldconfig.real: /usr/local/lib/libtbbbind_2_5.so.3 is not a symbolic link\n",
            "\n",
            "Processing triggers for man-db (2.10.2-1) ...\n"
          ]
        }
      ]
    },
    {
      "cell_type": "markdown",
      "source": [
        "**Start MySQL Server**"
      ],
      "metadata": {
        "id": "HBGxkBFpUnr0"
      }
    },
    {
      "cell_type": "code",
      "source": [
        "#Start mysql server\n",
        "!service mysql start"
      ],
      "metadata": {
        "colab": {
          "base_uri": "https://localhost:8080/"
        },
        "id": "Djf0WwMnU3oH",
        "outputId": "72c11f6b-e801-463e-d5f8-bd79bacf14a9"
      },
      "execution_count": null,
      "outputs": [
        {
          "output_type": "stream",
          "name": "stdout",
          "text": [
            " * Starting MySQL database server mysqld\n",
            "su: warning: cannot change directory to /nonexistent: No such file or directory\n",
            "   ...done.\n"
          ]
        }
      ]
    },
    {
      "cell_type": "code",
      "source": [
        "# Intended to change the MySQL root user's authentication method and set the # #password to 'root'\n",
        "!mysql -e \"ALTER USER 'root'@'localhost' IDENTIFIED WITH 'mysql_native_password' BY 'root';FLUSH PRIVILEGES;\""
      ],
      "metadata": {
        "id": "3sPUs3HaVaJf"
      },
      "execution_count": null,
      "outputs": []
    },
    {
      "cell_type": "markdown",
      "source": [
        "**Create Connectin between MySQL server And python**"
      ],
      "metadata": {
        "id": "-cUn03wuUuaY"
      }
    },
    {
      "cell_type": "code",
      "source": [
        "import mysql.connector\n",
        "\n",
        "# Create a connection to the MySQL server\n",
        "conn = mysql.connector.connect(user='root', password='root', host='localhost')\n",
        "\n",
        "# Create a cursor to interact with the MySQL server\n",
        "cursor = conn.cursor()"
      ],
      "metadata": {
        "id": "vzp4LBGGVDGe"
      },
      "execution_count": null,
      "outputs": []
    },
    {
      "cell_type": "code",
      "source": [
        "cursor.execute(\"SHOW DATABASES\")\n",
        "databases = cursor.fetchall()\n",
        "for database in databases:\n",
        "    print(database)"
      ],
      "metadata": {
        "colab": {
          "base_uri": "https://localhost:8080/"
        },
        "id": "mbsh8NvEVdTy",
        "outputId": "2acdf331-80ee-4d8c-c0d1-25abefdc7827"
      },
      "execution_count": null,
      "outputs": [
        {
          "output_type": "stream",
          "name": "stdout",
          "text": [
            "('information_schema',)\n",
            "('mysql',)\n",
            "('performance_schema',)\n",
            "('secure_app',)\n",
            "('sys',)\n"
          ]
        }
      ]
    },
    {
      "cell_type": "markdown",
      "source": [
        "**Create databse \"mydb\"**"
      ],
      "metadata": {
        "id": "sGNghHtvVu8K"
      }
    },
    {
      "cell_type": "code",
      "source": [
        "cursor.execute(\"CREATE DATABASE IF NOT EXISTS mydb\")"
      ],
      "metadata": {
        "id": "R-YrJg8tVlv1"
      },
      "execution_count": null,
      "outputs": []
    },
    {
      "cell_type": "code",
      "source": [
        "cursor.execute(\"USE mydb\")"
      ],
      "metadata": {
        "id": "HHy8Ec1nV7qs"
      },
      "execution_count": null,
      "outputs": []
    },
    {
      "cell_type": "code",
      "source": [
        "connection = mysql.connector.connect(user='root', password='root', host='localhost', database='mydb')"
      ],
      "metadata": {
        "id": "O_Zon0TmWBM1"
      },
      "execution_count": null,
      "outputs": []
    },
    {
      "cell_type": "code",
      "source": [
        "cursor = connection.cursor()"
      ],
      "metadata": {
        "id": "iVvPHImRWLAk"
      },
      "execution_count": null,
      "outputs": []
    },
    {
      "cell_type": "code",
      "source": [
        "# Create Table and Insert Data\n",
        "cursor.execute(\"CREATE TABLE IF NOT EXISTS employees (id INT AUTO_INCREMENT PRIMARY KEY, name VARCHAR(255), salary DECIMAL(10, 2))\")"
      ],
      "metadata": {
        "id": "ShKOwlzOWOEp"
      },
      "execution_count": null,
      "outputs": []
    },
    {
      "cell_type": "code",
      "source": [
        "#Insert data with Placeholder\n",
        "cursor.execute(\"INSERT INTO employees (name, salary) VALUES (%s, %s)\", (\"John Doe\", 50000.00))"
      ],
      "metadata": {
        "id": "pZ5TixDZWX4R"
      },
      "execution_count": null,
      "outputs": []
    },
    {
      "cell_type": "code",
      "source": [
        "# Insert multiple data\n",
        "data = [\n",
        "    (\"Jane Smith\", 60000.00),\n",
        "    (\"Bob Johnson\", 55000.00),\n",
        "    (\"Alice Brown\", 52000.00)\n",
        "]\n",
        "cursor.executemany(\"INSERT INTO employees (name, salary) VALUES (%s, %s)\", data)"
      ],
      "metadata": {
        "id": "q8CecxbNW_rf"
      },
      "execution_count": null,
      "outputs": []
    },
    {
      "cell_type": "code",
      "source": [
        "#Prepare the SQL Query\n",
        "cursor.execute(\"SELECT * FROM employees\")\n",
        "print(f\"{'Name':<20}{'Salary':<20}\")\n",
        "print('-' * 40)\n",
        "for row in cursor.fetchall():\n",
        "    print(f\"{row[1]:<20}{row[2]:<20}\")"
      ],
      "metadata": {
        "colab": {
          "base_uri": "https://localhost:8080/"
        },
        "id": "UqHhMrhgWd0N",
        "outputId": "ef813205-9d28-40b2-fe02-9ee81a767d8c"
      },
      "execution_count": null,
      "outputs": [
        {
          "output_type": "stream",
          "name": "stdout",
          "text": [
            "Name                Salary              \n",
            "----------------------------------------\n",
            "John Doe            50000.00            \n",
            "Jane Smith          60000.00            \n",
            "Bob Johnson         55000.00            \n",
            "Alice Brown         52000.00            \n"
          ]
        }
      ]
    },
    {
      "cell_type": "markdown",
      "source": [
        "**Prepare the SQL Query with Placeholders**"
      ],
      "metadata": {
        "id": "evo_SWuueg0w"
      }
    },
    {
      "cell_type": "code",
      "source": [
        "# Prepare the SQL Query with Placeholders\n",
        "query='''\n",
        "  SELECT * FROM employees WHERE salary > %s;\n",
        "'''\n",
        "# Values to be inserted (user input or dynamic)\n",
        "values = (55000,)\n",
        "\n",
        "cursor.execute(query,values)"
      ],
      "metadata": {
        "id": "TIbtXHcXW4en"
      },
      "execution_count": null,
      "outputs": []
    },
    {
      "cell_type": "code",
      "source": [
        "print(f\"{'Name':<20}{'Salary':<20}\")\n",
        "print('-' * 40)\n",
        "for row in cursor.fetchall():\n",
        "    print(f\"{row[1]:<20}{row[2]:<20}\")"
      ],
      "metadata": {
        "colab": {
          "base_uri": "https://localhost:8080/"
        },
        "id": "FBQU_HRLZ7wz",
        "outputId": "b7adf185-1b79-43cd-ce54-daf34b3cc6d7"
      },
      "execution_count": null,
      "outputs": [
        {
          "output_type": "stream",
          "name": "stdout",
          "text": [
            "Name                Salary              \n",
            "----------------------------------------\n",
            "Jane Smith          60000.00            \n"
          ]
        }
      ]
    },
    {
      "cell_type": "markdown",
      "source": [
        "**Get input from user and insert data into table employees**"
      ],
      "metadata": {
        "id": "jmzRHbWqepqV"
      }
    },
    {
      "cell_type": "code",
      "source": [
        "# 2. Get input from user and insert data into table employees\n",
        "name = input(\"Enter employee name: \")\n",
        "salary = float(input(\"Enter employee salary: \"))\n",
        "query = \"INSERT INTO employees (name, salary) VALUES (%s, %s)\"\n",
        "values = (name, salary)\n",
        "cursor.execute(query, values)\n",
        "connection.commit()\n",
        "print(\"Data inserted successfully!\")"
      ],
      "metadata": {
        "colab": {
          "base_uri": "https://localhost:8080/"
        },
        "id": "5sFvF8nGd4ZT",
        "outputId": "51a9fcc7-f8c2-4959-eb19-19f4420570bc"
      },
      "execution_count": null,
      "outputs": [
        {
          "output_type": "stream",
          "name": "stdout",
          "text": [
            "Enter employee name: Tina Smith\n",
            "Enter employee salary: 65000\n",
            "Data inserted successfully!\n"
          ]
        }
      ]
    },
    {
      "cell_type": "code",
      "source": [
        "cursor.execute(\"SELECT * FROM employees\")\n",
        "print(f\"{'Name':<20}{'Salary':<20}\")\n",
        "print('-' * 40)\n",
        "for row in cursor.fetchall():\n",
        "    print(f\"{row[1]:<20}{row[2]:<20}\")"
      ],
      "metadata": {
        "colab": {
          "base_uri": "https://localhost:8080/"
        },
        "id": "AGa0kcpbet1G",
        "outputId": "c564f39d-a8f1-4ec1-ab6e-e14c4b32a7ed"
      },
      "execution_count": null,
      "outputs": [
        {
          "output_type": "stream",
          "name": "stdout",
          "text": [
            "Name                Salary              \n",
            "----------------------------------------\n",
            "Jane Smith          60000.00            \n",
            "Bob Johnson         55000.00            \n",
            "Alice Brown         52000.00            \n",
            "Johnson Fay         45000.00            \n",
            "Tina Smith          65000.00            \n"
          ]
        }
      ]
    },
    {
      "cell_type": "markdown",
      "source": [
        "#### **2. User Access in SQL (User Roles & Permissions)**"
      ],
      "metadata": {
        "id": "RuKfByPdd4M4"
      }
    },
    {
      "cell_type": "markdown",
      "source": [
        "- Prevents unauthorized data access or modification\n",
        "\n",
        "- Supports least-privilege principle (users get only what they need)\n",
        "\n",
        "- Helps comply with data privacy laws (GDPR, HIPAA)\n",
        "\n",
        "- Protects critical operations from human error or malicious actors\n",
        "\n"
      ],
      "metadata": {
        "id": "n7F0EU-hdUR5"
      }
    },
    {
      "cell_type": "markdown",
      "source": [
        "**Basic Concepts**\n",
        "- **User**\tA login identity in the database\n",
        "- **Role**\tA collection of permissions assigned to users\n",
        "- **Privileges**\tSpecific rights like SELECT, INSERT, UPDATE, DELETE\n",
        "- **GRANT/REVOKE**\tSQL commands to assign or remove permissions"
      ],
      "metadata": {
        "id": "ttDlTPwHfwa1"
      }
    },
    {
      "cell_type": "markdown",
      "source": [
        "#### **Managing User Access in MySQL**"
      ],
      "metadata": {
        "id": "fKUz4yCKgD1H"
      }
    },
    {
      "cell_type": "markdown",
      "source": [
        "**1. Create a User**"
      ],
      "metadata": {
        "id": "VywyLE6YgI-6"
      }
    },
    {
      "cell_type": "markdown",
      "source": [
        "```\n",
        "CREATE USER 'report_user'@'localhost' IDENTIFIED BY 'secure_password';\n",
        "```\n",
        "-\n",
        "report_user: the username\n",
        "\n",
        "- @'localhost': restricts login to only from the local machine\n",
        "\n",
        "- IDENTIFIED BY: sets the user's password (hashed and stored internally)"
      ],
      "metadata": {
        "id": "ad1kjVt3ggDn"
      }
    },
    {
      "cell_type": "code",
      "source": [
        "import getpass\n",
        "\n",
        "password = getpass.getpass(\"Enter password:\") # Call the getpass function within the getpass module\n",
        "print(password) # Print the password (for demonstration purposes, avoid printing sensitive information in real applications)\n"
      ],
      "metadata": {
        "colab": {
          "base_uri": "https://localhost:8080/"
        },
        "id": "8BR6R3M_ga1k",
        "outputId": "b17510ea-3bc5-426f-e2f7-e00162b745f0"
      },
      "execution_count": null,
      "outputs": [
        {
          "output_type": "stream",
          "name": "stdout",
          "text": [
            "Enter password:··········\n",
            "abcd123\n"
          ]
        }
      ]
    },
    {
      "cell_type": "code",
      "source": [
        "#Using Placeholders: Replace %password with %s, which acts as a placeholder for a value to be supplied later.\n",
        "# Supplying Values: Pass the password variable as a tuple (password,) as the second argument to cursor.execute(). This ensures the value is properly escaped and inserted into the query, preventing SQL injection vulnerabilities and syntax errors.\n",
        "cursor.execute(\"CREATE USER 'report_user'@'localhost' IDENTIFIED BY %s\", (password,))"
      ],
      "metadata": {
        "id": "v--iXqrKhHIH"
      },
      "execution_count": null,
      "outputs": []
    },
    {
      "cell_type": "code",
      "source": [
        "# View users\n",
        "cursor.execute(\"SELECT User, Host FROM mysql.user\")"
      ],
      "metadata": {
        "id": "cF-66iUph_pY"
      },
      "execution_count": null,
      "outputs": []
    },
    {
      "cell_type": "code",
      "source": [
        "for x in cursor:\n",
        "  print(x)"
      ],
      "metadata": {
        "colab": {
          "base_uri": "https://localhost:8080/"
        },
        "id": "KohiIbrLig1L",
        "outputId": "451e156e-bb5e-424c-8197-426b55734f8c"
      },
      "execution_count": null,
      "outputs": [
        {
          "output_type": "stream",
          "name": "stdout",
          "text": [
            "('debian-sys-maint', 'localhost')\n",
            "('mysql.infoschema', 'localhost')\n",
            "('mysql.session', 'localhost')\n",
            "('mysql.sys', 'localhost')\n",
            "('report_user', 'localhost')\n",
            "('root', 'localhost')\n"
          ]
        }
      ]
    },
    {
      "cell_type": "markdown",
      "source": [
        "**2. Important Next Step: Grant Permissions**"
      ],
      "metadata": {
        "id": "5-1a4MLxiyB7"
      }
    },
    {
      "cell_type": "markdown",
      "source": [
        "**Types of Permissions in MySQL**\n",
        "  \n",
        "  **1.  Data Privileges (Table-Level)**\n",
        "\n",
        "     - SELECT\tRead data from tables\n",
        "     - INSERT\tAdd new rows\n",
        "     - UPDATE\tModify existing rows\n",
        "     - DELETE\tRemove rows\n",
        "  **2. Structure Privileges (Database/Table-Level)**\n",
        "     \n",
        "     - CREATE\tCreate new tables/databases\n",
        "     - DROP\tDelete tables/databases\n",
        "     - ALTER\tModify tables (e.g., add columns)\n",
        "     - INDEX\tCreate/remove indexes   \n",
        "   **3. Administrative Privileges**\n",
        "\n",
        "     - ALL PRIVILEGES\tGrant all permissions\n",
        "     - GRANT OPTION\tAllow user to grant permissions to others\n",
        "     - CREATE USER\tCreate new users\n",
        "     - RELOAD\tFlush changes (caches/logs)\n",
        "     - PROCESS\tView currently running queries\n",
        "  "
      ],
      "metadata": {
        "id": "AR7xVMLekjIn"
      }
    },
    {
      "cell_type": "markdown",
      "source": [
        "#### **Granting,Revoking and Checking Permissions**"
      ],
      "metadata": {
        "id": "3ftDWrufLWp-"
      }
    },
    {
      "cell_type": "markdown",
      "source": [
        "**1. Granting Permissions**\n",
        "\n",
        "- Syntax:\n",
        " ```\n",
        " GRANT privilege_type\n",
        " ON database_name.table_name\n",
        " TO 'username'@'host';\n",
        "\n",
        " ```\n",
        "- Grant ALL privileges\n",
        "```\n",
        "GRANT ALL PRIVILEGES\n",
        "ON sales_db.*\n",
        "TO 'admin_user'@'localhost';\n",
        "```"
      ],
      "metadata": {
        "id": "T81VLqGQMAy0"
      }
    },
    {
      "cell_type": "markdown",
      "source": [
        "**2. Revoking Permissions**\n",
        "- Syntax:\n",
        "```\n",
        " REVOKE  privilege_type\n",
        " ON database_name.table_name\n",
        " TO 'username'@'host';\n",
        "```\n",
        "\n"
      ],
      "metadata": {
        "id": "zivXZ7bBQ958"
      }
    },
    {
      "cell_type": "markdown",
      "source": [
        "**3. Checking Permissions**\n",
        "- Show Current Privileges:\n",
        "```\n",
        " SHOW GRANTS FOR 'user'@'localhost';\n",
        " ```\n"
      ],
      "metadata": {
        "id": "KMS0lggqTHdq"
      }
    },
    {
      "cell_type": "markdown",
      "source": [
        "**4. Apply changes(Optional)**\n",
        "```\n",
        " FLUSH PRIVILEGES;\n",
        "```\n",
        "- It tells MySQL to **reload the privilege tables** from the mysql system database.\n",
        "- Not always necessary in modern MySQL, but safe to include.\n",
        "- Without FLUSH PRIVILEGES, the change won’t take effect until MySQL is restarted.\n",
        "- Avoid directly modifying system tables.\n",
        "- Use GRANT, REVOKE, or ALTER USER instead—they apply changes instantly without needing FLUSH PRIVILEGES"
      ],
      "metadata": {
        "id": "L7vkvDR-TvJ7"
      }
    },
    {
      "cell_type": "markdown",
      "source": [
        "**Let's Try**"
      ],
      "metadata": {
        "id": "JK968BNWTCzI"
      }
    },
    {
      "cell_type": "code",
      "source": [
        "# Grant Permissions\n",
        "query = \"GRANT SELECT ON mydb.employees TO 'report_user'@'localhost'\"\n",
        "cursor.execute(query)"
      ],
      "metadata": {
        "id": "qvwVAS3Niogd"
      },
      "execution_count": null,
      "outputs": []
    },
    {
      "cell_type": "code",
      "source": [
        "# Revoking permissions\n",
        "query='''\n",
        " REVOKE INSERT, UPDATE\n",
        " ON mydb.employees\n",
        " FROM 'report_user'@'localhost';\n",
        " '''\n",
        "cursor.execute(query)\n"
      ],
      "metadata": {
        "id": "dMRO6vhnRh6B"
      },
      "execution_count": null,
      "outputs": []
    },
    {
      "cell_type": "code",
      "source": [
        "#Check permissons\n",
        "cursor.execute(\"SHOW GRANTS FOR 'report_user'@'localhost'\")\n",
        "\n",
        "for x in cursor:\n",
        "  print(x)"
      ],
      "metadata": {
        "colab": {
          "base_uri": "https://localhost:8080/"
        },
        "id": "WXA1-1qJNTJt",
        "outputId": "c882c02d-f2e1-4328-b9b1-f10b87bcaae3"
      },
      "execution_count": null,
      "outputs": [
        {
          "output_type": "stream",
          "name": "stdout",
          "text": [
            "('GRANT USAGE ON *.* TO `report_user`@`localhost`',)\n",
            "('GRANT SELECT ON `mydb`.`employees` TO `report_user`@`localhost`',)\n"
          ]
        }
      ]
    },
    {
      "cell_type": "markdown",
      "source": [
        "**Use 'resport_user'@'localhost'**"
      ],
      "metadata": {
        "id": "8aWRNj5AOYRN"
      }
    },
    {
      "cell_type": "code",
      "source": [
        "# Use 'report_user' @'localhost\n",
        "cursor.close()\n",
        "connection.close()\n",
        "# Create connection with user report_user\n",
        "connection = mysql.connector.connect(user='report_user', password=password, host='localhost', database='mydb')"
      ],
      "metadata": {
        "id": "YMOU9-eyOi8v"
      },
      "execution_count": null,
      "outputs": []
    },
    {
      "cell_type": "code",
      "source": [
        "# Create cursor\n",
        "cursor = connection.cursor()\n",
        "#Execute query to access employees table root user\n",
        "cursor.execute(\"SELECT * FROM employees\")\n",
        "for x in cursor:\n",
        "  print(x)"
      ],
      "metadata": {
        "colab": {
          "base_uri": "https://localhost:8080/"
        },
        "id": "imAaj2Z1QOmO",
        "outputId": "a2683216-8ff0-4a31-f90c-ce2ee1cc7236"
      },
      "execution_count": null,
      "outputs": [
        {
          "output_type": "stream",
          "name": "stdout",
          "text": [
            "(1, 'John Doe', Decimal('50000.00'))\n",
            "(2, 'Jane Smith', Decimal('60000.00'))\n",
            "(3, 'Bob Johnson', Decimal('55000.00'))\n",
            "(4, 'Alice Brown', Decimal('52000.00'))\n"
          ]
        }
      ]
    },
    {
      "cell_type": "code",
      "source": [
        "# Try to insert data to employee table\n",
        "cursor.execute(\"INSERT INTO employees (name, salary) VALUES (%s, %s)\", (\"John Doe\", 50000.00))\n"
      ],
      "metadata": {
        "colab": {
          "base_uri": "https://localhost:8080/",
          "height": 304
        },
        "id": "h_o2DEC9VwER",
        "outputId": "c6152d16-1f93-4a10-d744-e285a8417083"
      },
      "execution_count": null,
      "outputs": [
        {
          "output_type": "error",
          "ename": "ProgrammingError",
          "evalue": "1142 (42000): INSERT command denied to user 'report_user'@'localhost' for table 'employees'",
          "traceback": [
            "\u001b[0;31m---------------------------------------------------------------------------\u001b[0m",
            "\u001b[0;31mProgrammingError\u001b[0m                          Traceback (most recent call last)",
            "\u001b[0;32m<ipython-input-45-bd99f8cb8387>\u001b[0m in \u001b[0;36m<cell line: 0>\u001b[0;34m()\u001b[0m\n\u001b[1;32m      1\u001b[0m \u001b[0;31m# Try to insert data to employee table\u001b[0m\u001b[0;34m\u001b[0m\u001b[0;34m\u001b[0m\u001b[0m\n\u001b[0;32m----> 2\u001b[0;31m \u001b[0mcursor\u001b[0m\u001b[0;34m.\u001b[0m\u001b[0mexecute\u001b[0m\u001b[0;34m(\u001b[0m\u001b[0;34m\"INSERT INTO employees (name, salary) VALUES (%s, %s)\"\u001b[0m\u001b[0;34m,\u001b[0m \u001b[0;34m(\u001b[0m\u001b[0;34m\"John Doe\"\u001b[0m\u001b[0;34m,\u001b[0m \u001b[0;36m50000.00\u001b[0m\u001b[0;34m)\u001b[0m\u001b[0;34m)\u001b[0m\u001b[0;34m\u001b[0m\u001b[0;34m\u001b[0m\u001b[0m\n\u001b[0m",
            "\u001b[0;32m/usr/local/lib/python3.11/dist-packages/mysql/connector/cursor.py\u001b[0m in \u001b[0;36mexecute\u001b[0;34m(self, operation, params, map_results)\u001b[0m\n\u001b[1;32m    416\u001b[0m \u001b[0;34m\u001b[0m\u001b[0m\n\u001b[1;32m    417\u001b[0m         self._handle_result(\n\u001b[0;32m--> 418\u001b[0;31m             self._connection.cmd_query(\n\u001b[0m\u001b[1;32m    419\u001b[0m                 \u001b[0mself\u001b[0m\u001b[0;34m.\u001b[0m\u001b[0m_stmt_partition\u001b[0m\u001b[0;34m[\u001b[0m\u001b[0;34m\"mappable_stmt\"\u001b[0m\u001b[0;34m]\u001b[0m\u001b[0;34m,\u001b[0m\u001b[0;34m\u001b[0m\u001b[0;34m\u001b[0m\u001b[0m\n\u001b[1;32m    420\u001b[0m                 \u001b[0mread_timeout\u001b[0m\u001b[0;34m=\u001b[0m\u001b[0mself\u001b[0m\u001b[0;34m.\u001b[0m\u001b[0m_read_timeout\u001b[0m\u001b[0;34m,\u001b[0m\u001b[0;34m\u001b[0m\u001b[0;34m\u001b[0m\u001b[0m\n",
            "\u001b[0;32m/usr/local/lib/python3.11/dist-packages/mysql/connector/opentelemetry/context_propagation.py\u001b[0m in \u001b[0;36mwrapper\u001b[0;34m(cnx, *args, **kwargs)\u001b[0m\n\u001b[1;32m    104\u001b[0m \u001b[0;34m\u001b[0m\u001b[0m\n\u001b[1;32m    105\u001b[0m         \u001b[0;32mtry\u001b[0m\u001b[0;34m:\u001b[0m\u001b[0;34m\u001b[0m\u001b[0;34m\u001b[0m\u001b[0m\n\u001b[0;32m--> 106\u001b[0;31m             \u001b[0mresult\u001b[0m \u001b[0;34m=\u001b[0m \u001b[0mmethod\u001b[0m\u001b[0;34m(\u001b[0m\u001b[0mcnx\u001b[0m\u001b[0;34m,\u001b[0m \u001b[0;34m*\u001b[0m\u001b[0margs\u001b[0m\u001b[0;34m,\u001b[0m \u001b[0;34m**\u001b[0m\u001b[0mkwargs\u001b[0m\u001b[0;34m)\u001b[0m\u001b[0;34m\u001b[0m\u001b[0;34m\u001b[0m\u001b[0m\n\u001b[0m\u001b[1;32m    107\u001b[0m         \u001b[0;32mfinally\u001b[0m\u001b[0;34m:\u001b[0m\u001b[0;34m\u001b[0m\u001b[0;34m\u001b[0m\u001b[0m\n\u001b[1;32m    108\u001b[0m             \u001b[0;32mif\u001b[0m \u001b[0mtp_header\u001b[0m \u001b[0;32mis\u001b[0m \u001b[0;32mnot\u001b[0m \u001b[0;32mNone\u001b[0m\u001b[0;34m:\u001b[0m\u001b[0;34m\u001b[0m\u001b[0;34m\u001b[0m\u001b[0m\n",
            "\u001b[0;32m/usr/local/lib/python3.11/dist-packages/mysql/connector/_decorating.py\u001b[0m in \u001b[0;36mhandle_cnx_method\u001b[0;34m(cnx, *args, **kwargs)\u001b[0m\n\u001b[1;32m     87\u001b[0m                 \u001b[0;32mif\u001b[0m \u001b[0misinstance\u001b[0m\u001b[0;34m(\u001b[0m\u001b[0merr\u001b[0m\u001b[0;34m,\u001b[0m \u001b[0mTimeoutError\u001b[0m\u001b[0;34m)\u001b[0m\u001b[0;34m:\u001b[0m\u001b[0;34m\u001b[0m\u001b[0;34m\u001b[0m\u001b[0m\n\u001b[1;32m     88\u001b[0m                     \u001b[0mcnx\u001b[0m\u001b[0;34m.\u001b[0m\u001b[0mclose\u001b[0m\u001b[0;34m(\u001b[0m\u001b[0;34m)\u001b[0m\u001b[0;34m\u001b[0m\u001b[0;34m\u001b[0m\u001b[0m\n\u001b[0;32m---> 89\u001b[0;31m                 \u001b[0;32mraise\u001b[0m \u001b[0merr\u001b[0m\u001b[0;34m\u001b[0m\u001b[0;34m\u001b[0m\u001b[0m\n\u001b[0m\u001b[1;32m     90\u001b[0m \u001b[0;34m\u001b[0m\u001b[0m\n\u001b[1;32m     91\u001b[0m         \u001b[0;32mreturn\u001b[0m \u001b[0mhandle_cnx_method\u001b[0m\u001b[0;34m\u001b[0m\u001b[0;34m\u001b[0m\u001b[0m\n",
            "\u001b[0;32m/usr/local/lib/python3.11/dist-packages/mysql/connector/_decorating.py\u001b[0m in \u001b[0;36mhandle_cnx_method\u001b[0;34m(cnx, *args, **kwargs)\u001b[0m\n\u001b[1;32m     83\u001b[0m         ) -> Any:\n\u001b[1;32m     84\u001b[0m             \u001b[0;32mtry\u001b[0m\u001b[0;34m:\u001b[0m\u001b[0;34m\u001b[0m\u001b[0;34m\u001b[0m\u001b[0m\n\u001b[0;32m---> 85\u001b[0;31m                 \u001b[0;32mreturn\u001b[0m \u001b[0mcnx_method\u001b[0m\u001b[0;34m(\u001b[0m\u001b[0mcnx\u001b[0m\u001b[0;34m,\u001b[0m \u001b[0;34m*\u001b[0m\u001b[0margs\u001b[0m\u001b[0;34m,\u001b[0m \u001b[0;34m**\u001b[0m\u001b[0mkwargs\u001b[0m\u001b[0;34m)\u001b[0m\u001b[0;34m\u001b[0m\u001b[0;34m\u001b[0m\u001b[0m\n\u001b[0m\u001b[1;32m     86\u001b[0m             \u001b[0;32mexcept\u001b[0m \u001b[0mException\u001b[0m \u001b[0;32mas\u001b[0m \u001b[0merr\u001b[0m\u001b[0;34m:\u001b[0m\u001b[0;34m\u001b[0m\u001b[0;34m\u001b[0m\u001b[0m\n\u001b[1;32m     87\u001b[0m                 \u001b[0;32mif\u001b[0m \u001b[0misinstance\u001b[0m\u001b[0;34m(\u001b[0m\u001b[0merr\u001b[0m\u001b[0;34m,\u001b[0m \u001b[0mTimeoutError\u001b[0m\u001b[0;34m)\u001b[0m\u001b[0;34m:\u001b[0m\u001b[0;34m\u001b[0m\u001b[0;34m\u001b[0m\u001b[0m\n",
            "\u001b[0;32m/usr/local/lib/python3.11/dist-packages/mysql/connector/connection.py\u001b[0m in \u001b[0;36mcmd_query\u001b[0;34m(self, query, raw, buffered, raw_as_string, **kwargs)\u001b[0m\n\u001b[1;32m    982\u001b[0m             \u001b[0mwrite_timeout\u001b[0m \u001b[0;34m=\u001b[0m \u001b[0mkwargs\u001b[0m\u001b[0;34m.\u001b[0m\u001b[0mget\u001b[0m\u001b[0;34m(\u001b[0m\u001b[0;34m\"write_timeout\"\u001b[0m\u001b[0;34m,\u001b[0m \u001b[0;32mNone\u001b[0m\u001b[0;34m)\u001b[0m\u001b[0;34m\u001b[0m\u001b[0;34m\u001b[0m\u001b[0m\n\u001b[1;32m    983\u001b[0m \u001b[0;34m\u001b[0m\u001b[0m\n\u001b[0;32m--> 984\u001b[0;31m             result = self._handle_result(\n\u001b[0m\u001b[1;32m    985\u001b[0m                 self._send_cmd(\n\u001b[1;32m    986\u001b[0m                     \u001b[0mServerCmd\u001b[0m\u001b[0;34m.\u001b[0m\u001b[0mQUERY\u001b[0m\u001b[0;34m,\u001b[0m\u001b[0;34m\u001b[0m\u001b[0;34m\u001b[0m\u001b[0m\n",
            "\u001b[0;32m/usr/local/lib/python3.11/dist-packages/mysql/connector/_decorating.py\u001b[0m in \u001b[0;36mhandle_cnx_method\u001b[0;34m(cnx, *args, **kwargs)\u001b[0m\n\u001b[1;32m     87\u001b[0m                 \u001b[0;32mif\u001b[0m \u001b[0misinstance\u001b[0m\u001b[0;34m(\u001b[0m\u001b[0merr\u001b[0m\u001b[0;34m,\u001b[0m \u001b[0mTimeoutError\u001b[0m\u001b[0;34m)\u001b[0m\u001b[0;34m:\u001b[0m\u001b[0;34m\u001b[0m\u001b[0;34m\u001b[0m\u001b[0m\n\u001b[1;32m     88\u001b[0m                     \u001b[0mcnx\u001b[0m\u001b[0;34m.\u001b[0m\u001b[0mclose\u001b[0m\u001b[0;34m(\u001b[0m\u001b[0;34m)\u001b[0m\u001b[0;34m\u001b[0m\u001b[0;34m\u001b[0m\u001b[0m\n\u001b[0;32m---> 89\u001b[0;31m                 \u001b[0;32mraise\u001b[0m \u001b[0merr\u001b[0m\u001b[0;34m\u001b[0m\u001b[0;34m\u001b[0m\u001b[0m\n\u001b[0m\u001b[1;32m     90\u001b[0m \u001b[0;34m\u001b[0m\u001b[0m\n\u001b[1;32m     91\u001b[0m         \u001b[0;32mreturn\u001b[0m \u001b[0mhandle_cnx_method\u001b[0m\u001b[0;34m\u001b[0m\u001b[0;34m\u001b[0m\u001b[0m\n",
            "\u001b[0;32m/usr/local/lib/python3.11/dist-packages/mysql/connector/_decorating.py\u001b[0m in \u001b[0;36mhandle_cnx_method\u001b[0;34m(cnx, *args, **kwargs)\u001b[0m\n\u001b[1;32m     83\u001b[0m         ) -> Any:\n\u001b[1;32m     84\u001b[0m             \u001b[0;32mtry\u001b[0m\u001b[0;34m:\u001b[0m\u001b[0;34m\u001b[0m\u001b[0;34m\u001b[0m\u001b[0m\n\u001b[0;32m---> 85\u001b[0;31m                 \u001b[0;32mreturn\u001b[0m \u001b[0mcnx_method\u001b[0m\u001b[0;34m(\u001b[0m\u001b[0mcnx\u001b[0m\u001b[0;34m,\u001b[0m \u001b[0;34m*\u001b[0m\u001b[0margs\u001b[0m\u001b[0;34m,\u001b[0m \u001b[0;34m**\u001b[0m\u001b[0mkwargs\u001b[0m\u001b[0;34m)\u001b[0m\u001b[0;34m\u001b[0m\u001b[0;34m\u001b[0m\u001b[0m\n\u001b[0m\u001b[1;32m     86\u001b[0m             \u001b[0;32mexcept\u001b[0m \u001b[0mException\u001b[0m \u001b[0;32mas\u001b[0m \u001b[0merr\u001b[0m\u001b[0;34m:\u001b[0m\u001b[0;34m\u001b[0m\u001b[0;34m\u001b[0m\u001b[0m\n\u001b[1;32m     87\u001b[0m                 \u001b[0;32mif\u001b[0m \u001b[0misinstance\u001b[0m\u001b[0;34m(\u001b[0m\u001b[0merr\u001b[0m\u001b[0;34m,\u001b[0m \u001b[0mTimeoutError\u001b[0m\u001b[0;34m)\u001b[0m\u001b[0;34m:\u001b[0m\u001b[0;34m\u001b[0m\u001b[0;34m\u001b[0m\u001b[0m\n",
            "\u001b[0;32m/usr/local/lib/python3.11/dist-packages/mysql/connector/connection.py\u001b[0m in \u001b[0;36m_handle_result\u001b[0;34m(self, packet, read_timeout, write_timeout)\u001b[0m\n\u001b[1;32m    743\u001b[0m             \u001b[0;32mreturn\u001b[0m \u001b[0mself\u001b[0m\u001b[0;34m.\u001b[0m\u001b[0m_handle_eof\u001b[0m\u001b[0;34m(\u001b[0m\u001b[0mpacket\u001b[0m\u001b[0;34m)\u001b[0m\u001b[0;34m\u001b[0m\u001b[0;34m\u001b[0m\u001b[0m\n\u001b[1;32m    744\u001b[0m         \u001b[0;32mif\u001b[0m \u001b[0mpacket\u001b[0m\u001b[0;34m[\u001b[0m\u001b[0;36m4\u001b[0m\u001b[0;34m]\u001b[0m \u001b[0;34m==\u001b[0m \u001b[0mERR_STATUS\u001b[0m\u001b[0;34m:\u001b[0m\u001b[0;34m\u001b[0m\u001b[0;34m\u001b[0m\u001b[0m\n\u001b[0;32m--> 745\u001b[0;31m             \u001b[0;32mraise\u001b[0m \u001b[0mget_exception\u001b[0m\u001b[0;34m(\u001b[0m\u001b[0mpacket\u001b[0m\u001b[0;34m)\u001b[0m\u001b[0;34m\u001b[0m\u001b[0;34m\u001b[0m\u001b[0m\n\u001b[0m\u001b[1;32m    746\u001b[0m \u001b[0;34m\u001b[0m\u001b[0m\n\u001b[1;32m    747\u001b[0m         \u001b[0;31m# We have a text result set\u001b[0m\u001b[0;34m\u001b[0m\u001b[0;34m\u001b[0m\u001b[0m\n",
            "\u001b[0;31mProgrammingError\u001b[0m: 1142 (42000): INSERT command denied to user 'report_user'@'localhost' for table 'employees'"
          ]
        }
      ]
    },
    {
      "cell_type": "markdown",
      "source": [
        "It gives programming error 1142(42000): INSERT command denied to user 'report_user'@'localhost' for table 'employees' due to revoke permission.\n"
      ],
      "metadata": {
        "id": "TU_vdsCGV8do"
      }
    },
    {
      "cell_type": "code",
      "source": [
        "#close cursor and connection\n",
        "cursor.close()\n",
        "connection.close()"
      ],
      "metadata": {
        "id": "SPj6aEuMQra_"
      },
      "execution_count": null,
      "outputs": []
    },
    {
      "cell_type": "markdown",
      "source": [
        "**3. Password Best Practices**\n",
        "-  Use strong passwords: mix upper/lowercase, numbers, symbols\n",
        "\n",
        "-  Use the mysql_native_password plugin when compatibility is needed"
      ],
      "metadata": {
        "id": "o1MsYDnjXHKA"
      }
    },
    {
      "cell_type": "markdown",
      "source": [
        "**How to use mysql_native_password plugin**\n",
        "- mysql_native_password is an authentication plugin in MySQL that uses the older SHA1-based password hashing method.\n",
        "- It was the default in MySQL 5.x, but in MySQL 8.0, the default is now caching_sha2_password\n",
        "\n",
        "**When to Use mysql_native_password**\n",
        "- You need compatibility with older MySQL clients/libraries (especially in older Python, PHP, Java apps).\n",
        "- You're encountering login errors like:\n",
        "```\n",
        "Authentication plugin 'caching_sha2_password' cannot be loaded\n",
        "```\n",
        "- How to use it?\n",
        "```\n",
        " CREATE USER 'username'@'localhost'\n",
        " IDENTIFIED WITH mysql_native_password\n",
        " BY 'StrongPassword123!';\n",
        "```\n",
        "- Note:**mysql_native_password is less secure than caching_sha2_password and should be used only for backward compatibility.**\n",
        "\n",
        "\n"
      ],
      "metadata": {
        "id": "loNHD7roXkVZ"
      }
    },
    {
      "cell_type": "markdown",
      "source": [
        "**caching_sha2_password**\n",
        "-   Provides stronger security compared to the older mysql_native_password, using SHA-256 hashing and optional RSA encryption for login credentials.\n",
        "```\n",
        " CREATE USER 'username'@'localhost'\n",
        " IDENTIFIED WITH caching_sha2_password\n",
        " BY 'StrongPass123!';\n",
        "```"
      ],
      "metadata": {
        "id": "CUIbxU0AZAHm"
      }
    },
    {
      "cell_type": "markdown",
      "source": [
        "**Check a User’s Auth Plugin**"
      ],
      "metadata": {
        "id": "VbmDv1p8Y7_7"
      }
    },
    {
      "cell_type": "code",
      "source": [
        "query='''\n",
        " SELECT user, host, plugin FROM mysql.user;\n",
        "'''\n",
        "cursor.execute(query)\n",
        "for x in cursor:\n",
        "  print(x)"
      ],
      "metadata": {
        "colab": {
          "base_uri": "https://localhost:8080/"
        },
        "id": "6vpq_LY5VS9b",
        "outputId": "c1e88534-96e0-4915-8f92-2292d474c40a"
      },
      "execution_count": null,
      "outputs": [
        {
          "output_type": "stream",
          "name": "stdout",
          "text": [
            "('debian-sys-maint', 'localhost', 'caching_sha2_password')\n",
            "('mysql.infoschema', 'localhost', 'caching_sha2_password')\n",
            "('mysql.session', 'localhost', 'caching_sha2_password')\n",
            "('mysql.sys', 'localhost', 'caching_sha2_password')\n",
            "('report_user', 'localhost', 'caching_sha2_password')\n",
            "('root', 'localhost', 'mysql_native_password')\n"
          ]
        }
      ]
    },
    {
      "cell_type": "code",
      "source": [
        "#changing mysql_native_password to caching_sh2_password\n",
        "query = \"\"\"\n",
        "ALTER USER 'root'@'localhost'\n",
        "IDENTIFIED WITH caching_sha2_password\n",
        "BY 'NewPass456!';\n",
        "\"\"\"\n",
        "cursor.execute(query)\n",
        "\n",
        "for x in cursor:\n",
        "  print(x)\n"
      ],
      "metadata": {
        "id": "j_PqTXs4Zith"
      },
      "execution_count": null,
      "outputs": []
    },
    {
      "cell_type": "code",
      "source": [
        "# query to get user ,host and plugin details\n",
        "query='''\n",
        " SELECT user, host, plugin FROM mysql.user;\n",
        "'''\n",
        "cursor.execute(query)\n",
        "for x in cursor:\n",
        "  print(x)\n"
      ],
      "metadata": {
        "colab": {
          "base_uri": "https://localhost:8080/"
        },
        "id": "MpZqy3gIaVie",
        "outputId": "4e365d40-9a99-46b3-a587-4b20ce5d255f"
      },
      "execution_count": null,
      "outputs": [
        {
          "output_type": "stream",
          "name": "stdout",
          "text": [
            "('debian-sys-maint', 'localhost', 'caching_sha2_password')\n",
            "('mysql.infoschema', 'localhost', 'caching_sha2_password')\n",
            "('mysql.session', 'localhost', 'caching_sha2_password')\n",
            "('mysql.sys', 'localhost', 'caching_sha2_password')\n",
            "('report_user', 'localhost', 'caching_sha2_password')\n",
            "('root', 'localhost', 'caching_sha2_password')\n"
          ]
        }
      ]
    },
    {
      "cell_type": "markdown",
      "source": [
        "####**What is SQL Data Encryption and How it Works?**"
      ],
      "metadata": {
        "id": "aOZ6SOhGbhcz"
      }
    },
    {
      "cell_type": "markdown",
      "source": [
        "**Encryption in SQL databases, especially MySQL, helps protect data at rest and data in transit, ensuring sensitive information like passwords, credit card details, or personal identifiers remains confidential — even if the database or file system is compromised.**"
      ],
      "metadata": {
        "id": "IimSjpZLbPX_"
      }
    },
    {
      "cell_type": "markdown",
      "source": [
        "- **SQL data encryptio**n is the process of converting sensitive database information into an unreadable format using cryptographic algorithms.\n",
        "- Only authorized persons with the decryption key will be able to access the actual data.\n",
        "- This ensures the security of data at rest and during transmission.\n",
        "- Encrypting and decrypting data is called cryptography.\n",
        "- SQL can encrypt data in different states\n",
        "  1. Data-at-Rest\n",
        "  2. Data-in-Transit\n",
        "\n"
      ],
      "metadata": {
        "id": "1cH0_dxoVEnm"
      }
    },
    {
      "cell_type": "markdown",
      "source": [
        "**Techniques for SQL Data Encryption**\n",
        "1. Transparent Data Encryption(TDE)\n",
        "2. Column-level Encryption"
      ],
      "metadata": {
        "id": "fGbAGFzFV2sj"
      }
    },
    {
      "cell_type": "markdown",
      "source": [
        "**1. Data at Rest**\n",
        " - Encrypts data stored on disk — e.g., tablespace files, logs.\n",
        " - **Tablespace Encryption**: Encrypts .ibd files storing InnoDB tables\n",
        " - **Log Encryption**:\tRedo, undo, and binary log encryption\n",
        " - **Keyring Plugin** :\tStores encryption keys securely"
      ],
      "metadata": {
        "id": "qVFuRVgcbisu"
      }
    },
    {
      "cell_type": "markdown",
      "source": [
        "**2. Data in Transit**\n",
        "- Encrypts data moving between clients and the server via SSL/TLS.\n",
        "- SSL (Secure Sockets Layer) and TLS (Transport Layer Security) are cryptographic protocols that encrypt data sent over a network.\n",
        "-  In MySQL, SSL/TLS protects communication between clients and the database server, preventing data interception, tampering, and impersonation."
      ],
      "metadata": {
        "id": "XAGKD1SMcGHI"
      }
    },
    {
      "cell_type": "markdown",
      "source": [
        "####**Transparent Data Encryption**"
      ],
      "metadata": {
        "id": "C6WkMpIlnb7s"
      }
    },
    {
      "cell_type": "markdown",
      "source": [
        "- Transparent Data Encryption (TDE) is a method of encrypting an entire database or specific tablespaces at rest—that is, the physical files on disk—without requiring changes to application code.\n",
        "- Automatically encrypts data before it's written to disk and decrypts it when read into memory, making the process transparent to applications and users.\n",
        "- Components in MySQL TDE:\n",
        "  - Tablespace encryption\n",
        "  - Keyring plugin\n",
        "\n"
      ],
      "metadata": {
        "id": "gkPvNqMLnaMQ"
      }
    },
    {
      "cell_type": "markdown",
      "source": [
        "**Tablespace Encryption (InnoDB)**\n",
        "- Tablespace encryption encrypts the actual physical storage files (like .ibd files in InnoDB),\n",
        "- Helping protect sensitive data from unauthorized access in case of disk theft or breach.\n",
        "- This is native to MySQL (from version 5.7+) and uses AES encryption.\n",
        "- In MySQL, a tablespace is the storage area where InnoDB stores tables and indexes.\n",
        "- Encrypting it means the data on disk is unreadable without the proper keyring."
      ],
      "metadata": {
        "id": "FM1ubx0PuDRi"
      }
    },
    {
      "cell_type": "markdown",
      "source": [
        "**What is keyring?**\n",
        "-  The Keyring plugin is a built-in mechanism in MySQL that securely stores and manages encryption keys used for data-at-rest encryption, such as tablespace, undo/redo logs, and binary logs.\n",
        "- Keep keys safe and separate from the encrypted data\n",
        "- Provide automatic key retrieval during DB startup\n",
        "- Enable AES-256 encryption support\n",
        "\n"
      ],
      "metadata": {
        "id": "zuRDSGg3x1tr"
      }
    },
    {
      "cell_type": "markdown",
      "source": [
        "####**Steps to Enable Tablespace Encryption**\n"
      ],
      "metadata": {
        "id": "33jPsDx6yezj"
      }
    },
    {
      "cell_type": "markdown",
      "source": [
        "**1. Enable the Keyring Plugin**\n",
        "- Edit your my.cnf or my.ini:\n",
        "```\n",
        "[mysqld]\n",
        "early-plugin-load=keyring_file.so\n",
        "keyring_file_data=/var/lib/mysql-keyring/keyring\n",
        "```\n",
        "\n",
        "**2. Restart MySQL**\n",
        "```\n",
        "sudo systemctl restart mysql\n",
        "```\n",
        "\n",
        "**3. Enable Encryption by Default (Optional)**\n",
        "```\n",
        "[mysqld]\n",
        "innodb_encrypt_tables=ON\n",
        "innodb_encrypt_log=ON\n",
        "innodb_encrypt_temporary_tables=ON\n",
        "```\n",
        "\n",
        "**4. Create an Encrypted Table**\n",
        "```\n",
        "CREATE TABLE employees (\n",
        "    id INT,\n",
        "    ssn VARCHAR(11)\n",
        ") ENCRYPTION='Y';\n",
        "\n",
        "```\n",
        "- The ENCRYPTION='Y' directive enables encryption for the table's tablespace.\n",
        "\n",
        "**5. Verify Encryption**\n",
        "```\n",
        "SELECT TABLE_NAME, CREATE_OPTIONS\n",
        "FROM INFORMATION_SCHEMA.TABLES\n",
        "WHERE TABLE_SCHEMA = 'your_db';\n",
        "```\n",
        "\n",
        "\n",
        "\n"
      ],
      "metadata": {
        "id": "AhCNNsExykJS"
      }
    },
    {
      "cell_type": "markdown",
      "source": [
        "####**Log Encryption**"
      ],
      "metadata": {
        "id": "z5WpiAfv0bO1"
      }
    },
    {
      "cell_type": "markdown",
      "source": [
        "- Log encryption in MySQL refers to securing the content of **log files**—like **general logs, slow query logs, and binary logs**—by encrypting them to protect sensitive information and comply with data security regulations.\n",
        "- Prevent unauthorized access to sensitive query data, especially in logs containing:\n",
        "  - User queries\n",
        "  - Passwords (if not properly parameterized)\n",
        "  - Personally identifiable information (PII)\n",
        "- Meet compliance standards like GDPR, HIPAA, or PCI-DSS\n",
        "- **General Log**\tRecords every SQL statement\n",
        "  ```\n",
        "  -- General log Configuration\n",
        "   [mysqld]\n",
        "  general_log = ON\n",
        "  general_log_file = /var/log/mysql/general.log\n",
        " ```\n",
        "- **Slow Query Log**\tLogs queries that exceed execution time\n",
        " ```\n",
        "  -- Slow query log configuration\n",
        "  [mysqld]\n",
        "  slow_query_log = 1\n",
        "  slow_query_log_file = /var/log/mysql/slow.log\n",
        "  long_query_time = 2   # Log queries taking more than 2 seconds\n",
        "  log_queries_not_using_indexes = 1\n",
        "  ```\n",
        "\n",
        "- **Binary Log**\tTracks changes to data (used for replication and recovery)\n",
        " ```\n",
        "  -- Binary Log Configuration\n",
        "  [mysqld]\n",
        "  master_verify_checksum = ON\n",
        "  binlog_checksum = CRC32\n",
        "  encrypt_binlog = ON\n",
        "\n",
        " ```\n",
        "- **Error Log**\tContains server error messages\n",
        " ```\n",
        "  -- Error log configuration\n",
        "  [mysqld]\n",
        "  log_error = /encrypted/mysql/error.log\n",
        "```\n",
        "- Secure access to log using permissions.\n",
        "```\n",
        "chmod 600 /var/log/mysql/general.log\n",
        "chown mysql:mysql /var/log/mysql/general.log\n",
        "```\n",
        "```\n",
        "chmod 600 /var/log/mysql/slow.log\n",
        "chown mysql:mysql /var/log/mysql/slow.log\n",
        "```\n",
        "```\n",
        " chmod 600 /var/log/mysql/error.log\n",
        " chown mysql:mysql /var/log/mysql/error.log\n",
        "```"
      ],
      "metadata": {
        "id": "tLYaPHt20muS"
      }
    },
    {
      "cell_type": "markdown",
      "source": [
        "#### **Column Level Encryption**"
      ],
      "metadata": {
        "id": "yWK_7c-W7XsK"
      }
    },
    {
      "cell_type": "markdown",
      "source": [
        "- **Column-level encryption encrypts specific sensitive fields**\n",
        "- Like passwords, credit cards, or SSNs in a table, offering fine-grained control over what data is encrypted — rather than encrypting the entire table or database.\n",
        "- **Fine-grained control**\tEncrypt only sensitive columns (e.g., SSN)\n",
        "- **Better performance**\tLess overhead than full table encryption\n",
        "- **Flexible key management**\tCan use different keys per column or row\n",
        "- **Compliance**\tHelps with PCI-DSS, HIPAA, GDPR, etc.\n",
        "- PCI-DSS, HIPAA, and GDPR — three major regulations that influence how data (especially sensitive data) must be stored, accessed, and protected."
      ],
      "metadata": {
        "id": "WeFDkYKf8c9q"
      }
    },
    {
      "cell_type": "markdown",
      "source": [
        "**Steps for Column-Level Encryption**"
      ],
      "metadata": {
        "id": "iGRQkQam9V7K"
      }
    },
    {
      "cell_type": "markdown",
      "source": [
        "**1. Choose the Encryption Method**\n",
        "- Use MySQL’s built-in AES_ENCRYPT() and AES_DECRYPT() functions which are\n",
        "used for symmetric encryption and decryption of sensitive data.\n",
        "- They use the AES (Advanced Encryption Standard) algorithm."
      ],
      "metadata": {
        "id": "abc_E9F3CIjt"
      }
    },
    {
      "cell_type": "markdown",
      "source": [
        "**2. Prepare the Database Table**\n",
        "- Define the encrypted column as VARBINARY, not VARCHAR, since encrypted data is binary.\n",
        "```\n",
        "CREATE TABLE users (\n",
        "    id INT PRIMARY KEY,\n",
        "    name VARCHAR(100),\n",
        "    ssn VARBINARY(255)\n",
        ");\n",
        "```"
      ],
      "metadata": {
        "id": "R1s-7VoRCtek"
      }
    },
    {
      "cell_type": "markdown",
      "source": [
        "**3. Set the Encryption Key Securely**\n",
        "- Always avoid hardcoding the key in queries or application code.\n",
        "```\n",
        "SET @key_str = 'your_secret_key';\n",
        "```\n",
        "- We can store this key:\n",
        " - In a secure environment variable\n",
        " - In a secrets manager (AWS Secrets Manager, Vault, etc.)\n",
        " - In a separate secured config file\n",
        "\n"
      ],
      "metadata": {
        "id": "qqzbQsJ9DAa1"
      }
    },
    {
      "cell_type": "markdown",
      "source": [
        "**4. Insert Encrypted Data**\n",
        "- Use AES_ENCRYPT() when inserting sensitive data.\n",
        "```\n",
        "INSERT INTO users (id, name, ssn)\n",
        "VALUES (1, 'Alice', AES_ENCRYPT('123-45-6789', @key_str));\n",
        "```\n"
      ],
      "metadata": {
        "id": "ncVYov3ifPuO"
      }
    },
    {
      "cell_type": "markdown",
      "source": [
        "**5. Query and Decrypt Data**\n",
        "- Use AES_DECRYPT() to view sensitive data.\n",
        "```\n",
        "SELECT id, name, AES_DECRYPT(ssn, @key_str) AS ssn\n",
        "FROM users;\n",
        "```\n",
        "\n"
      ],
      "metadata": {
        "id": "LSuzi1YdgxhL"
      }
    },
    {
      "cell_type": "markdown",
      "source": [
        "**6. Secure Access to Key**\n",
        "- Ensure that only privileged users or apps have access to the encryption key.\n",
        "\n"
      ],
      "metadata": {
        "id": "kOaq_UFUg8bb"
      }
    },
    {
      "cell_type": "markdown",
      "source": [
        "**Demo: AES Encryption/Decryption in Python + MySQL**"
      ],
      "metadata": {
        "id": "n2aRFHtIh0cm"
      }
    },
    {
      "cell_type": "markdown",
      "source": [
        "**1. Create Database demo_db and Create table 'users' in it.**"
      ],
      "metadata": {
        "id": "TkLlm16RjQlw"
      }
    },
    {
      "cell_type": "code",
      "source": [
        "query='''\n",
        " CREATE DATABASE IF NOT EXISTS demo_db;\n",
        " USE demo_db;\n",
        "\n",
        " CREATE TABLE IF NOT EXISTS users (\n",
        "    id INT PRIMARY KEY,\n",
        "    name VARCHAR(100),\n",
        "    ssn VARBINARY(255)\n",
        ");\n",
        "'''\n",
        "cursor.execute(query)\n"
      ],
      "metadata": {
        "id": "OWHIXeAda88s"
      },
      "execution_count": null,
      "outputs": []
    },
    {
      "cell_type": "code",
      "source": [
        "#close cursor and connection\n",
        "cursor.close()\n",
        "connection.close()"
      ],
      "metadata": {
        "id": "Nb1LDEI2kmal"
      },
      "execution_count": null,
      "outputs": []
    },
    {
      "cell_type": "code",
      "source": [
        "import mysql.connector\n",
        "#Create connection and cursor using database 'demo_db'(Note: easy to use)\n",
        "connection = mysql.connector.connect(user='root', password='root', host='localhost',database='demo_db')"
      ],
      "metadata": {
        "id": "7YvAixSWkSUi"
      },
      "execution_count": null,
      "outputs": []
    },
    {
      "cell_type": "code",
      "source": [
        "cursor = connection.cursor()"
      ],
      "metadata": {
        "id": "dt8kGEehkY5i"
      },
      "execution_count": null,
      "outputs": []
    },
    {
      "cell_type": "code",
      "source": [
        "cursor.execute(\"SHOW DATABASES\")\n",
        "for x in cursor:\n",
        "  print(x)"
      ],
      "metadata": {
        "colab": {
          "base_uri": "https://localhost:8080/"
        },
        "id": "TKeZqnDWi_Ts",
        "outputId": "0c2a5699-b80e-489c-cbf2-a00df49d19ea"
      },
      "execution_count": null,
      "outputs": [
        {
          "output_type": "stream",
          "name": "stdout",
          "text": [
            "('demo_db',)\n",
            "('information_schema',)\n",
            "('mysql',)\n",
            "('performance_schema',)\n",
            "('sys',)\n"
          ]
        }
      ]
    },
    {
      "cell_type": "markdown",
      "source": [
        "**2. Set encryption key**"
      ],
      "metadata": {
        "id": "pkQU5BNUjmGg"
      }
    },
    {
      "cell_type": "code",
      "source": [
        "#set encryption key\n",
        "encryption_key = \"securekey123\"\n",
        "cursor.execute(\"SET @key := %s\", (encryption_key,))"
      ],
      "metadata": {
        "id": "B5cNZY_mjKwD"
      },
      "execution_count": null,
      "outputs": []
    },
    {
      "cell_type": "markdown",
      "source": [
        "**3. Insert encrypted data**\n"
      ],
      "metadata": {
        "id": "DNkvZ7jSkFtq"
      }
    },
    {
      "cell_type": "code",
      "source": [
        "#Insert encrypted data\n",
        "cursor.execute(\"\"\"\n",
        "    INSERT INTO users (id, name, ssn)\n",
        "    VALUES (%s, %s, AES_ENCRYPT(%s, @key))\n",
        "\"\"\", (3, \"DAN\", \"123-47-3345\"))\n"
      ],
      "metadata": {
        "id": "_iV0Aax5kMvV"
      },
      "execution_count": null,
      "outputs": []
    },
    {
      "cell_type": "markdown",
      "source": [
        "**4.  Fetch and decrypt data**"
      ],
      "metadata": {
        "id": "hu3vemz3l_WO"
      }
    },
    {
      "cell_type": "code",
      "source": [
        "cursor.execute('''\n",
        "  SELECT id, name, CAST(AES_DECRYPT(ssn, @key) AS CHAR) AS decrypted_ssn\n",
        "  FROM users;''')\n",
        "for row in cursor.fetchall():\n",
        "    print(\"ID:\", row[0], \"| Name:\", row[1], \"| SSN:\", row[2])"
      ],
      "metadata": {
        "colab": {
          "base_uri": "https://localhost:8080/"
        },
        "id": "a42NZW3tlNi9",
        "outputId": "95d56724-7f49-4f34-b0e0-13c26a817d4d"
      },
      "execution_count": null,
      "outputs": [
        {
          "output_type": "stream",
          "name": "stdout",
          "text": [
            "ID: 1 | Name: Alice | SSN: 123-45-6789\n",
            "ID: 2 | Name: BOB | SSN: 123-45-3345\n",
            "ID: 3 | Name: DAN | SSN: 123-47-3345\n"
          ]
        }
      ]
    },
    {
      "cell_type": "markdown",
      "source": [
        "#### **Auditing**"
      ],
      "metadata": {
        "id": "mmXNSMqdoWM2"
      }
    },
    {
      "cell_type": "markdown",
      "source": [
        "- The process of tracking and recording database activity to ensure data security, compliance, and accountability.\n",
        "- Detects suspicious behavior, unauthorized access, or policy violations."
      ],
      "metadata": {
        "id": "gtocdy3koyhM"
      }
    },
    {
      "cell_type": "markdown",
      "source": [
        "**Types of SQL Auditing**\n",
        "1. Login Auditing\n",
        "  - Tracks login attempts (success/failure).\n",
        "2. Query Auditing\n",
        "  - Logs SELECT, INSERT, UPDATE, DELETE operations.\n",
        "3. Privilege Auditing\n",
        "  - Monitors GRANT/REVOKE and role assignments.\n",
        "4. Schema Auditing\n",
        "  -\tLogs DDL changes like CREATE, ALTER, DROP.\n",
        "5. Data Access Auditing\n",
        "  - Captures which data was accessed, and by whom."
      ],
      "metadata": {
        "id": "H-Fdn7GApJ8I"
      }
    },
    {
      "cell_type": "markdown",
      "source": [
        "####**Auditing Demo**"
      ],
      "metadata": {
        "id": "kL06RQDttUOR"
      }
    },
    {
      "cell_type": "code",
      "source": [
        "query='''\n",
        " SET global general_log = 1;\n",
        " SET global log_output = 'TABLE';\n",
        " SELECT * FROM mysql.general_log;\n",
        " '''\n",
        "cursor.execute(query)\n",
        "for x in cursor:\n",
        "  print(x)\n"
      ],
      "metadata": {
        "colab": {
          "base_uri": "https://localhost:8080/"
        },
        "id": "3Q_xFOQXpxpI",
        "outputId": "d678aa5e-2f0c-478b-b9ce-a5175c5a8df9"
      },
      "execution_count": null,
      "outputs": [
        {
          "output_type": "stream",
          "name": "stdout",
          "text": [
            "(datetime.datetime(2025, 5, 2, 15, 40, 26, 638675), 'root[root] @ localhost [127.0.0.1]', 14, 1, 'Query', b'SELECT * FROM mysql.general_log')\n",
            "(datetime.datetime(2025, 5, 2, 15, 40, 29, 801235), 'root[root] @ localhost [127.0.0.1]', 14, 1, 'Query', b'SET global general_log = 1;')\n",
            "(datetime.datetime(2025, 5, 2, 15, 40, 29, 801443), 'root[root] @ localhost [127.0.0.1]', 14, 1, 'Query', b\"SET global log_output = 'TABLE';\")\n",
            "(datetime.datetime(2025, 5, 2, 15, 40, 29, 801579), 'root[root] @ localhost [127.0.0.1]', 14, 1, 'Query', b'SELECT * FROM mysql.general_log')\n",
            "(datetime.datetime(2025, 5, 2, 15, 40, 30, 436570), 'root[root] @ localhost [127.0.0.1]', 14, 1, 'Query', b'SET global general_log = 1;')\n",
            "(datetime.datetime(2025, 5, 2, 15, 40, 30, 436784), 'root[root] @ localhost [127.0.0.1]', 14, 1, 'Query', b\"SET global log_output = 'TABLE';\")\n",
            "(datetime.datetime(2025, 5, 2, 15, 40, 30, 436956), 'root[root] @ localhost [127.0.0.1]', 14, 1, 'Query', b'SELECT * FROM mysql.general_log')\n",
            "(datetime.datetime(2025, 5, 2, 15, 44, 20, 57333), '[report_user] @ localhost [127.0.0.1]', 15, 1, 'Connect', b'report_user@localhost on  using SSL/TLS')\n",
            "(datetime.datetime(2025, 5, 2, 15, 44, 20, 57644), '[report_user] @ localhost [127.0.0.1]', 15, 1, 'Connect', b\"Access denied for user 'report_user'@'localhost' (using password: YES)\")\n",
            "(datetime.datetime(2025, 5, 2, 15, 44, 20, 72968), '[root] @ localhost [127.0.0.1]', 16, 1, 'Connect', b'root@localhost on your_db_name using SSL/TLS')\n",
            "(datetime.datetime(2025, 5, 2, 15, 46, 42, 107522), 'root[root] @ localhost [127.0.0.1]', 14, 1, 'Query', b'SELECT user, host, plugin FROM mysql.user')\n",
            "(datetime.datetime(2025, 5, 2, 15, 46, 45, 397619), 'root[root] @ localhost [127.0.0.1]', 14, 1, 'Query', b'SELECT user, host, plugin FROM mysql.user')\n",
            "(datetime.datetime(2025, 5, 2, 15, 46, 46, 82537), 'root[root] @ localhost [127.0.0.1]', 14, 1, 'Query', b'SELECT user, host, plugin FROM mysql.user')\n",
            "(datetime.datetime(2025, 5, 2, 15, 48, 6, 74582), '[root] @ localhost [127.0.0.1]', 17, 1, 'Connect', b'root@localhost on  using SSL/TLS')\n",
            "(datetime.datetime(2025, 5, 2, 15, 48, 6, 74862), 'root[root] @ localhost [127.0.0.1]', 17, 1, 'Connect', b\"Access denied for user 'root'@'localhost' (using password: YES)\")\n",
            "(datetime.datetime(2025, 5, 2, 15, 48, 6, 86046), '[root] @ localhost [127.0.0.1]', 18, 1, 'Connect', b'root@localhost on your_db_name using SSL/TLS')\n",
            "(datetime.datetime(2025, 5, 2, 15, 48, 53, 140539), 'root[root] @ localhost [127.0.0.1]', 14, 1, 'Quit', b'')\n",
            "(datetime.datetime(2025, 5, 2, 15, 49, 25, 518906), '[root] @ localhost [127.0.0.1]', 19, 1, 'Connect', b'root@localhost on your_db_name using SSL/TLS')\n",
            "(datetime.datetime(2025, 5, 2, 15, 50, 8, 388655), '[root] @ localhost [127.0.0.1]', 20, 1, 'Connect', b'root@localhost on mydb using SSL/TLS')\n",
            "(datetime.datetime(2025, 5, 2, 15, 50, 33, 800288), '[root] @ localhost [127.0.0.1]', 21, 1, 'Connect', b'root@localhost on mydb using SSL/TLS')\n",
            "(datetime.datetime(2025, 5, 2, 15, 50, 59, 771195), '[root] @ localhost [127.0.0.1]', 22, 1, 'Connect', b'root@localhost on demo_db using SSL/TLS')\n",
            "(datetime.datetime(2025, 5, 2, 15, 50, 59, 771860), 'root[root] @ localhost [127.0.0.1]', 22, 1, 'Query', b\"SET NAMES 'utf8mb4' COLLATE 'utf8mb4_0900_ai_ci'\")\n",
            "(datetime.datetime(2025, 5, 2, 15, 50, 59, 772230), 'root[root] @ localhost [127.0.0.1]', 22, 1, 'Query', b'SET @@session.autocommit = OFF')\n",
            "(datetime.datetime(2025, 5, 2, 15, 50, 59, 772943), 'root[root] @ localhost [127.0.0.1]', 22, 1, 'Query', b'SELECT @@session.sql_mode')\n",
            "(datetime.datetime(2025, 5, 2, 15, 50, 59, 773595), 'root[root] @ localhost [127.0.0.1]', 22, 1, 'Query', b\"INSERT INTO login_audit (username, login_time, status, host_info)\\n        VALUES ('root', '2025-05-02 15:50:59.772571', 'root', 'localhost')\")\n",
            "(datetime.datetime(2025, 5, 2, 15, 50, 59, 775754), 'root[root] @ localhost [127.0.0.1]', 22, 1, 'Quit', b'')\n",
            "(datetime.datetime(2025, 5, 2, 15, 53, 39, 662138), '[root] @ localhost [127.0.0.1]', 23, 1, 'Connect', b'root@localhost on demo_db using SSL/TLS')\n",
            "(datetime.datetime(2025, 5, 2, 15, 53, 39, 662852), 'root[root] @ localhost [127.0.0.1]', 23, 1, 'Query', b\"SET NAMES 'utf8mb4' COLLATE 'utf8mb4_0900_ai_ci'\")\n",
            "(datetime.datetime(2025, 5, 2, 15, 53, 39, 663230), 'root[root] @ localhost [127.0.0.1]', 23, 1, 'Query', b'SET @@session.autocommit = OFF')\n",
            "(datetime.datetime(2025, 5, 2, 15, 53, 47, 886237), 'root[root] @ localhost [127.0.0.1]', 23, 1, 'Query', b\"CREATE TABLE login_audit (\\n    id INT AUTO_INCREMENT PRIMARY KEY,\\n    username VARCHAR(100),\\n    login_time DATETIME,\\n    status VARCHAR(20),     -- 'SUCCESS' or 'FAILURE'\\n    host_info VARCHAR(100)\\n )\")\n",
            "(datetime.datetime(2025, 5, 2, 15, 53, 54, 109996), 'root[root] @ localhost [127.0.0.1]', 23, 1, 'Query', b'SELECT user, host, plugin FROM mysql.user')\n",
            "(datetime.datetime(2025, 5, 2, 15, 54, 14, 99740), '[root] @ localhost [127.0.0.1]', 24, 1, 'Connect', b'root@localhost on demo_db using SSL/TLS')\n",
            "(datetime.datetime(2025, 5, 2, 15, 54, 14, 100418), 'root[root] @ localhost [127.0.0.1]', 24, 1, 'Query', b\"SET NAMES 'utf8mb4' COLLATE 'utf8mb4_0900_ai_ci'\")\n",
            "(datetime.datetime(2025, 5, 2, 15, 54, 14, 100763), 'root[root] @ localhost [127.0.0.1]', 24, 1, 'Query', b'SET @@session.autocommit = OFF')\n",
            "(datetime.datetime(2025, 5, 2, 15, 54, 14, 101457), 'root[root] @ localhost [127.0.0.1]', 24, 1, 'Query', b'SELECT @@session.sql_mode')\n",
            "(datetime.datetime(2025, 5, 2, 15, 54, 14, 102026), 'root[root] @ localhost [127.0.0.1]', 24, 1, 'Query', b\"INSERT INTO login_audit (username, login_time, status, host_info)\\n        VALUES ('root', '2025-05-02 15:54:14.101119', 'root', 'localhost')\")\n",
            "(datetime.datetime(2025, 5, 2, 15, 54, 14, 104606), 'root[root] @ localhost [127.0.0.1]', 24, 1, 'Query', b'COMMIT')\n",
            "(datetime.datetime(2025, 5, 2, 15, 54, 14, 113884), 'root[root] @ localhost [127.0.0.1]', 24, 1, 'Quit', b'')\n",
            "(datetime.datetime(2025, 5, 2, 15, 54, 16, 824807), '[root] @ localhost [127.0.0.1]', 25, 1, 'Connect', b'root@localhost on demo_db using SSL/TLS')\n",
            "(datetime.datetime(2025, 5, 2, 15, 54, 16, 825454), 'root[root] @ localhost [127.0.0.1]', 25, 1, 'Query', b\"SET NAMES 'utf8mb4' COLLATE 'utf8mb4_0900_ai_ci'\")\n",
            "(datetime.datetime(2025, 5, 2, 15, 54, 16, 825789), 'root[root] @ localhost [127.0.0.1]', 25, 1, 'Query', b'SET @@session.autocommit = OFF')\n",
            "(datetime.datetime(2025, 5, 2, 15, 54, 16, 826450), 'root[root] @ localhost [127.0.0.1]', 25, 1, 'Query', b'SELECT @@session.sql_mode')\n",
            "(datetime.datetime(2025, 5, 2, 15, 54, 16, 827021), 'root[root] @ localhost [127.0.0.1]', 25, 1, 'Query', b\"INSERT INTO login_audit (username, login_time, status, host_info)\\n        VALUES ('root', '2025-05-02 15:54:16.826119', 'root', 'localhost')\")\n",
            "(datetime.datetime(2025, 5, 2, 15, 54, 16, 827727), 'root[root] @ localhost [127.0.0.1]', 25, 1, 'Query', b'COMMIT')\n",
            "(datetime.datetime(2025, 5, 2, 15, 54, 16, 840594), 'root[root] @ localhost [127.0.0.1]', 25, 1, 'Quit', b'')\n",
            "(datetime.datetime(2025, 5, 2, 15, 54, 22, 450908), 'root[root] @ localhost [127.0.0.1]', 23, 1, 'Quit', b'')\n",
            "(datetime.datetime(2025, 5, 2, 15, 54, 24, 303484), '[root] @ localhost [127.0.0.1]', 26, 1, 'Connect', b'root@localhost on demo_db using SSL/TLS')\n",
            "(datetime.datetime(2025, 5, 2, 15, 54, 24, 304163), 'root[root] @ localhost [127.0.0.1]', 26, 1, 'Query', b\"SET NAMES 'utf8mb4' COLLATE 'utf8mb4_0900_ai_ci'\")\n",
            "(datetime.datetime(2025, 5, 2, 15, 54, 24, 304512), 'root[root] @ localhost [127.0.0.1]', 26, 1, 'Query', b'SET @@session.autocommit = OFF')\n",
            "(datetime.datetime(2025, 5, 2, 15, 54, 24, 305197), 'root[root] @ localhost [127.0.0.1]', 26, 1, 'Query', b'SELECT @@session.sql_mode')\n",
            "(datetime.datetime(2025, 5, 2, 15, 54, 24, 305804), 'root[root] @ localhost [127.0.0.1]', 26, 1, 'Query', b\"INSERT INTO login_audit (username, login_time, status, host_info)\\n        VALUES ('root', '2025-05-02 15:54:24.304816', 'root', 'localhost')\")\n",
            "(datetime.datetime(2025, 5, 2, 15, 54, 24, 306423), 'root[root] @ localhost [127.0.0.1]', 26, 1, 'Query', b'COMMIT')\n",
            "(datetime.datetime(2025, 5, 2, 15, 54, 24, 314537), 'root[root] @ localhost [127.0.0.1]', 26, 1, 'Quit', b'')\n",
            "(datetime.datetime(2025, 5, 2, 15, 54, 26, 802798), '[root] @ localhost [127.0.0.1]', 27, 1, 'Connect', b'root@localhost on  using SSL/TLS')\n",
            "(datetime.datetime(2025, 5, 2, 15, 54, 26, 803060), 'root[root] @ localhost [127.0.0.1]', 27, 1, 'Connect', b\"Access denied for user 'root'@'localhost' (using password: YES)\")\n",
            "(datetime.datetime(2025, 5, 2, 15, 54, 26, 810501), '[root] @ localhost [127.0.0.1]', 28, 1, 'Connect', b'root@localhost on demo_db using SSL/TLS')\n",
            "(datetime.datetime(2025, 5, 2, 15, 54, 26, 811112), 'root[root] @ localhost [127.0.0.1]', 28, 1, 'Query', b\"SET NAMES 'utf8mb4' COLLATE 'utf8mb4_0900_ai_ci'\")\n",
            "(datetime.datetime(2025, 5, 2, 15, 54, 26, 811461), 'root[root] @ localhost [127.0.0.1]', 28, 1, 'Query', b'SET @@session.autocommit = OFF')\n",
            "(datetime.datetime(2025, 5, 2, 15, 54, 26, 812129), 'root[root] @ localhost [127.0.0.1]', 28, 1, 'Query', b'SELECT @@session.sql_mode')\n",
            "(datetime.datetime(2025, 5, 2, 15, 54, 26, 812666), 'root[root] @ localhost [127.0.0.1]', 28, 1, 'Query', b\"INSERT INTO login_audit (username, login_time, status, host_info)\\n        VALUES ('root', '2025-05-02 15:54:26.811763', 'FAILURE', 'localhost')\")\n",
            "(datetime.datetime(2025, 5, 2, 15, 54, 26, 813238), 'root[root] @ localhost [127.0.0.1]', 28, 1, 'Query', b'COMMIT')\n",
            "(datetime.datetime(2025, 5, 2, 15, 54, 26, 821680), 'root[root] @ localhost [127.0.0.1]', 28, 1, 'Quit', b'')\n",
            "(datetime.datetime(2025, 5, 2, 15, 54, 26, 829547), '[report_user] @ localhost [127.0.0.1]', 29, 1, 'Connect', b'report_user@localhost on  using SSL/TLS')\n",
            "(datetime.datetime(2025, 5, 2, 15, 54, 26, 829738), '[report_user] @ localhost [127.0.0.1]', 29, 1, 'Connect', b\"Access denied for user 'report_user'@'localhost' (using password: NO)\")\n",
            "(datetime.datetime(2025, 5, 2, 15, 54, 26, 837087), '[root] @ localhost [127.0.0.1]', 30, 1, 'Connect', b'root@localhost on demo_db using SSL/TLS')\n",
            "(datetime.datetime(2025, 5, 2, 15, 54, 26, 837572), 'root[root] @ localhost [127.0.0.1]', 30, 1, 'Query', b\"SET NAMES 'utf8mb4' COLLATE 'utf8mb4_0900_ai_ci'\")\n",
            "(datetime.datetime(2025, 5, 2, 15, 54, 26, 837906), 'root[root] @ localhost [127.0.0.1]', 30, 1, 'Query', b'SET @@session.autocommit = OFF')\n",
            "(datetime.datetime(2025, 5, 2, 15, 54, 26, 838554), 'root[root] @ localhost [127.0.0.1]', 30, 1, 'Query', b'SELECT @@session.sql_mode')\n",
            "(datetime.datetime(2025, 5, 2, 15, 54, 26, 839098), 'root[root] @ localhost [127.0.0.1]', 30, 1, 'Query', b\"INSERT INTO login_audit (username, login_time, status, host_info)\\n        VALUES ('report_user', '2025-05-02 15:54:26.838230', 'FAILURE', 'localhost')\")\n",
            "(datetime.datetime(2025, 5, 2, 15, 54, 26, 839640), 'root[root] @ localhost [127.0.0.1]', 30, 1, 'Query', b'COMMIT')\n",
            "(datetime.datetime(2025, 5, 2, 15, 54, 26, 848879), 'root[root] @ localhost [127.0.0.1]', 30, 1, 'Quit', b'')\n",
            "(datetime.datetime(2025, 5, 2, 15, 54, 42, 34398), '[root] @ localhost [127.0.0.1]', 31, 1, 'Connect', b'root@localhost on  using SSL/TLS')\n",
            "(datetime.datetime(2025, 5, 2, 15, 54, 42, 34493), 'root[root] @ localhost [127.0.0.1]', 31, 1, 'Connect', b\"Access denied for user 'root'@'localhost' (using password: YES)\")\n",
            "(datetime.datetime(2025, 5, 2, 15, 54, 42, 42088), '[root] @ localhost [127.0.0.1]', 32, 1, 'Connect', b'root@localhost on demo_db using SSL/TLS')\n",
            "(datetime.datetime(2025, 5, 2, 15, 54, 42, 42616), 'root[root] @ localhost [127.0.0.1]', 32, 1, 'Query', b\"SET NAMES 'utf8mb4' COLLATE 'utf8mb4_0900_ai_ci'\")\n",
            "(datetime.datetime(2025, 5, 2, 15, 54, 42, 43116), 'root[root] @ localhost [127.0.0.1]', 32, 1, 'Query', b'SET @@session.autocommit = OFF')\n",
            "(datetime.datetime(2025, 5, 2, 15, 54, 42, 43967), 'root[root] @ localhost [127.0.0.1]', 32, 1, 'Query', b'SELECT @@session.sql_mode')\n",
            "(datetime.datetime(2025, 5, 2, 15, 54, 42, 44653), 'root[root] @ localhost [127.0.0.1]', 32, 1, 'Query', b\"INSERT INTO login_audit (username, login_time, status, host_info)\\n        VALUES ('root', '2025-05-02 15:54:42.043492', 'FAILURE', 'localhost')\")\n",
            "(datetime.datetime(2025, 5, 2, 15, 54, 42, 45212), 'root[root] @ localhost [127.0.0.1]', 32, 1, 'Query', b'COMMIT')\n",
            "(datetime.datetime(2025, 5, 2, 15, 54, 42, 54507), 'root[root] @ localhost [127.0.0.1]', 32, 1, 'Quit', b'')\n",
            "(datetime.datetime(2025, 5, 2, 15, 54, 42, 62805), '[report_user] @ localhost [127.0.0.1]', 33, 1, 'Connect', b'report_user@localhost on  using SSL/TLS')\n",
            "(datetime.datetime(2025, 5, 2, 15, 54, 42, 62934), '[report_user] @ localhost [127.0.0.1]', 33, 1, 'Connect', b\"Access denied for user 'report_user'@'localhost' (using password: NO)\")\n",
            "(datetime.datetime(2025, 5, 2, 15, 54, 42, 70782), '[root] @ localhost [127.0.0.1]', 34, 1, 'Connect', b'root@localhost on demo_db using SSL/TLS')\n",
            "(datetime.datetime(2025, 5, 2, 15, 54, 42, 71335), 'root[root] @ localhost [127.0.0.1]', 34, 1, 'Query', b\"SET NAMES 'utf8mb4' COLLATE 'utf8mb4_0900_ai_ci'\")\n",
            "(datetime.datetime(2025, 5, 2, 15, 54, 42, 71707), 'root[root] @ localhost [127.0.0.1]', 34, 1, 'Query', b'SET @@session.autocommit = OFF')\n",
            "(datetime.datetime(2025, 5, 2, 15, 54, 42, 72573), 'root[root] @ localhost [127.0.0.1]', 34, 1, 'Query', b'SELECT @@session.sql_mode')\n",
            "(datetime.datetime(2025, 5, 2, 15, 54, 42, 73155), 'root[root] @ localhost [127.0.0.1]', 34, 1, 'Query', b\"INSERT INTO login_audit (username, login_time, status, host_info)\\n        VALUES ('report_user', '2025-05-02 15:54:42.072061', 'FAILURE', 'localhost')\")\n",
            "(datetime.datetime(2025, 5, 2, 15, 54, 42, 73691), 'root[root] @ localhost [127.0.0.1]', 34, 1, 'Query', b'COMMIT')\n",
            "(datetime.datetime(2025, 5, 2, 15, 54, 42, 80845), 'root[root] @ localhost [127.0.0.1]', 34, 1, 'Quit', b'')\n",
            "(datetime.datetime(2025, 5, 2, 15, 54, 42, 88932), '[root] @ localhost [127.0.0.1]', 35, 1, 'Connect', b'root@localhost on  using SSL/TLS')\n",
            "(datetime.datetime(2025, 5, 2, 15, 54, 42, 89407), 'root[root] @ localhost [127.0.0.1]', 35, 1, 'Query', b\"SET NAMES 'utf8mb4' COLLATE 'utf8mb4_0900_ai_ci'\")\n",
            "(datetime.datetime(2025, 5, 2, 15, 54, 42, 89752), 'root[root] @ localhost [127.0.0.1]', 35, 1, 'Query', b'SET @@session.autocommit = OFF')\n",
            "(datetime.datetime(2025, 5, 2, 15, 54, 42, 96848), '[root] @ localhost [127.0.0.1]', 36, 1, 'Connect', b'root@localhost on demo_db using SSL/TLS')\n",
            "(datetime.datetime(2025, 5, 2, 15, 54, 42, 97407), 'root[root] @ localhost [127.0.0.1]', 36, 1, 'Query', b\"SET NAMES 'utf8mb4' COLLATE 'utf8mb4_0900_ai_ci'\")\n",
            "(datetime.datetime(2025, 5, 2, 15, 54, 42, 97742), 'root[root] @ localhost [127.0.0.1]', 36, 1, 'Query', b'SET @@session.autocommit = OFF')\n",
            "(datetime.datetime(2025, 5, 2, 15, 54, 42, 98452), 'root[root] @ localhost [127.0.0.1]', 36, 1, 'Query', b'SELECT @@session.sql_mode')\n",
            "(datetime.datetime(2025, 5, 2, 15, 54, 42, 98992), 'root[root] @ localhost [127.0.0.1]', 36, 1, 'Query', b\"INSERT INTO login_audit (username, login_time, status, host_info)\\n        VALUES ('root', '2025-05-02 15:54:42.098058', 'SUCCESS', 'localhost')\")\n",
            "(datetime.datetime(2025, 5, 2, 15, 54, 42, 99597), 'root[root] @ localhost [127.0.0.1]', 36, 1, 'Query', b'COMMIT')\n",
            "(datetime.datetime(2025, 5, 2, 15, 54, 42, 107874), 'root[root] @ localhost [127.0.0.1]', 36, 1, 'Quit', b'')\n",
            "(datetime.datetime(2025, 5, 2, 15, 55, 51, 207613), '[root] @ localhost [127.0.0.1]', 37, 1, 'Connect', b'root@localhost on demo_db using SSL/TLS')\n",
            "(datetime.datetime(2025, 5, 2, 15, 55, 51, 208218), 'root[root] @ localhost [127.0.0.1]', 37, 1, 'Query', b\"SET NAMES 'utf8mb4' COLLATE 'utf8mb4_0900_ai_ci'\")\n",
            "(datetime.datetime(2025, 5, 2, 15, 55, 51, 208591), 'root[root] @ localhost [127.0.0.1]', 37, 1, 'Query', b'SET @@session.autocommit = OFF')\n",
            "(datetime.datetime(2025, 5, 2, 15, 55, 59, 255637), 'root[root] @ localhost [127.0.0.1]', 37, 1, 'Query', b'SET global general_log = 1;')\n",
            "(datetime.datetime(2025, 5, 2, 15, 55, 59, 255826), 'root[root] @ localhost [127.0.0.1]', 37, 1, 'Query', b\"SET global log_output = 'TABLE';\")\n",
            "(datetime.datetime(2025, 5, 2, 15, 55, 59, 255937), 'root[root] @ localhost [127.0.0.1]', 37, 1, 'Query', b'SELECT * FROM mysql.general_log')\n",
            "(datetime.datetime(2025, 5, 2, 15, 56, 1, 750683), 'root[root] @ localhost [127.0.0.1]', 37, 1, 'Query', b'SET global general_log = 1;')\n",
            "(datetime.datetime(2025, 5, 2, 15, 56, 1, 750901), 'root[root] @ localhost [127.0.0.1]', 37, 1, 'Query', b\"SET global log_output = 'TABLE';\")\n",
            "(datetime.datetime(2025, 5, 2, 15, 56, 1, 751057), 'root[root] @ localhost [127.0.0.1]', 37, 1, 'Query', b'SELECT * FROM mysql.general_log')\n"
          ]
        }
      ]
    },
    {
      "cell_type": "code",
      "source": [
        "import mysql.connector\n",
        "from mysql.connector import Error\n",
        "from datetime import datetime\n",
        "\n",
        "def audit_login(username, status, host='localhost'):\n",
        "    try:\n",
        "        conn = mysql.connector.connect(\n",
        "            host='localhost',\n",
        "            user='root',\n",
        "            password='root',   # Admin credentials to insert audit record\n",
        "            database='demo_db'\n",
        "        )\n",
        "        cursor = conn.cursor()\n",
        "        query = \"\"\"\n",
        "        INSERT INTO login_audit (username, login_time, status, host_info)\n",
        "        VALUES (%s, %s, %s, %s)\n",
        "        \"\"\"\n",
        "        cursor.execute(query, (username, datetime.now(), status, host))\n",
        "        conn.commit()\n",
        "    except Exception as e:\n",
        "        print(\"Audit failed:\", e)\n",
        "    finally:\n",
        "        if conn.is_connected():\n",
        "            cursor.close()\n",
        "            conn.close()\n",
        "\n",
        "def try_login(user, passwd):\n",
        "    try:\n",
        "        test_conn = mysql.connector.connect(\n",
        "            host='localhost',\n",
        "            user=user,\n",
        "            password=passwd\n",
        "        )\n",
        "        print(f\"[+] Login successful for {user}\")\n",
        "        audit_login(user, 'SUCCESS')\n",
        "    except Error as e:\n",
        "        print(f\"[-] Login failed for {user}\")\n",
        "        audit_login(user, 'FAILURE')\n",
        "\n"
      ],
      "metadata": {
        "id": "aihM9fqfqjO0"
      },
      "execution_count": null,
      "outputs": []
    },
    {
      "cell_type": "code",
      "source": [
        "query='''\n",
        "    CREATE TABLE login_audit (\n",
        "    id INT AUTO_INCREMENT PRIMARY KEY,\n",
        "    username VARCHAR(100),\n",
        "    login_time DATETIME,\n",
        "    status VARCHAR(20),     -- 'SUCCESS' or 'FAILURE'\n",
        "    host_info VARCHAR(100)\n",
        " );\n",
        "'''\n",
        "cursor.execute(query)"
      ],
      "metadata": {
        "id": "tJEXRIqPst2s"
      },
      "execution_count": null,
      "outputs": []
    },
    {
      "cell_type": "code",
      "source": [
        "# query all user\n",
        "query='''\n",
        " SELECT user, host, plugin FROM mysql.user;\n",
        "'''\n",
        "cursor.execute(query)\n",
        "for x in cursor:\n",
        "  print(x)"
      ],
      "metadata": {
        "colab": {
          "base_uri": "https://localhost:8080/"
        },
        "id": "GW7MWR8hrW3M",
        "outputId": "d294b2f0-1961-42d6-c96a-d0c6aa141d94"
      },
      "execution_count": null,
      "outputs": [
        {
          "output_type": "stream",
          "name": "stdout",
          "text": [
            "('debian-sys-maint', 'localhost', 'caching_sha2_password')\n",
            "('mysql.infoschema', 'localhost', 'caching_sha2_password')\n",
            "('mysql.session', 'localhost', 'caching_sha2_password')\n",
            "('mysql.sys', 'localhost', 'caching_sha2_password')\n",
            "('root', 'localhost', 'mysql_native_password')\n"
          ]
        }
      ]
    },
    {
      "cell_type": "code",
      "source": [
        "cursor.close()\n",
        "connection.close()"
      ],
      "metadata": {
        "id": "il5ssM5GrW1N"
      },
      "execution_count": null,
      "outputs": []
    },
    {
      "cell_type": "code",
      "source": [
        "audit_login('root', 'root')"
      ],
      "metadata": {
        "id": "3-pEPstar8X5"
      },
      "execution_count": null,
      "outputs": []
    },
    {
      "cell_type": "code",
      "source": [
        "# Example attempts\n",
        "try_login('root', 'wrong_password')\n",
        "try_login('report_user', '')\n",
        "try_login('root', 'root')\n"
      ],
      "metadata": {
        "colab": {
          "base_uri": "https://localhost:8080/"
        },
        "id": "YY86w_I4rEuB",
        "outputId": "5d560cc2-157f-4139-8ca5-a09c471aa442"
      },
      "execution_count": null,
      "outputs": [
        {
          "output_type": "stream",
          "name": "stdout",
          "text": [
            "[-] Login failed for root\n",
            "[-] Login failed for report_user\n",
            "[+] Login successful for root\n"
          ]
        }
      ]
    },
    {
      "cell_type": "markdown",
      "source": [
        "**Backups**\n",
        "- Backing up your database is essential to protect against data loss due to accidents, corruption, system failure, or cyberattacks.\n",
        "- Types of Backups:\n",
        "  1. Logical Backup\n",
        "    - Backs up data using SQL statements (e.g., mysqldump)\n",
        "  2. Physical Backup\n",
        "    - Copies database files directly from disk (e.g., mysqlhotcopy, file copy)\n",
        "  3. Incremental\n",
        "    - Only backs up changes since the last backup\n",
        "  4. Binary Log Backup\n",
        "    - Uses the binary log to capture data changes between full backups."
      ],
      "metadata": {
        "id": "JvVnVfRnB9oy"
      }
    },
    {
      "cell_type": "markdown",
      "source": [
        "**Tools for MySQl Backups**\n",
        "1. mysqldump (Logical)\n",
        "2. mysqlpump (Parallel version of mysqldump)\n",
        "3. MySQL Enterprise Backup (for hot, incremental, and encrypted backups)\n",
        "4. Percona XtraBackup (Free & powerful tool for physical backups)\n",
        "\n",
        "\n"
      ],
      "metadata": {
        "id": "A1qlJnWRI1fF"
      }
    },
    {
      "cell_type": "markdown",
      "source": [
        "**Automating Backups with Python**"
      ],
      "metadata": {
        "id": "p782kLUkLwOC"
      }
    },
    {
      "cell_type": "code",
      "source": [
        "import os\n",
        "import datetime\n",
        "\n",
        "def backup_db(user, password, db_name):\n",
        "    now = datetime.datetime.now().strftime(\"%Y-%m-%d_%H-%M-%S\")\n",
        "    file_name = f\"{db_name}_backup_{now}.sql\"\n",
        "    cmd = f\"mysqldump -u {user} -p{password} {db_name} > {file_name}\"\n",
        "    os.system(cmd)\n",
        "    print(f\"[+] Backup saved as: {file_name}\")\n",
        "\n",
        "backup_db('root', 'root', 'demo_db')\n"
      ],
      "metadata": {
        "colab": {
          "base_uri": "https://localhost:8080/"
        },
        "id": "funRNs3xLw6l",
        "outputId": "ec56cab0-7104-4bda-f361-bdcf9bd1fb98"
      },
      "execution_count": null,
      "outputs": [
        {
          "output_type": "stream",
          "name": "stdout",
          "text": [
            "[+] Backup saved as: demo_db_backup_2025-05-02_18-09-36.sql\n"
          ]
        }
      ]
    },
    {
      "cell_type": "markdown",
      "source": [
        "####**Roles And Environment**"
      ],
      "metadata": {
        "id": "f90jjRDwG3mM"
      }
    },
    {
      "cell_type": "markdown",
      "source": [
        "- To secure data effectively in a SQL or database-driven environment, it’s important to define clear roles and implement proper security practices across different environments (dev, test, production).\n",
        "\n"
      ],
      "metadata": {
        "id": "TwMqe4PBHAIj"
      }
    },
    {
      "cell_type": "markdown",
      "source": [
        "#### **User Roles & Responsibilities**\n",
        "- **DBA (Admin)**\n",
        "  - Full access; manages users, roles, backups, auditing, encryption, patching\n",
        "- **Developer**\n",
        "  - Can read/write schemas and data (in dev/test); no access to production data\n",
        "- **Data Analyst**\n",
        "  - Read-only access to curated, approved datasets\n",
        "- **Application**\n",
        "  - Limited access (only the tables/procedures needed);\n",
        "  - uses least privilege model\n",
        "- **Auditor**\n",
        "  - Read-only access to logs, changes, and permission reports"
      ],
      "metadata": {
        "id": "V9zGCDXEHMfY"
      }
    },
    {
      "cell_type": "markdown",
      "source": [
        "####**Environment-Specific Practices**\n",
        "\n",
        "- **Development**\n",
        "  - Use anonymized or fake data.\n",
        "  - No access to real PII or sensitive data.\n",
        "- **Testing**\n",
        "  - Test access controls, edge cases.\n",
        "  - Can mirror structure of production, not the data.\n",
        "- **Production**\n",
        "  - Full security controls: encryption, access audits, limited access via roles"
      ],
      "metadata": {
        "id": "wWzbchrhIAWh"
      }
    },
    {
      "cell_type": "markdown",
      "source": [
        "### **Lab**\n",
        "- Understand, identify, and mitigate SQL security issues like SQL Injection, and implement best practices such as role-based access, password encryption, and least privilege."
      ],
      "metadata": {
        "id": "-LEUDy-_ljV_"
      }
    },
    {
      "cell_type": "markdown",
      "source": [
        "**Lab Set up**\n",
        "- Database: MySQL\n",
        "- Tables: users, employees\n",
        "- Tools: MySQL Workbench or CLI, Python with mysql-connector-python"
      ],
      "metadata": {
        "id": "A0-z5nZXmZPu"
      }
    },
    {
      "cell_type": "markdown",
      "source": [
        "**Step 1: Create a Sample Users Table**\n",
        "```\n",
        "CREATE DATABASE secure_app;\n",
        "USE secure_app;\n",
        "\n",
        "CREATE TABLE users (\n",
        "    id INT AUTO_INCREMENT PRIMARY KEY,\n",
        "    username VARCHAR(50),\n",
        "    password VARCHAR(100)\n",
        ");\n",
        "\n",
        "INSERT INTO users (username, password) VALUES ('admin', 'admin123'), ('user1', 'userpass');\n",
        "```\n",
        "\n"
      ],
      "metadata": {
        "id": "ESSDVO4xmp8T"
      }
    },
    {
      "cell_type": "code",
      "source": [
        "conn=mysql.connector.connect(user='root', password='root', host='localhost')\n",
        "cursor=conn.cursor()"
      ],
      "metadata": {
        "id": "gIfY4vwTpLPW"
      },
      "execution_count": null,
      "outputs": []
    },
    {
      "cell_type": "code",
      "source": [
        "query='''\n",
        "DROP DATABASE IF EXISTS secure_app;\n",
        "CREATE DATABASE secure_app;\n",
        "USE secure_app;\n",
        "\n",
        "CREATE TABLE users (\n",
        "    id INT AUTO_INCREMENT PRIMARY KEY,\n",
        "    username VARCHAR(50),\n",
        "    password VARCHAR(100)\n",
        ");\n",
        "\n",
        "INSERT INTO users (username, password) VALUES ('admin', 'admin123'), ('user1', 'userpass');\n",
        "'''\n",
        "cursor.execute(query)"
      ],
      "metadata": {
        "id": "xgr5CiQSoI_e"
      },
      "execution_count": null,
      "outputs": []
    },
    {
      "cell_type": "code",
      "source": [
        "cursor.execute(\"SELECT * FROM users\")\n",
        "for x in cursor:\n",
        "  print(x)"
      ],
      "metadata": {
        "colab": {
          "base_uri": "https://localhost:8080/"
        },
        "id": "oLBqvrH2oUtx",
        "outputId": "9dfa1197-b75f-4e87-8788-71f9a1a2bac7"
      },
      "execution_count": null,
      "outputs": [
        {
          "output_type": "stream",
          "name": "stdout",
          "text": [
            "(1, 'admin', 'admin123')\n",
            "(2, 'user1', 'userpass')\n"
          ]
        }
      ]
    },
    {
      "cell_type": "code",
      "source": [
        "#close cursor and connection\n",
        "cursor.close()\n",
        "conn.close()"
      ],
      "metadata": {
        "id": "zSPEnHENpu4r"
      },
      "execution_count": null,
      "outputs": []
    },
    {
      "cell_type": "markdown",
      "source": [
        "**Step 2:Demonstrate SQL Injection (Unsafe Login)**"
      ],
      "metadata": {
        "id": "Mpxwe3Jcm5BF"
      }
    },
    {
      "cell_type": "code",
      "source": [
        "conn=mysql.connector.connect(user='root', password='root', host='localhost', database='secure_app')\n",
        "cursor=conn.cursor()"
      ],
      "metadata": {
        "id": "gl-hl7atq_49"
      },
      "execution_count": null,
      "outputs": []
    },
    {
      "cell_type": "code",
      "source": [
        "# DO NOT USE IN PRODUCTION\n",
        "username = input(\"Enter username: \")\n",
        "password = getpass.getpass(\"Enter password:\")  # Use getpass to hide password input\n",
        "\n",
        "query = f\"SELECT * FROM users WHERE username = '{username}' AND password = '{password}'\"\n",
        "cursor.execute(query)\n"
      ],
      "metadata": {
        "colab": {
          "base_uri": "https://localhost:8080/",
          "height": 356
        },
        "id": "FyUSLKV-nPtk",
        "outputId": "85dacab6-e86d-4176-a02e-b20dc6bd14ca"
      },
      "execution_count": null,
      "outputs": [
        {
          "name": "stdout",
          "output_type": "stream",
          "text": [
            "Enter username: admin'--\n",
            "Enter password:··········\n"
          ]
        },
        {
          "output_type": "error",
          "ename": "ProgrammingError",
          "evalue": "1064 (42000): You have an error in your SQL syntax; check the manual that corresponds to your MySQL server version for the right syntax to use near 'acd123'' at line 1",
          "traceback": [
            "\u001b[0;31m---------------------------------------------------------------------------\u001b[0m",
            "\u001b[0;31mProgrammingError\u001b[0m                          Traceback (most recent call last)",
            "\u001b[0;32m<ipython-input-62-ed7348314555>\u001b[0m in \u001b[0;36m<cell line: 0>\u001b[0;34m()\u001b[0m\n\u001b[1;32m      4\u001b[0m \u001b[0;34m\u001b[0m\u001b[0m\n\u001b[1;32m      5\u001b[0m \u001b[0mquery\u001b[0m \u001b[0;34m=\u001b[0m \u001b[0;34mf\"SELECT * FROM users WHERE username = '{username}' AND password = '{password}'\"\u001b[0m\u001b[0;34m\u001b[0m\u001b[0;34m\u001b[0m\u001b[0m\n\u001b[0;32m----> 6\u001b[0;31m \u001b[0mcursor\u001b[0m\u001b[0;34m.\u001b[0m\u001b[0mexecute\u001b[0m\u001b[0;34m(\u001b[0m\u001b[0mquery\u001b[0m\u001b[0;34m)\u001b[0m\u001b[0;34m\u001b[0m\u001b[0;34m\u001b[0m\u001b[0m\n\u001b[0m",
            "\u001b[0;32m/usr/local/lib/python3.11/dist-packages/mysql/connector/cursor.py\u001b[0m in \u001b[0;36mexecute\u001b[0;34m(self, operation, params, map_results)\u001b[0m\n\u001b[1;32m    416\u001b[0m \u001b[0;34m\u001b[0m\u001b[0m\n\u001b[1;32m    417\u001b[0m         self._handle_result(\n\u001b[0;32m--> 418\u001b[0;31m             self._connection.cmd_query(\n\u001b[0m\u001b[1;32m    419\u001b[0m                 \u001b[0mself\u001b[0m\u001b[0;34m.\u001b[0m\u001b[0m_stmt_partition\u001b[0m\u001b[0;34m[\u001b[0m\u001b[0;34m\"mappable_stmt\"\u001b[0m\u001b[0;34m]\u001b[0m\u001b[0;34m,\u001b[0m\u001b[0;34m\u001b[0m\u001b[0;34m\u001b[0m\u001b[0m\n\u001b[1;32m    420\u001b[0m                 \u001b[0mread_timeout\u001b[0m\u001b[0;34m=\u001b[0m\u001b[0mself\u001b[0m\u001b[0;34m.\u001b[0m\u001b[0m_read_timeout\u001b[0m\u001b[0;34m,\u001b[0m\u001b[0;34m\u001b[0m\u001b[0;34m\u001b[0m\u001b[0m\n",
            "\u001b[0;32m/usr/local/lib/python3.11/dist-packages/mysql/connector/opentelemetry/context_propagation.py\u001b[0m in \u001b[0;36mwrapper\u001b[0;34m(cnx, *args, **kwargs)\u001b[0m\n\u001b[1;32m    104\u001b[0m \u001b[0;34m\u001b[0m\u001b[0m\n\u001b[1;32m    105\u001b[0m         \u001b[0;32mtry\u001b[0m\u001b[0;34m:\u001b[0m\u001b[0;34m\u001b[0m\u001b[0;34m\u001b[0m\u001b[0m\n\u001b[0;32m--> 106\u001b[0;31m             \u001b[0mresult\u001b[0m \u001b[0;34m=\u001b[0m \u001b[0mmethod\u001b[0m\u001b[0;34m(\u001b[0m\u001b[0mcnx\u001b[0m\u001b[0;34m,\u001b[0m \u001b[0;34m*\u001b[0m\u001b[0margs\u001b[0m\u001b[0;34m,\u001b[0m \u001b[0;34m**\u001b[0m\u001b[0mkwargs\u001b[0m\u001b[0;34m)\u001b[0m\u001b[0;34m\u001b[0m\u001b[0;34m\u001b[0m\u001b[0m\n\u001b[0m\u001b[1;32m    107\u001b[0m         \u001b[0;32mfinally\u001b[0m\u001b[0;34m:\u001b[0m\u001b[0;34m\u001b[0m\u001b[0;34m\u001b[0m\u001b[0m\n\u001b[1;32m    108\u001b[0m             \u001b[0;32mif\u001b[0m \u001b[0mtp_header\u001b[0m \u001b[0;32mis\u001b[0m \u001b[0;32mnot\u001b[0m \u001b[0;32mNone\u001b[0m\u001b[0;34m:\u001b[0m\u001b[0;34m\u001b[0m\u001b[0;34m\u001b[0m\u001b[0m\n",
            "\u001b[0;32m/usr/local/lib/python3.11/dist-packages/mysql/connector/_decorating.py\u001b[0m in \u001b[0;36mhandle_cnx_method\u001b[0;34m(cnx, *args, **kwargs)\u001b[0m\n\u001b[1;32m     87\u001b[0m                 \u001b[0;32mif\u001b[0m \u001b[0misinstance\u001b[0m\u001b[0;34m(\u001b[0m\u001b[0merr\u001b[0m\u001b[0;34m,\u001b[0m \u001b[0mTimeoutError\u001b[0m\u001b[0;34m)\u001b[0m\u001b[0;34m:\u001b[0m\u001b[0;34m\u001b[0m\u001b[0;34m\u001b[0m\u001b[0m\n\u001b[1;32m     88\u001b[0m                     \u001b[0mcnx\u001b[0m\u001b[0;34m.\u001b[0m\u001b[0mclose\u001b[0m\u001b[0;34m(\u001b[0m\u001b[0;34m)\u001b[0m\u001b[0;34m\u001b[0m\u001b[0;34m\u001b[0m\u001b[0m\n\u001b[0;32m---> 89\u001b[0;31m                 \u001b[0;32mraise\u001b[0m \u001b[0merr\u001b[0m\u001b[0;34m\u001b[0m\u001b[0;34m\u001b[0m\u001b[0m\n\u001b[0m\u001b[1;32m     90\u001b[0m \u001b[0;34m\u001b[0m\u001b[0m\n\u001b[1;32m     91\u001b[0m         \u001b[0;32mreturn\u001b[0m \u001b[0mhandle_cnx_method\u001b[0m\u001b[0;34m\u001b[0m\u001b[0;34m\u001b[0m\u001b[0m\n",
            "\u001b[0;32m/usr/local/lib/python3.11/dist-packages/mysql/connector/_decorating.py\u001b[0m in \u001b[0;36mhandle_cnx_method\u001b[0;34m(cnx, *args, **kwargs)\u001b[0m\n\u001b[1;32m     83\u001b[0m         ) -> Any:\n\u001b[1;32m     84\u001b[0m             \u001b[0;32mtry\u001b[0m\u001b[0;34m:\u001b[0m\u001b[0;34m\u001b[0m\u001b[0;34m\u001b[0m\u001b[0m\n\u001b[0;32m---> 85\u001b[0;31m                 \u001b[0;32mreturn\u001b[0m \u001b[0mcnx_method\u001b[0m\u001b[0;34m(\u001b[0m\u001b[0mcnx\u001b[0m\u001b[0;34m,\u001b[0m \u001b[0;34m*\u001b[0m\u001b[0margs\u001b[0m\u001b[0;34m,\u001b[0m \u001b[0;34m**\u001b[0m\u001b[0mkwargs\u001b[0m\u001b[0;34m)\u001b[0m\u001b[0;34m\u001b[0m\u001b[0;34m\u001b[0m\u001b[0m\n\u001b[0m\u001b[1;32m     86\u001b[0m             \u001b[0;32mexcept\u001b[0m \u001b[0mException\u001b[0m \u001b[0;32mas\u001b[0m \u001b[0merr\u001b[0m\u001b[0;34m:\u001b[0m\u001b[0;34m\u001b[0m\u001b[0;34m\u001b[0m\u001b[0m\n\u001b[1;32m     87\u001b[0m                 \u001b[0;32mif\u001b[0m \u001b[0misinstance\u001b[0m\u001b[0;34m(\u001b[0m\u001b[0merr\u001b[0m\u001b[0;34m,\u001b[0m \u001b[0mTimeoutError\u001b[0m\u001b[0;34m)\u001b[0m\u001b[0;34m:\u001b[0m\u001b[0;34m\u001b[0m\u001b[0;34m\u001b[0m\u001b[0m\n",
            "\u001b[0;32m/usr/local/lib/python3.11/dist-packages/mysql/connector/connection.py\u001b[0m in \u001b[0;36mcmd_query\u001b[0;34m(self, query, raw, buffered, raw_as_string, **kwargs)\u001b[0m\n\u001b[1;32m    982\u001b[0m             \u001b[0mwrite_timeout\u001b[0m \u001b[0;34m=\u001b[0m \u001b[0mkwargs\u001b[0m\u001b[0;34m.\u001b[0m\u001b[0mget\u001b[0m\u001b[0;34m(\u001b[0m\u001b[0;34m\"write_timeout\"\u001b[0m\u001b[0;34m,\u001b[0m \u001b[0;32mNone\u001b[0m\u001b[0;34m)\u001b[0m\u001b[0;34m\u001b[0m\u001b[0;34m\u001b[0m\u001b[0m\n\u001b[1;32m    983\u001b[0m \u001b[0;34m\u001b[0m\u001b[0m\n\u001b[0;32m--> 984\u001b[0;31m             result = self._handle_result(\n\u001b[0m\u001b[1;32m    985\u001b[0m                 self._send_cmd(\n\u001b[1;32m    986\u001b[0m                     \u001b[0mServerCmd\u001b[0m\u001b[0;34m.\u001b[0m\u001b[0mQUERY\u001b[0m\u001b[0;34m,\u001b[0m\u001b[0;34m\u001b[0m\u001b[0;34m\u001b[0m\u001b[0m\n",
            "\u001b[0;32m/usr/local/lib/python3.11/dist-packages/mysql/connector/_decorating.py\u001b[0m in \u001b[0;36mhandle_cnx_method\u001b[0;34m(cnx, *args, **kwargs)\u001b[0m\n\u001b[1;32m     87\u001b[0m                 \u001b[0;32mif\u001b[0m \u001b[0misinstance\u001b[0m\u001b[0;34m(\u001b[0m\u001b[0merr\u001b[0m\u001b[0;34m,\u001b[0m \u001b[0mTimeoutError\u001b[0m\u001b[0;34m)\u001b[0m\u001b[0;34m:\u001b[0m\u001b[0;34m\u001b[0m\u001b[0;34m\u001b[0m\u001b[0m\n\u001b[1;32m     88\u001b[0m                     \u001b[0mcnx\u001b[0m\u001b[0;34m.\u001b[0m\u001b[0mclose\u001b[0m\u001b[0;34m(\u001b[0m\u001b[0;34m)\u001b[0m\u001b[0;34m\u001b[0m\u001b[0;34m\u001b[0m\u001b[0m\n\u001b[0;32m---> 89\u001b[0;31m                 \u001b[0;32mraise\u001b[0m \u001b[0merr\u001b[0m\u001b[0;34m\u001b[0m\u001b[0;34m\u001b[0m\u001b[0m\n\u001b[0m\u001b[1;32m     90\u001b[0m \u001b[0;34m\u001b[0m\u001b[0m\n\u001b[1;32m     91\u001b[0m         \u001b[0;32mreturn\u001b[0m \u001b[0mhandle_cnx_method\u001b[0m\u001b[0;34m\u001b[0m\u001b[0;34m\u001b[0m\u001b[0m\n",
            "\u001b[0;32m/usr/local/lib/python3.11/dist-packages/mysql/connector/_decorating.py\u001b[0m in \u001b[0;36mhandle_cnx_method\u001b[0;34m(cnx, *args, **kwargs)\u001b[0m\n\u001b[1;32m     83\u001b[0m         ) -> Any:\n\u001b[1;32m     84\u001b[0m             \u001b[0;32mtry\u001b[0m\u001b[0;34m:\u001b[0m\u001b[0;34m\u001b[0m\u001b[0;34m\u001b[0m\u001b[0m\n\u001b[0;32m---> 85\u001b[0;31m                 \u001b[0;32mreturn\u001b[0m \u001b[0mcnx_method\u001b[0m\u001b[0;34m(\u001b[0m\u001b[0mcnx\u001b[0m\u001b[0;34m,\u001b[0m \u001b[0;34m*\u001b[0m\u001b[0margs\u001b[0m\u001b[0;34m,\u001b[0m \u001b[0;34m**\u001b[0m\u001b[0mkwargs\u001b[0m\u001b[0;34m)\u001b[0m\u001b[0;34m\u001b[0m\u001b[0;34m\u001b[0m\u001b[0m\n\u001b[0m\u001b[1;32m     86\u001b[0m             \u001b[0;32mexcept\u001b[0m \u001b[0mException\u001b[0m \u001b[0;32mas\u001b[0m \u001b[0merr\u001b[0m\u001b[0;34m:\u001b[0m\u001b[0;34m\u001b[0m\u001b[0;34m\u001b[0m\u001b[0m\n\u001b[1;32m     87\u001b[0m                 \u001b[0;32mif\u001b[0m \u001b[0misinstance\u001b[0m\u001b[0;34m(\u001b[0m\u001b[0merr\u001b[0m\u001b[0;34m,\u001b[0m \u001b[0mTimeoutError\u001b[0m\u001b[0;34m)\u001b[0m\u001b[0;34m:\u001b[0m\u001b[0;34m\u001b[0m\u001b[0;34m\u001b[0m\u001b[0m\n",
            "\u001b[0;32m/usr/local/lib/python3.11/dist-packages/mysql/connector/connection.py\u001b[0m in \u001b[0;36m_handle_result\u001b[0;34m(self, packet, read_timeout, write_timeout)\u001b[0m\n\u001b[1;32m    743\u001b[0m             \u001b[0;32mreturn\u001b[0m \u001b[0mself\u001b[0m\u001b[0;34m.\u001b[0m\u001b[0m_handle_eof\u001b[0m\u001b[0;34m(\u001b[0m\u001b[0mpacket\u001b[0m\u001b[0;34m)\u001b[0m\u001b[0;34m\u001b[0m\u001b[0;34m\u001b[0m\u001b[0m\n\u001b[1;32m    744\u001b[0m         \u001b[0;32mif\u001b[0m \u001b[0mpacket\u001b[0m\u001b[0;34m[\u001b[0m\u001b[0;36m4\u001b[0m\u001b[0;34m]\u001b[0m \u001b[0;34m==\u001b[0m \u001b[0mERR_STATUS\u001b[0m\u001b[0;34m:\u001b[0m\u001b[0;34m\u001b[0m\u001b[0;34m\u001b[0m\u001b[0m\n\u001b[0;32m--> 745\u001b[0;31m             \u001b[0;32mraise\u001b[0m \u001b[0mget_exception\u001b[0m\u001b[0;34m(\u001b[0m\u001b[0mpacket\u001b[0m\u001b[0;34m)\u001b[0m\u001b[0;34m\u001b[0m\u001b[0;34m\u001b[0m\u001b[0m\n\u001b[0m\u001b[1;32m    746\u001b[0m \u001b[0;34m\u001b[0m\u001b[0m\n\u001b[1;32m    747\u001b[0m         \u001b[0;31m# We have a text result set\u001b[0m\u001b[0;34m\u001b[0m\u001b[0;34m\u001b[0m\u001b[0m\n",
            "\u001b[0;31mProgrammingError\u001b[0m: 1064 (42000): You have an error in your SQL syntax; check the manual that corresponds to your MySQL server version for the right syntax to use near 'acd123'' at line 1"
          ]
        }
      ]
    },
    {
      "cell_type": "markdown",
      "source": [
        "**The error \"ProgrammingError: 1064 (42000):**\n",
        "- You have an error in your SQL syntax; check the manual that corresponds to your MySQL server version for the right syntax to use near 'asd123'' at line 1\" indicates a syntax error in the SQL query being executed.\n",
        "- This is likely due to **SQL injection**. The user input for the username variable contains the characters '-- which comments out the rest of the query, effectively bypassing the password check. This allows the attacker to potentially gain unauthorized access to the database.\n",
        "- Specifically, the crafted username value (\"admin'--\") when inserted into the query leads to a malformed SQL statement.\n",
        "- The single quotes intended to delimit the username and password values in the query get disrupted by"
      ],
      "metadata": {
        "id": "77vu3yz4rjpl"
      }
    },
    {
      "cell_type": "markdown",
      "source": [
        "**Step 3: Prevent SQL Injection with Parameterized Query**"
      ],
      "metadata": {
        "id": "E6gquQszsQNq"
      }
    },
    {
      "cell_type": "code",
      "source": [
        "import getpass\n",
        "username = input(\"Enter username: \")\n",
        "password = getpass.getpass(\"Enter password:\")  # Use getpass to hide password input\n",
        "query = \"SELECT * FROM users WHERE username = %s AND password = %s\"\n",
        "cursor.execute(query, (username, password))"
      ],
      "metadata": {
        "colab": {
          "base_uri": "https://localhost:8080/"
        },
        "id": "Bv-_Ss_2sXeO",
        "outputId": "326568a6-764f-4108-b908-7ae32521a14a"
      },
      "execution_count": null,
      "outputs": [
        {
          "name": "stdout",
          "output_type": "stream",
          "text": [
            "Enter username: user1\n",
            "Enter password:··········\n"
          ]
        }
      ]
    },
    {
      "cell_type": "markdown",
      "source": [
        "**Step 4: Create Secure Roles and Grant Limited Permissions**\n",
        "\n",
        "\n"
      ],
      "metadata": {
        "id": "4fxxXX_Et2NY"
      }
    },
    {
      "cell_type": "code",
      "source": [
        "#Create new user\n",
        "query=\"CREATE USER 'report_user'@'localhost' IDENTIFIED BY 'SecureP@ss!';\"\n",
        "cursor.execute(query)"
      ],
      "metadata": {
        "id": "ozjlpbe4t8tn"
      },
      "execution_count": null,
      "outputs": []
    },
    {
      "cell_type": "code",
      "source": [
        "#Grant limited access\n",
        "query=\"GRANT SELECT ON secure_app.* TO 'report_user'@'localhost';\"\n",
        "cursor.execute(query)"
      ],
      "metadata": {
        "id": "sAQ-uMD_uZME"
      },
      "execution_count": null,
      "outputs": []
    },
    {
      "cell_type": "code",
      "source": [
        "#View permissions\n",
        "query=\"SHOW GRANTS FOR 'report_user'@'localhost';\"\n",
        "cursor.execute(query)\n",
        "for x in cursor:\n",
        "  print(x)"
      ],
      "metadata": {
        "colab": {
          "base_uri": "https://localhost:8080/"
        },
        "id": "Id105HwHuRhs",
        "outputId": "79cb2239-6b7b-4965-802b-14e4df63f6cb"
      },
      "execution_count": null,
      "outputs": [
        {
          "output_type": "stream",
          "name": "stdout",
          "text": [
            "('GRANT USAGE ON *.* TO `report_user`@`localhost`',)\n",
            "('GRANT SELECT ON `secure_app`.* TO `report_user`@`localhost`',)\n"
          ]
        }
      ]
    },
    {
      "cell_type": "markdown",
      "source": [
        "**Step 5: Encrypt Passwords**\n",
        "- Use hashlib library to encript password\n",
        "- Why Hash Passwords?\n",
        "  - **Security**: Hashing converts passwords into irreversible, unique strings. If a database is breached, hashed passwords are much harder to crack than plain text passwords.\n",
        " - **Privacy**: Hashing helps protect user privacy by preventing the storage of actual passwords.\n",
        " - **Best Practice**: Hashing is a standard security practice for password storage."
      ],
      "metadata": {
        "id": "tSsaD89Yu6B4"
      }
    },
    {
      "cell_type": "code",
      "source": [
        "#Encripyt password with hash\n",
        "import hashlib\n",
        "password = hashlib.sha256(\"admin123\".encode()).hexdigest()"
      ],
      "metadata": {
        "id": "pRP9zsEd4aK_"
      },
      "execution_count": null,
      "outputs": []
    },
    {
      "cell_type": "code",
      "source": [
        "#View encrypted password\n",
        "password"
      ],
      "metadata": {
        "colab": {
          "base_uri": "https://localhost:8080/",
          "height": 35
        },
        "id": "6iYJ5ErG4g81",
        "outputId": "70364791-114f-42a3-e87d-b297dcadef18"
      },
      "execution_count": null,
      "outputs": [
        {
          "output_type": "execute_result",
          "data": {
            "text/plain": [
              "'240be518fabd2724ddb6f04eeb1da5967448d7e831c08c8fa822809f74c720a9'"
            ],
            "application/vnd.google.colaboratory.intrinsic+json": {
              "type": "string"
            }
          },
          "metadata": {},
          "execution_count": 40
        }
      ]
    },
    {
      "cell_type": "code",
      "source": [
        "password = hashlib.sha256(\"admin1234\".encode()).hexdigest()"
      ],
      "metadata": {
        "id": "cZB0BR9H9PWz"
      },
      "execution_count": null,
      "outputs": []
    },
    {
      "cell_type": "markdown",
      "source": [
        "**Step 6: Enable General Log and Audit Trail**"
      ],
      "metadata": {
        "id": "9xEXCX2y45vM"
      }
    },
    {
      "cell_type": "code",
      "source": [
        "query='''\n",
        "SET GLOBAL general_log = 'ON';\n",
        "SHOW VARIABLES LIKE 'general_log_file';\n",
        "'''\n",
        "cursor.execute(query)\n",
        "for x in cursor:\n",
        "  print(x)"
      ],
      "metadata": {
        "colab": {
          "base_uri": "https://localhost:8080/"
        },
        "id": "zleqB4F74z0p",
        "outputId": "2fc935ca-47c8-4025-d94d-7f7a629ffbae"
      },
      "execution_count": null,
      "outputs": [
        {
          "output_type": "stream",
          "name": "stdout",
          "text": [
            "('general_log_file', '/var/lib/mysql/b79dba7f10f2.log')\n"
          ]
        }
      ]
    },
    {
      "cell_type": "markdown",
      "source": [
        "- Log all user activity for auditing."
      ],
      "metadata": {
        "id": "htwgyi7y5MUA"
      }
    },
    {
      "cell_type": "markdown",
      "source": [
        "**Step 7: Practice Column-Level Encryption**"
      ],
      "metadata": {
        "id": "843VSC865bjW"
      }
    },
    {
      "cell_type": "code",
      "source": [
        "#Store encrypted data\n",
        "query='''\n",
        " INSERT INTO users (username, password)\n",
        " VALUES ('secure_user', AES_ENCRYPT('securepass', 'encryption_key'));\n",
        " '''\n",
        "cursor.execute(query)"
      ],
      "metadata": {
        "colab": {
          "base_uri": "https://localhost:8080/",
          "height": 321
        },
        "id": "AcnMb-uG5g-7",
        "outputId": "0e278165-789f-4c61-82d9-71da8e4df345"
      },
      "execution_count": null,
      "outputs": [
        {
          "output_type": "error",
          "ename": "DatabaseError",
          "evalue": "1366 (HY000): Incorrect string value: '\\xFAI\\x9F5\\x87\\x82...' for column 'password' at row 1",
          "traceback": [
            "\u001b[0;31m---------------------------------------------------------------------------\u001b[0m",
            "\u001b[0;31mDatabaseError\u001b[0m                             Traceback (most recent call last)",
            "\u001b[0;32m<ipython-input-65-6cb12cb1347c>\u001b[0m in \u001b[0;36m<cell line: 0>\u001b[0;34m()\u001b[0m\n\u001b[1;32m      4\u001b[0m  \u001b[0mVALUES\u001b[0m \u001b[0;34m(\u001b[0m\u001b[0;34m'secure_user'\u001b[0m\u001b[0;34m,\u001b[0m \u001b[0mAES_ENCRYPT\u001b[0m\u001b[0;34m(\u001b[0m\u001b[0;34m'securepass'\u001b[0m\u001b[0;34m,\u001b[0m \u001b[0;34m'encryption_key'\u001b[0m\u001b[0;34m)\u001b[0m\u001b[0;34m)\u001b[0m\u001b[0;34m;\u001b[0m\u001b[0;34m\u001b[0m\u001b[0;34m\u001b[0m\u001b[0m\n\u001b[1;32m      5\u001b[0m  '''\n\u001b[0;32m----> 6\u001b[0;31m \u001b[0mcursor\u001b[0m\u001b[0;34m.\u001b[0m\u001b[0mexecute\u001b[0m\u001b[0;34m(\u001b[0m\u001b[0mquery\u001b[0m\u001b[0;34m)\u001b[0m\u001b[0;34m\u001b[0m\u001b[0;34m\u001b[0m\u001b[0m\n\u001b[0m",
            "\u001b[0;32m/usr/local/lib/python3.11/dist-packages/mysql/connector/cursor.py\u001b[0m in \u001b[0;36mexecute\u001b[0;34m(self, operation, params, map_results)\u001b[0m\n\u001b[1;32m    416\u001b[0m \u001b[0;34m\u001b[0m\u001b[0m\n\u001b[1;32m    417\u001b[0m         self._handle_result(\n\u001b[0;32m--> 418\u001b[0;31m             self._connection.cmd_query(\n\u001b[0m\u001b[1;32m    419\u001b[0m                 \u001b[0mself\u001b[0m\u001b[0;34m.\u001b[0m\u001b[0m_stmt_partition\u001b[0m\u001b[0;34m[\u001b[0m\u001b[0;34m\"mappable_stmt\"\u001b[0m\u001b[0;34m]\u001b[0m\u001b[0;34m,\u001b[0m\u001b[0;34m\u001b[0m\u001b[0;34m\u001b[0m\u001b[0m\n\u001b[1;32m    420\u001b[0m                 \u001b[0mread_timeout\u001b[0m\u001b[0;34m=\u001b[0m\u001b[0mself\u001b[0m\u001b[0;34m.\u001b[0m\u001b[0m_read_timeout\u001b[0m\u001b[0;34m,\u001b[0m\u001b[0;34m\u001b[0m\u001b[0;34m\u001b[0m\u001b[0m\n",
            "\u001b[0;32m/usr/local/lib/python3.11/dist-packages/mysql/connector/opentelemetry/context_propagation.py\u001b[0m in \u001b[0;36mwrapper\u001b[0;34m(cnx, *args, **kwargs)\u001b[0m\n\u001b[1;32m    104\u001b[0m \u001b[0;34m\u001b[0m\u001b[0m\n\u001b[1;32m    105\u001b[0m         \u001b[0;32mtry\u001b[0m\u001b[0;34m:\u001b[0m\u001b[0;34m\u001b[0m\u001b[0;34m\u001b[0m\u001b[0m\n\u001b[0;32m--> 106\u001b[0;31m             \u001b[0mresult\u001b[0m \u001b[0;34m=\u001b[0m \u001b[0mmethod\u001b[0m\u001b[0;34m(\u001b[0m\u001b[0mcnx\u001b[0m\u001b[0;34m,\u001b[0m \u001b[0;34m*\u001b[0m\u001b[0margs\u001b[0m\u001b[0;34m,\u001b[0m \u001b[0;34m**\u001b[0m\u001b[0mkwargs\u001b[0m\u001b[0;34m)\u001b[0m\u001b[0;34m\u001b[0m\u001b[0;34m\u001b[0m\u001b[0m\n\u001b[0m\u001b[1;32m    107\u001b[0m         \u001b[0;32mfinally\u001b[0m\u001b[0;34m:\u001b[0m\u001b[0;34m\u001b[0m\u001b[0;34m\u001b[0m\u001b[0m\n\u001b[1;32m    108\u001b[0m             \u001b[0;32mif\u001b[0m \u001b[0mtp_header\u001b[0m \u001b[0;32mis\u001b[0m \u001b[0;32mnot\u001b[0m \u001b[0;32mNone\u001b[0m\u001b[0;34m:\u001b[0m\u001b[0;34m\u001b[0m\u001b[0;34m\u001b[0m\u001b[0m\n",
            "\u001b[0;32m/usr/local/lib/python3.11/dist-packages/mysql/connector/_decorating.py\u001b[0m in \u001b[0;36mhandle_cnx_method\u001b[0;34m(cnx, *args, **kwargs)\u001b[0m\n\u001b[1;32m     87\u001b[0m                 \u001b[0;32mif\u001b[0m \u001b[0misinstance\u001b[0m\u001b[0;34m(\u001b[0m\u001b[0merr\u001b[0m\u001b[0;34m,\u001b[0m \u001b[0mTimeoutError\u001b[0m\u001b[0;34m)\u001b[0m\u001b[0;34m:\u001b[0m\u001b[0;34m\u001b[0m\u001b[0;34m\u001b[0m\u001b[0m\n\u001b[1;32m     88\u001b[0m                     \u001b[0mcnx\u001b[0m\u001b[0;34m.\u001b[0m\u001b[0mclose\u001b[0m\u001b[0;34m(\u001b[0m\u001b[0;34m)\u001b[0m\u001b[0;34m\u001b[0m\u001b[0;34m\u001b[0m\u001b[0m\n\u001b[0;32m---> 89\u001b[0;31m                 \u001b[0;32mraise\u001b[0m \u001b[0merr\u001b[0m\u001b[0;34m\u001b[0m\u001b[0;34m\u001b[0m\u001b[0m\n\u001b[0m\u001b[1;32m     90\u001b[0m \u001b[0;34m\u001b[0m\u001b[0m\n\u001b[1;32m     91\u001b[0m         \u001b[0;32mreturn\u001b[0m \u001b[0mhandle_cnx_method\u001b[0m\u001b[0;34m\u001b[0m\u001b[0;34m\u001b[0m\u001b[0m\n",
            "\u001b[0;32m/usr/local/lib/python3.11/dist-packages/mysql/connector/_decorating.py\u001b[0m in \u001b[0;36mhandle_cnx_method\u001b[0;34m(cnx, *args, **kwargs)\u001b[0m\n\u001b[1;32m     83\u001b[0m         ) -> Any:\n\u001b[1;32m     84\u001b[0m             \u001b[0;32mtry\u001b[0m\u001b[0;34m:\u001b[0m\u001b[0;34m\u001b[0m\u001b[0;34m\u001b[0m\u001b[0m\n\u001b[0;32m---> 85\u001b[0;31m                 \u001b[0;32mreturn\u001b[0m \u001b[0mcnx_method\u001b[0m\u001b[0;34m(\u001b[0m\u001b[0mcnx\u001b[0m\u001b[0;34m,\u001b[0m \u001b[0;34m*\u001b[0m\u001b[0margs\u001b[0m\u001b[0;34m,\u001b[0m \u001b[0;34m**\u001b[0m\u001b[0mkwargs\u001b[0m\u001b[0;34m)\u001b[0m\u001b[0;34m\u001b[0m\u001b[0;34m\u001b[0m\u001b[0m\n\u001b[0m\u001b[1;32m     86\u001b[0m             \u001b[0;32mexcept\u001b[0m \u001b[0mException\u001b[0m \u001b[0;32mas\u001b[0m \u001b[0merr\u001b[0m\u001b[0;34m:\u001b[0m\u001b[0;34m\u001b[0m\u001b[0;34m\u001b[0m\u001b[0m\n\u001b[1;32m     87\u001b[0m                 \u001b[0;32mif\u001b[0m \u001b[0misinstance\u001b[0m\u001b[0;34m(\u001b[0m\u001b[0merr\u001b[0m\u001b[0;34m,\u001b[0m \u001b[0mTimeoutError\u001b[0m\u001b[0;34m)\u001b[0m\u001b[0;34m:\u001b[0m\u001b[0;34m\u001b[0m\u001b[0;34m\u001b[0m\u001b[0m\n",
            "\u001b[0;32m/usr/local/lib/python3.11/dist-packages/mysql/connector/connection.py\u001b[0m in \u001b[0;36mcmd_query\u001b[0;34m(self, query, raw, buffered, raw_as_string, **kwargs)\u001b[0m\n\u001b[1;32m    982\u001b[0m             \u001b[0mwrite_timeout\u001b[0m \u001b[0;34m=\u001b[0m \u001b[0mkwargs\u001b[0m\u001b[0;34m.\u001b[0m\u001b[0mget\u001b[0m\u001b[0;34m(\u001b[0m\u001b[0;34m\"write_timeout\"\u001b[0m\u001b[0;34m,\u001b[0m \u001b[0;32mNone\u001b[0m\u001b[0;34m)\u001b[0m\u001b[0;34m\u001b[0m\u001b[0;34m\u001b[0m\u001b[0m\n\u001b[1;32m    983\u001b[0m \u001b[0;34m\u001b[0m\u001b[0m\n\u001b[0;32m--> 984\u001b[0;31m             result = self._handle_result(\n\u001b[0m\u001b[1;32m    985\u001b[0m                 self._send_cmd(\n\u001b[1;32m    986\u001b[0m                     \u001b[0mServerCmd\u001b[0m\u001b[0;34m.\u001b[0m\u001b[0mQUERY\u001b[0m\u001b[0;34m,\u001b[0m\u001b[0;34m\u001b[0m\u001b[0;34m\u001b[0m\u001b[0m\n",
            "\u001b[0;32m/usr/local/lib/python3.11/dist-packages/mysql/connector/_decorating.py\u001b[0m in \u001b[0;36mhandle_cnx_method\u001b[0;34m(cnx, *args, **kwargs)\u001b[0m\n\u001b[1;32m     87\u001b[0m                 \u001b[0;32mif\u001b[0m \u001b[0misinstance\u001b[0m\u001b[0;34m(\u001b[0m\u001b[0merr\u001b[0m\u001b[0;34m,\u001b[0m \u001b[0mTimeoutError\u001b[0m\u001b[0;34m)\u001b[0m\u001b[0;34m:\u001b[0m\u001b[0;34m\u001b[0m\u001b[0;34m\u001b[0m\u001b[0m\n\u001b[1;32m     88\u001b[0m                     \u001b[0mcnx\u001b[0m\u001b[0;34m.\u001b[0m\u001b[0mclose\u001b[0m\u001b[0;34m(\u001b[0m\u001b[0;34m)\u001b[0m\u001b[0;34m\u001b[0m\u001b[0;34m\u001b[0m\u001b[0m\n\u001b[0;32m---> 89\u001b[0;31m                 \u001b[0;32mraise\u001b[0m \u001b[0merr\u001b[0m\u001b[0;34m\u001b[0m\u001b[0;34m\u001b[0m\u001b[0m\n\u001b[0m\u001b[1;32m     90\u001b[0m \u001b[0;34m\u001b[0m\u001b[0m\n\u001b[1;32m     91\u001b[0m         \u001b[0;32mreturn\u001b[0m \u001b[0mhandle_cnx_method\u001b[0m\u001b[0;34m\u001b[0m\u001b[0;34m\u001b[0m\u001b[0m\n",
            "\u001b[0;32m/usr/local/lib/python3.11/dist-packages/mysql/connector/_decorating.py\u001b[0m in \u001b[0;36mhandle_cnx_method\u001b[0;34m(cnx, *args, **kwargs)\u001b[0m\n\u001b[1;32m     83\u001b[0m         ) -> Any:\n\u001b[1;32m     84\u001b[0m             \u001b[0;32mtry\u001b[0m\u001b[0;34m:\u001b[0m\u001b[0;34m\u001b[0m\u001b[0;34m\u001b[0m\u001b[0m\n\u001b[0;32m---> 85\u001b[0;31m                 \u001b[0;32mreturn\u001b[0m \u001b[0mcnx_method\u001b[0m\u001b[0;34m(\u001b[0m\u001b[0mcnx\u001b[0m\u001b[0;34m,\u001b[0m \u001b[0;34m*\u001b[0m\u001b[0margs\u001b[0m\u001b[0;34m,\u001b[0m \u001b[0;34m**\u001b[0m\u001b[0mkwargs\u001b[0m\u001b[0;34m)\u001b[0m\u001b[0;34m\u001b[0m\u001b[0;34m\u001b[0m\u001b[0m\n\u001b[0m\u001b[1;32m     86\u001b[0m             \u001b[0;32mexcept\u001b[0m \u001b[0mException\u001b[0m \u001b[0;32mas\u001b[0m \u001b[0merr\u001b[0m\u001b[0;34m:\u001b[0m\u001b[0;34m\u001b[0m\u001b[0;34m\u001b[0m\u001b[0m\n\u001b[1;32m     87\u001b[0m                 \u001b[0;32mif\u001b[0m \u001b[0misinstance\u001b[0m\u001b[0;34m(\u001b[0m\u001b[0merr\u001b[0m\u001b[0;34m,\u001b[0m \u001b[0mTimeoutError\u001b[0m\u001b[0;34m)\u001b[0m\u001b[0;34m:\u001b[0m\u001b[0;34m\u001b[0m\u001b[0;34m\u001b[0m\u001b[0m\n",
            "\u001b[0;32m/usr/local/lib/python3.11/dist-packages/mysql/connector/connection.py\u001b[0m in \u001b[0;36m_handle_result\u001b[0;34m(self, packet, read_timeout, write_timeout)\u001b[0m\n\u001b[1;32m    743\u001b[0m             \u001b[0;32mreturn\u001b[0m \u001b[0mself\u001b[0m\u001b[0;34m.\u001b[0m\u001b[0m_handle_eof\u001b[0m\u001b[0;34m(\u001b[0m\u001b[0mpacket\u001b[0m\u001b[0;34m)\u001b[0m\u001b[0;34m\u001b[0m\u001b[0;34m\u001b[0m\u001b[0m\n\u001b[1;32m    744\u001b[0m         \u001b[0;32mif\u001b[0m \u001b[0mpacket\u001b[0m\u001b[0;34m[\u001b[0m\u001b[0;36m4\u001b[0m\u001b[0;34m]\u001b[0m \u001b[0;34m==\u001b[0m \u001b[0mERR_STATUS\u001b[0m\u001b[0;34m:\u001b[0m\u001b[0;34m\u001b[0m\u001b[0;34m\u001b[0m\u001b[0m\n\u001b[0;32m--> 745\u001b[0;31m             \u001b[0;32mraise\u001b[0m \u001b[0mget_exception\u001b[0m\u001b[0;34m(\u001b[0m\u001b[0mpacket\u001b[0m\u001b[0;34m)\u001b[0m\u001b[0;34m\u001b[0m\u001b[0;34m\u001b[0m\u001b[0m\n\u001b[0m\u001b[1;32m    746\u001b[0m \u001b[0;34m\u001b[0m\u001b[0m\n\u001b[1;32m    747\u001b[0m         \u001b[0;31m# We have a text result set\u001b[0m\u001b[0;34m\u001b[0m\u001b[0;34m\u001b[0m\u001b[0m\n",
            "\u001b[0;31mDatabaseError\u001b[0m: 1366 (HY000): Incorrect string value: '\\xFAI\\x9F5\\x87\\x82...' for column 'password' at row 1"
          ]
        }
      ]
    },
    {
      "cell_type": "code",
      "source": [
        "# Change the password column data type to VARBINARY or BLOB\n",
        "query = '''\n",
        "ALTER TABLE users\n",
        "MODIFY COLUMN password VARBINARY(255);  -- Or BLOB if needed\n",
        "'''\n",
        "cursor.execute(query)\n",
        "\n",
        "# Now you can insert the encrypted data:\n",
        "query = '''\n",
        "INSERT INTO users (username, password)\n",
        "VALUES ('secure_user', AES_ENCRYPT('securepass', 'encryption_key'));\n",
        "'''\n",
        "cursor.execute(query)"
      ],
      "metadata": {
        "id": "ybkTHfeP9f75"
      },
      "execution_count": null,
      "outputs": []
    },
    {
      "cell_type": "code",
      "source": [
        "query='''\n",
        " SELECT username, CAST(AES_DECRYPT(password, 'encryption_key') AS CHAR) AS decrypted_password\n",
        " FROM users;\n",
        " '''\n",
        "cursor.execute(query)\n",
        "for x in cursor:\n",
        "  print(x)"
      ],
      "metadata": {
        "id": "a5a8A51-53Pk"
      },
      "execution_count": null,
      "outputs": []
    },
    {
      "cell_type": "markdown",
      "source": [
        "**Step 8: Close Connection and Cursor**"
      ],
      "metadata": {
        "id": "togjchBm6ww9"
      }
    },
    {
      "cell_type": "code",
      "source": [
        "#Close cursor and connection\n",
        "cursor.close()\n",
        "conn.close()"
      ],
      "metadata": {
        "id": "A6nRYQTJ639s"
      },
      "execution_count": null,
      "outputs": []
    },
    {
      "cell_type": "markdown",
      "source": [
        "----\n",
        "**Conclusion:**\n",
        "- SQL Security and Best Practices\n",
        "SQL security is not just about writing correct queries — it's about safeguarding data, preventing misuse, and ensuring the integrity of your database systems.  \n",
        "- From guarding against SQL injection to managing roles and encrypting sensitive data, security must be built into every layer of your database application.\n",
        "- **SQL Injection is Preventable**\n",
        " - Always use parameterized queries or prepared statements to avoid execution of malicious inputs.\n",
        "- **Principle of Least Privilege**\n",
        "  - Assign users only the permissions they absolutely need. Avoid using root or admin for general queries.\n",
        "- **User and Role Management**\n",
        "  - Define roles for different responsibilities and enforce role-based access control.\n",
        "\n",
        "- **Data Encryption**\n",
        " - Use column-level encryption for sensitive fields like passwords and personal information.\n",
        " - Enable data-at-rest and data-in-transit encryption (SSL/TLS).\n",
        "\n",
        "- **Logging and Auditing**\n",
        "  - Enable general logs, slow query logs, and use auditing tools to track suspicious activity.\n",
        "\n",
        "- **Secure Authentication**\n",
        " - Use strong passwords, password plugins (e.g., caching_sha2_password), and password policies.\n",
        "\n",
        "- **Backups and Recovery**\n",
        " - Maintain regular, secure backups and test recovery strategies to prevent data loss.\n",
        "\n",
        "\n",
        "\n"
      ],
      "metadata": {
        "id": "XfniA6x97SWm"
      }
    },
    {
      "cell_type": "markdown",
      "source": [
        "--------\n",
        "###**References:**\n",
        "- https://dev.mysql.com/doc/refman/8.4/en/encryption-functions.html\n",
        "- https://quest-technology-group.com/academy/what-is-data-in-transit-vs-data-at-rest\n",
        "- https://www.geeksforgeeks.org/sql-data-encryption/\n",
        "- https://red9.com/blog/sql-server-best-encryption-features/"
      ],
      "metadata": {
        "id": "fPyWgONnDJeP"
      }
    }
  ]
}